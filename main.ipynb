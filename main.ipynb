{
 "cells": [
  {
   "cell_type": "code",
   "execution_count": 1,
   "id": "7276b229",
   "metadata": {},
   "outputs": [],
   "source": [
    "import os\n",
    "import pandas as pd\n",
    "import shutil, os\n",
    "import numpy as np\n",
    "import pandas as pd\n",
    "# import cv2\n",
    "import matplotlib.pyplot as plt\n",
    "%matplotlib inline\n",
    "from sklearn.model_selection import train_test_split\n",
    "from sklearn.preprocessing import Binarizer, MultiLabelBinarizer\n",
    "\n",
    "import tensorflow as tf\n",
    "# from tensorflow.keras.layers import Dropout, Flatten, Dense, InputLayer\n",
    "from tensorflow.keras.callbacks import EarlyStopping, ModelCheckpoint, Callback, ReduceLROnPlateau\n",
    "# from tensorflow.keras import Sequential\n",
    "from tensorflow.keras.preprocessing.image import ImageDataGenerator\n",
    "from tensorflow.keras.backend import clear_session\n",
    "\n",
    "import keras\n",
    "from keras import backend as K\n",
    "from keras.regularizers import l2\n",
    "from keras.callbacks import ModelCheckpoint\n",
    "from keras.layers import Dense, Dropout, Flatten, Conv2D, MaxPool2D, AveragePooling2D\n",
    "from keras.layers.normalization import BatchNormalization\n",
    "from keras.models import Sequential\n",
    "from keras.optimizers import Adam\n",
    "\n",
    "### model py files\n",
    "import CNN_Baseline as baseline\n",
    "import CNN_C as dropout\n",
    "import CNN_D as batchN\n",
    "import CNN_E as mobnet\n",
    "import CNN_E as vgg16"
   ]
  },
  {
   "cell_type": "code",
   "execution_count": 2,
   "id": "47addf57",
   "metadata": {},
   "outputs": [],
   "source": [
    "### Choose which GPU to use - HEX SERVER ONLY. Go to https://hex.cs.bath.ac.uk/usage for current usage\n",
    "# import os \n",
    "# os.environ['CUDA_VISIBLE_DEVICES'] = '1'\n",
    "\n",
    "### Prevent GPU memory overflow\n",
    "# from tensorflow.compat.v1 import ConfigProto\n",
    "# from tensorflow.compat.v1 import InteractiveSession\n",
    "\n",
    "# config = ConfigProto()\n",
    "# config.gpu_options.allow_growth = True\n",
    "# session = InteractiveSession(config=config)\n",
    "\n",
    "\n",
    "# ### For M1 Mac only\n",
    "# # Import mlcompute module to use the optional set_mlc_device API for device selection with ML Compute.\n",
    "# from tensorflow.python.compiler.mlcompute import mlcompute\n",
    "\n",
    "# # Select CPU device.\n",
    "# mlcompute.set_mlc_device(device_name='gpu') # Available options are 'cpu', 'gpu', and 'any'."
   ]
  },
  {
   "cell_type": "code",
   "execution_count": 3,
   "id": "bb069ecf",
   "metadata": {},
   "outputs": [],
   "source": [
    "INPUT_SHAPE = (128, 128, 3) # Image Dimensions\n",
    "BATCH_SIZE = 128\n",
    "DROPOUT_RATE = 0.5\n",
    "EPOCHS = 50\n",
    "LR = 0.0001 # Learning Rate\n",
    "REG_STRENGTH = 0.01 # Regularization Strength\n",
    "WORKERS = 4 # Multithreading no of threads\n",
    "MAXQ = 10 # Max Queue size for multithreading\n",
    "THRES = [0.2] * 17 # Threshold for truth value of label, applied on sigmoid output."
   ]
  },
  {
   "cell_type": "code",
   "execution_count": 26,
   "id": "3d7dea9f",
   "metadata": {},
   "outputs": [],
   "source": [
    "DATASET_PATH = 'dataset/'\n",
    "TRAIN_PATH = DATASET_PATH + 'train_file'\n",
    "TEST_PATH = DATASET_PATH + 'test_file'\n",
    "\n",
    "TRAIN_CSV_PATH = DATASET_PATH + 'train_label.csv'\n",
    "TEST_CSV_PATH = DATASET_PATH + 'test_label.csv'"
   ]
  },
  {
   "cell_type": "code",
   "execution_count": 5,
   "id": "2fbcf03a",
   "metadata": {},
   "outputs": [],
   "source": [
    "df_train = pd.read_csv(TRAIN_CSV_PATH)\n",
    "df_test = pd.read_csv(TEST_CSV_PATH)\n",
    "\n",
    "df_train['image_name'] = df_train['image_name'].astype(str)\n",
    "df_test['image_name'] = df_test['image_name'].astype(str)\n",
    "\n",
    "df_train['tags'] = df_train['tags'].apply(lambda x: x.split(' '))\n",
    "df_test['tags'] = df_test['tags'].apply(lambda x: x.split(' '))\n",
    "\n",
    "X_train_files_o = np.array(df_train['image_name'].tolist()) # filenames\n",
    "X_train_files_o.reshape((X_train_files_o.shape[0], 1))\n",
    "y_train_o = np.array(df_train['tags'].tolist(), dtype=object) # train image tags (ground truth)\n",
    "y_test_o = np.array(df_test['tags'].tolist(), dtype=object) # test image tags (ground truth)"
   ]
  },
  {
   "cell_type": "code",
   "execution_count": 7,
   "id": "b53a9b75",
   "metadata": {},
   "outputs": [
    {
     "name": "stdout",
     "output_type": "stream",
     "text": [
      "['agriculture', 'artisinal_mine', 'bare_ground', 'blooming', 'blow_down', 'clear', 'cloudy', 'conventional_mine', 'cultivation', 'habitation', 'haze', 'partly_cloudy', 'primary', 'road', 'selective_logging', 'slash_burn', 'water']\n",
      "\n",
      "17 unique tags\n"
     ]
    }
   ],
   "source": [
    "# check labels in tags and how many there are\n",
    "tags = df_train['tags'].values\n",
    "\n",
    "flat_list = [item for sublist in tags for item in sublist]\n",
    "tags_unique, tags_count = np.unique(flat_list, return_counts=True)\n",
    "labels = list(tags_unique)\n",
    "\n",
    "print(labels)\n",
    "print()\n",
    "print(len(labels), \"unique tags\")"
   ]
  },
  {
   "cell_type": "code",
   "execution_count": 8,
   "id": "150d0c81",
   "metadata": {
    "scrolled": false
   },
   "outputs": [
    {
     "data": {
      "image/png": "[encoded data removed]",
      "text/plain": [
       "<Figure size 864x576 with 1 Axes>"
      ]
     },
     "metadata": {
      "needs_background": "light"
     },
     "output_type": "display_data"
    }
   ],
   "source": [
    "# Distribution of the labels\n",
    "\n",
    "plt.figure(figsize=(12, 8))\n",
    "            \n",
    "plt.bar(range(len(tags_count)), list(tags_count), align='center')\n",
    "plt.xticks(range(len(tags_count)), list(labels), rotation=90)\n",
    "\n",
    "plt.show()"
   ]
  },
  {
   "cell_type": "code",
   "execution_count": 9,
   "id": "d8b133f4",
   "metadata": {},
   "outputs": [],
   "source": [
    "# Define learning curve and evaluation metric (f-2 Beta score):\n",
    "\n",
    "def learning_curve(model_fit, key='acc', ylim=(0.8, 1.01)):\n",
    "    plt.figure(figsize=(12,6))\n",
    "    plt.plot(model_fit.history[key])\n",
    "    plt.plot(model_fit.history['val_' + key])\n",
    "    plt.title('Learning Curve')\n",
    "    plt.ylabel(key.title())\n",
    "    plt.xlabel('Epoch')\n",
    "    plt.ylim(ylim)\n",
    "    plt.legend(['train', 'test'], loc='best')\n",
    "    plt.show()\n",
    "\n",
    "# F-Beta Score\n",
    "def fbeta_score_K(y_true, y_pred):\n",
    "    beta = 2\n",
    "    beta_squared = beta ** 2\n",
    "    tp = K.sum(y_true * y_pred) + K.epsilon()\n",
    "    fp = K.sum(y_pred) - tp\n",
    "    fn = K.sum(y_true) - tp\n",
    "\n",
    "    precision = tp / (tp + fp)\n",
    "    recall = tp / (tp + fn)\n",
    "\n",
    "    result = (beta_squared + 1) * (precision * recall) / (beta_squared * precision + recall + K.epsilon())\n",
    "    return result\n",
    "\n",
    "from sklearn.metrics import fbeta_score\n",
    "\n",
    "\n",
    "def calc_acc(y_test, y_pred, labels=labels, threshold=0.2):\n",
    "    \n",
    "    array_labels = np.array(labels)\n",
    "    test = y_test\n",
    "    pred = y_pred\n",
    "    \n",
    "    # Binarize pred to 0 and 1...\n",
    "    binarizer = Binarizer(threshold=threshold)\n",
    "    pred = binarizer.fit_transform(pred)\n",
    "    # 0 and 1 to False and True for boolean indexing...\n",
    "    pred = pred > 0\n",
    "    \n",
    "    preds = []\n",
    "    for row in pred:\n",
    "        preds.append(array_labels[row])\n",
    "    \n",
    "    mlb = MultiLabelBinarizer(classes=array_labels)\n",
    "    \n",
    "    test = mlb.fit_transform(test)\n",
    "    preds = mlb.transform(preds)\n",
    "    score = fbeta_score(test, preds, beta=2, average='weighted')\n",
    "    \n",
    "    return score\n",
    "\n",
    "\n",
    "def plot(result, csv_filename):\n",
    "    train_history = pd.DataFrame(result)\n",
    "\n",
    "    train_history.to_csv(csv_filename, sep=',')\n",
    "    plt.plot(train_history['fbeta_score_K'])\n",
    "    plt.plot(train_history['val_fbeta_score_K'])\n",
    "    plt.title('model accuracy')\n",
    "    plt.ylabel('fbeta_score_K')\n",
    "    plt.xlabel('epoch')\n",
    "    plt.legend(['train', 'validation'], loc='upper left')\n",
    "    plt.show()\n",
    "\n",
    "    plt.plot(train_history['loss'])\n",
    "    plt.plot(train_history['val_loss'])\n",
    "    plt.title('model loss')\n",
    "    plt.ylabel('loss')\n",
    "    plt.xlabel('epoch')\n",
    "    plt.legend(['train', 'validation'], loc='upper left')\n",
    "    plt.show()"
   ]
  },
  {
   "cell_type": "code",
   "execution_count": 29,
   "id": "0fb1a5f1",
   "metadata": {},
   "outputs": [
    {
     "data": {
      "text/html": [
       "<div>\n",
       "<style scoped>\n",
       "    .dataframe tbody tr th:only-of-type {\n",
       "        vertical-align: middle;\n",
       "    }\n",
       "\n",
       "    .dataframe tbody tr th {\n",
       "        vertical-align: top;\n",
       "    }\n",
       "\n",
       "    .dataframe thead th {\n",
       "        text-align: right;\n",
       "    }\n",
       "</style>\n",
       "<table border=\"1\" class=\"dataframe\">\n",
       "  <thead>\n",
       "    <tr style=\"text-align: right;\">\n",
       "      <th></th>\n",
       "      <th>image_name</th>\n",
       "      <th>tags</th>\n",
       "    </tr>\n",
       "  </thead>\n",
       "  <tbody>\n",
       "    <tr>\n",
       "      <th>0</th>\n",
       "      <td>test_32752.jpg</td>\n",
       "      <td>[clear, primary]</td>\n",
       "    </tr>\n",
       "    <tr>\n",
       "      <th>1</th>\n",
       "      <td>test_7767.jpg</td>\n",
       "      <td>[clear, primary]</td>\n",
       "    </tr>\n",
       "    <tr>\n",
       "      <th>2</th>\n",
       "      <td>test_4254.jpg</td>\n",
       "      <td>[agriculture, clear, cultivation, primary]</td>\n",
       "    </tr>\n",
       "    <tr>\n",
       "      <th>3</th>\n",
       "      <td>test_23119.jpg</td>\n",
       "      <td>[clear, primary]</td>\n",
       "    </tr>\n",
       "    <tr>\n",
       "      <th>4</th>\n",
       "      <td>test_22101.jpg</td>\n",
       "      <td>[agriculture, clear, primary]</td>\n",
       "    </tr>\n",
       "    <tr>\n",
       "      <th>...</th>\n",
       "      <td>...</td>\n",
       "      <td>...</td>\n",
       "    </tr>\n",
       "    <tr>\n",
       "      <th>8091</th>\n",
       "      <td>test_14994.jpg</td>\n",
       "      <td>[clear, primary]</td>\n",
       "    </tr>\n",
       "    <tr>\n",
       "      <th>8092</th>\n",
       "      <td>test_12945.jpg</td>\n",
       "      <td>[haze, primary]</td>\n",
       "    </tr>\n",
       "    <tr>\n",
       "      <th>8093</th>\n",
       "      <td>test_9238.jpg</td>\n",
       "      <td>[clear, primary]</td>\n",
       "    </tr>\n",
       "    <tr>\n",
       "      <th>8094</th>\n",
       "      <td>test_36600.jpg</td>\n",
       "      <td>[cloudy]</td>\n",
       "    </tr>\n",
       "    <tr>\n",
       "      <th>8095</th>\n",
       "      <td>test_3133.jpg</td>\n",
       "      <td>[clear, primary]</td>\n",
       "    </tr>\n",
       "  </tbody>\n",
       "</table>\n",
       "<p>8096 rows × 2 columns</p>\n",
       "</div>"
      ],
      "text/plain": [
       "          image_name                                        tags\n",
       "0     test_32752.jpg                            [clear, primary]\n",
       "1      test_7767.jpg                            [clear, primary]\n",
       "2      test_4254.jpg  [agriculture, clear, cultivation, primary]\n",
       "3     test_23119.jpg                            [clear, primary]\n",
       "4     test_22101.jpg               [agriculture, clear, primary]\n",
       "...              ...                                         ...\n",
       "8091  test_14994.jpg                            [clear, primary]\n",
       "8092  test_12945.jpg                             [haze, primary]\n",
       "8093   test_9238.jpg                            [clear, primary]\n",
       "8094  test_36600.jpg                                    [cloudy]\n",
       "8095   test_3133.jpg                            [clear, primary]\n",
       "\n",
       "[8096 rows x 2 columns]"
      ]
     },
     "execution_count": 29,
     "metadata": {},
     "output_type": "execute_result"
    }
   ],
   "source": [
    "df_test"
   ]
  },
  {
   "cell_type": "code",
   "execution_count": 31,
   "id": "487769a8",
   "metadata": {},
   "outputs": [
    {
     "data": {
      "text/plain": [
       "array([list(['clear', 'primary']), list(['clear', 'primary']),\n",
       "       list(['agriculture', 'clear', 'cultivation', 'primary']), ...,\n",
       "       list(['clear', 'primary']), list(['cloudy']),\n",
       "       list(['clear', 'primary'])], dtype=object)"
      ]
     },
     "execution_count": 31,
     "metadata": {},
     "output_type": "execute_result"
    }
   ],
   "source": [
    "y_test_o"
   ]
  },
  {
   "cell_type": "code",
   "execution_count": null,
   "id": "982a9aa1",
   "metadata": {},
   "outputs": [],
   "source": []
  },
  {
   "cell_type": "code",
   "execution_count": 10,
   "id": "571ed33c",
   "metadata": {},
   "outputs": [],
   "source": [
    "def data_generator(X_train_files_o, y_train_o, base_flg):\n",
    "    X_train_files, X_val_files, y_train, y_val = train_test_split(X_train_files_o, y_train_o, test_size=0.2, random_state=0)\n",
    "\n",
    "    train_df = pd.DataFrame(list(zip(X_train_files, y_train)), columns = ['image_name', 'tags'])\n",
    "    val_df = pd.DataFrame(list(zip(X_val_files, y_val)), columns = ['image_name', 'tags'])\n",
    "\n",
    "    train_df['tags'] = train_df['tags']\n",
    "    val_df['tags'] = val_df['tags']\n",
    "    \n",
    "    if base_flg == 1:\n",
    "        train_datagen = ImageDataGenerator(\n",
    "            rescale=1./255\n",
    "            )\n",
    "    else:\n",
    "        train_datagen = ImageDataGenerator(\n",
    "            rescale=1./255,\n",
    "            width_shift_range=0.2,\n",
    "            height_shift_range=0.2,\n",
    "            horizontal_flip=True,\n",
    "            vertical_flip=True\n",
    "            )\n",
    "        \n",
    "    train_generator = train_datagen.flow_from_dataframe(\n",
    "        train_df,\n",
    "        directory=TRAIN_PATH,\n",
    "        x_col='image_name',\n",
    "        y_col='tags',\n",
    "        target_size=(INPUT_SHAPE[0], INPUT_SHAPE[1]),\n",
    "        class_mode='categorical',\n",
    "        batch_size=BATCH_SIZE,\n",
    "        classes=labels,\n",
    "        )\n",
    "\n",
    "    val_datagen = ImageDataGenerator(\n",
    "        rescale=1./255\n",
    "        )\n",
    "\n",
    "    val_generator = val_datagen.flow_from_dataframe(\n",
    "        val_df,\n",
    "        directory=TRAIN_PATH,\n",
    "        x_col='image_name',\n",
    "        y_col='tags',\n",
    "        target_size=(INPUT_SHAPE[0], INPUT_SHAPE[1]),\n",
    "        class_mode='categorical',\n",
    "        batch_size=BATCH_SIZE,\n",
    "        classes=labels,\n",
    "        )\n",
    "\n",
    "    test_datagen = ImageDataGenerator(\n",
    "        rescale=1./255\n",
    "        )\n",
    "\n",
    "    test_generator = test_datagen.flow_from_dataframe(\n",
    "        df_test,\n",
    "        directory=TEST_PATH,\n",
    "        x_col='image_name',\n",
    "        y_col='tags',\n",
    "        target_size=(INPUT_SHAPE[0], INPUT_SHAPE[1]),\n",
    "        class_mode='categorical',\n",
    "        batch_size=BATCH_SIZE,\n",
    "        classes=labels,\n",
    "        shuffle=False,\n",
    "        )\n",
    "    return train_generator,val_generator,test_generator"
   ]
  },
  {
   "cell_type": "markdown",
   "id": "34fe2bb2",
   "metadata": {},
   "source": [
    "### CNN Baseline"
   ]
  },
  {
   "cell_type": "code",
   "execution_count": 27,
   "id": "e61e1d5f",
   "metadata": {
    "scrolled": true
   },
   "outputs": [],
   "source": [
    "train_generator, val_generator, test_generator = data_generator(X_train_files_o, y_train_o,1)\n",
    "model_path = 'CNN_Baseline_weights' + '.h5'\n",
    "\n",
    "\n",
    "adam = Adam(learning_rate=LR)\n",
    "\n",
    "cnn_base_model = baseline.create_model()\n",
    "\n",
    "clear_session()\n",
    "\n",
    "cnn_base_model.compile(loss='binary_crossentropy', optimizer=adam, metrics=[fbeta_score_K])\n",
    "\n",
    "callbacks = [\n",
    "    ModelCheckpoint(model_path, monitor='val_fbeta_score_K', save_best_only=True, mode='max'),\n",
    "    ReduceLROnPlateau(monitor='loss', factor=0.1, patience=3, mode='min', min_lr=0.000001)\n",
    "]\n",
    "\n",
    "history = cnn_base_model.fit(train_generator, epochs=EPOCHS, validation_data=val_generator, callbacks=callbacks,\n",
    "                   workers=WORKERS, use_multiprocessing=False, max_queue_size=MAXQ)\n",
    "\n",
    "# print('here', history.history.keys())\n",
    "\n",
    "\n",
    "cnn_base_model.load_weights(model_path)\n",
    "\n",
    "y_pred_b = cnn_base_model.predict(test_generator, workers=WORKERS, use_multiprocessing=False, max_queue_size=MAXQ)"
   ]
  },
  {
   "cell_type": "code",
   "execution_count": 28,
   "id": "b9287ce9",
   "metadata": {
    "scrolled": false
   },
   "outputs": [
    {
     "name": "stdout",
     "output_type": "stream",
     "text": [
      "Test Accuracy Score 0.8615274766955602\n"
     ]
    }
   ],
   "source": [
    "plot(history.history,'CNN_Baseline_train_history.csv')\n",
    "print(\"Test Accuracy Score\", calc_acc(y_test_o, y_pred_b))"
   ]
  },
  {
   "cell_type": "code",
   "execution_count": null,
   "id": "6d4c3799",
   "metadata": {},
   "outputs": [],
   "source": []
  },
  {
   "cell_type": "markdown",
   "id": "bdf5dc5f",
   "metadata": {},
   "source": [
    "### CNN_Baseline + Haze removed data"
   ]
  },
  {
   "cell_type": "code",
   "execution_count": 16,
   "id": "7220217a",
   "metadata": {},
   "outputs": [],
   "source": [
    "### Import haze removed dataset\n",
    "DATASET_PATH = 'dataset-haze-removed/'\n",
    "TRAIN_PATH = DATASET_PATH + 'train_file'\n",
    "TEST_PATH = DATASET_PATH + 'test_file'"
   ]
  },
  {
   "cell_type": "code",
   "execution_count": 18,
   "id": "45e9f561",
   "metadata": {
    "scrolled": true
   },
   "outputs": [
    {
     "name": "stdout",
     "output_type": "stream",
     "text": [
      "Found 25906 validated image filenames belonging to 17 classes.\n",
      "Found 6477 validated image filenames belonging to 17 classes.\n",
      "Found 8096 validated image filenames belonging to 17 classes.\n",
      "Epoch 1/50\n",
      "203/203 [==============================] - 49s 237ms/step - loss: 0.3779 - fbeta_score_K: 0.4900 - val_loss: 0.2356 - val_fbeta_score_K: 0.5738\n",
      "Epoch 2/50\n",
      "203/203 [==============================] - 48s 238ms/step - loss: 0.2174 - fbeta_score_K: 0.6087 - val_loss: 0.1855 - val_fbeta_score_K: 0.6763\n",
      "Epoch 3/50\n",
      "203/203 [==============================] - 49s 240ms/step - loss: 0.1862 - fbeta_score_K: 0.6724 - val_loss: 0.1722 - val_fbeta_score_K: 0.6799\n",
      "Epoch 4/50\n",
      "203/203 [==============================] - 49s 242ms/step - loss: 0.1686 - fbeta_score_K: 0.7033 - val_loss: 0.1687 - val_fbeta_score_K: 0.7119\n",
      "Epoch 5/50\n",
      "203/203 [==============================] - 49s 241ms/step - loss: 0.1632 - fbeta_score_K: 0.7163 - val_loss: 0.1623 - val_fbeta_score_K: 0.7277\n",
      "Epoch 6/50\n",
      "203/203 [==============================] - 49s 241ms/step - loss: 0.1560 - fbeta_score_K: 0.7286 - val_loss: 0.1508 - val_fbeta_score_K: 0.7414\n",
      "Epoch 7/50\n",
      "203/203 [==============================] - 50s 244ms/step - loss: 0.1483 - fbeta_score_K: 0.7434 - val_loss: 0.1472 - val_fbeta_score_K: 0.7386\n",
      "Epoch 8/50\n",
      "203/203 [==============================] - 50s 247ms/step - loss: 0.1436 - fbeta_score_K: 0.7509 - val_loss: 0.1412 - val_fbeta_score_K: 0.7611\n",
      "Epoch 9/50\n",
      "203/203 [==============================] - 51s 251ms/step - loss: 0.1405 - fbeta_score_K: 0.7570 - val_loss: 0.1384 - val_fbeta_score_K: 0.7619\n",
      "Epoch 10/50\n",
      "203/203 [==============================] - 51s 251ms/step - loss: 0.1373 - fbeta_score_K: 0.7618 - val_loss: 0.1364 - val_fbeta_score_K: 0.7566\n",
      "Epoch 11/50\n",
      "203/203 [==============================] - 51s 251ms/step - loss: 0.1336 - fbeta_score_K: 0.7677 - val_loss: 0.1346 - val_fbeta_score_K: 0.7686\n",
      "Epoch 12/50\n",
      "203/203 [==============================] - 52s 253ms/step - loss: 0.1337 - fbeta_score_K: 0.7693 - val_loss: 0.1328 - val_fbeta_score_K: 0.7664\n",
      "Epoch 13/50\n",
      "203/203 [==============================] - 52s 254ms/step - loss: 0.1321 - fbeta_score_K: 0.7714 - val_loss: 0.1346 - val_fbeta_score_K: 0.7675\n",
      "Epoch 14/50\n",
      "203/203 [==============================] - 52s 253ms/step - loss: 0.1301 - fbeta_score_K: 0.7744 - val_loss: 0.1390 - val_fbeta_score_K: 0.7594\n",
      "Epoch 15/50\n",
      "203/203 [==============================] - 52s 255ms/step - loss: 0.1279 - fbeta_score_K: 0.7791 - val_loss: 0.1317 - val_fbeta_score_K: 0.7832\n",
      "Epoch 16/50\n",
      "203/203 [==============================] - 52s 255ms/step - loss: 0.1247 - fbeta_score_K: 0.7838 - val_loss: 0.1292 - val_fbeta_score_K: 0.7781\n",
      "Epoch 17/50\n",
      "203/203 [==============================] - 52s 255ms/step - loss: 0.1234 - fbeta_score_K: 0.7855 - val_loss: 0.1304 - val_fbeta_score_K: 0.7771\n",
      "Epoch 18/50\n",
      "203/203 [==============================] - 52s 256ms/step - loss: 0.1219 - fbeta_score_K: 0.7889 - val_loss: 0.1284 - val_fbeta_score_K: 0.7826\n",
      "Epoch 19/50\n",
      "203/203 [==============================] - 52s 256ms/step - loss: 0.1237 - fbeta_score_K: 0.7876 - val_loss: 0.1259 - val_fbeta_score_K: 0.7807\n",
      "Epoch 20/50\n",
      "203/203 [==============================] - 52s 256ms/step - loss: 0.1210 - fbeta_score_K: 0.7889 - val_loss: 0.1264 - val_fbeta_score_K: 0.7854\n",
      "Epoch 21/50\n",
      "203/203 [==============================] - 52s 256ms/step - loss: 0.1193 - fbeta_score_K: 0.7936 - val_loss: 0.1254 - val_fbeta_score_K: 0.7885\n",
      "Epoch 22/50\n",
      "203/203 [==============================] - 52s 256ms/step - loss: 0.1167 - fbeta_score_K: 0.7978 - val_loss: 0.1259 - val_fbeta_score_K: 0.7939\n",
      "Epoch 23/50\n",
      "203/203 [==============================] - 52s 256ms/step - loss: 0.1170 - fbeta_score_K: 0.7972 - val_loss: 0.1267 - val_fbeta_score_K: 0.7792\n",
      "Epoch 24/50\n",
      "203/203 [==============================] - 52s 256ms/step - loss: 0.1152 - fbeta_score_K: 0.7995 - val_loss: 0.1268 - val_fbeta_score_K: 0.8011\n",
      "Epoch 25/50\n",
      "203/203 [==============================] - 52s 255ms/step - loss: 0.1133 - fbeta_score_K: 0.8028 - val_loss: 0.1262 - val_fbeta_score_K: 0.7977\n",
      "Epoch 26/50\n",
      "203/203 [==============================] - 52s 257ms/step - loss: 0.1118 - fbeta_score_K: 0.8053 - val_loss: 0.1226 - val_fbeta_score_K: 0.7943\n",
      "Epoch 27/50\n",
      "203/203 [==============================] - 52s 255ms/step - loss: 0.1121 - fbeta_score_K: 0.8057 - val_loss: 0.1242 - val_fbeta_score_K: 0.7970\n",
      "Epoch 28/50\n",
      "203/203 [==============================] - 52s 255ms/step - loss: 0.1108 - fbeta_score_K: 0.8088 - val_loss: 0.1223 - val_fbeta_score_K: 0.7926\n",
      "Epoch 29/50\n",
      "203/203 [==============================] - 52s 256ms/step - loss: 0.1083 - fbeta_score_K: 0.8114 - val_loss: 0.1232 - val_fbeta_score_K: 0.7984\n",
      "Epoch 30/50\n",
      "203/203 [==============================] - 52s 257ms/step - loss: 0.1088 - fbeta_score_K: 0.8115 - val_loss: 0.1241 - val_fbeta_score_K: 0.8028\n",
      "Epoch 31/50\n",
      "203/203 [==============================] - 52s 257ms/step - loss: 0.1068 - fbeta_score_K: 0.8158 - val_loss: 0.1225 - val_fbeta_score_K: 0.8017\n",
      "Epoch 32/50\n",
      "203/203 [==============================] - 52s 256ms/step - loss: 0.1067 - fbeta_score_K: 0.8146 - val_loss: 0.1229 - val_fbeta_score_K: 0.7978\n",
      "Epoch 33/50\n",
      "203/203 [==============================] - 52s 257ms/step - loss: 0.1041 - fbeta_score_K: 0.8182 - val_loss: 0.1245 - val_fbeta_score_K: 0.7967\n",
      "Epoch 34/50\n",
      "203/203 [==============================] - 52s 257ms/step - loss: 0.1033 - fbeta_score_K: 0.8195 - val_loss: 0.1224 - val_fbeta_score_K: 0.8072\n",
      "Epoch 35/50\n",
      "203/203 [==============================] - 53s 258ms/step - loss: 0.1013 - fbeta_score_K: 0.8238 - val_loss: 0.1259 - val_fbeta_score_K: 0.8057\n",
      "Epoch 36/50\n",
      "203/203 [==============================] - 53s 258ms/step - loss: 0.0985 - fbeta_score_K: 0.8270 - val_loss: 0.1260 - val_fbeta_score_K: 0.8010\n",
      "Epoch 37/50\n",
      "203/203 [==============================] - 52s 257ms/step - loss: 0.0977 - fbeta_score_K: 0.8279 - val_loss: 0.1251 - val_fbeta_score_K: 0.8063\n",
      "Epoch 38/50\n",
      "203/203 [==============================] - 53s 257ms/step - loss: 0.0971 - fbeta_score_K: 0.8290 - val_loss: 0.1277 - val_fbeta_score_K: 0.7993\n",
      "Epoch 39/50\n",
      "203/203 [==============================] - 53s 257ms/step - loss: 0.0952 - fbeta_score_K: 0.8330 - val_loss: 0.1261 - val_fbeta_score_K: 0.8077\n",
      "Epoch 40/50\n",
      "203/203 [==============================] - 53s 257ms/step - loss: 0.0923 - fbeta_score_K: 0.8383 - val_loss: 0.1275 - val_fbeta_score_K: 0.8030\n",
      "Epoch 41/50\n",
      "203/203 [==============================] - 53s 257ms/step - loss: 0.0925 - fbeta_score_K: 0.8384 - val_loss: 0.1298 - val_fbeta_score_K: 0.8071\n",
      "Epoch 42/50\n",
      "203/203 [==============================] - 53s 257ms/step - loss: 0.0885 - fbeta_score_K: 0.8449 - val_loss: 0.1365 - val_fbeta_score_K: 0.8137\n",
      "Epoch 43/50\n",
      "203/203 [==============================] - 52s 258ms/step - loss: 0.0892 - fbeta_score_K: 0.8448 - val_loss: 0.1373 - val_fbeta_score_K: 0.8096\n",
      "Epoch 44/50\n",
      "203/203 [==============================] - 53s 258ms/step - loss: 0.0832 - fbeta_score_K: 0.8531 - val_loss: 0.1358 - val_fbeta_score_K: 0.8146\n",
      "Epoch 45/50\n",
      "203/203 [==============================] - 53s 257ms/step - loss: 0.0802 - fbeta_score_K: 0.8585 - val_loss: 0.1404 - val_fbeta_score_K: 0.8159\n",
      "Epoch 46/50\n",
      "203/203 [==============================] - 53s 257ms/step - loss: 0.0787 - fbeta_score_K: 0.8610 - val_loss: 0.1414 - val_fbeta_score_K: 0.8171\n",
      "Epoch 47/50\n",
      "203/203 [==============================] - 52s 258ms/step - loss: 0.0773 - fbeta_score_K: 0.8632 - val_loss: 0.1500 - val_fbeta_score_K: 0.8166\n",
      "Epoch 48/50\n",
      "203/203 [==============================] - 53s 259ms/step - loss: 0.0738 - fbeta_score_K: 0.8698 - val_loss: 0.1523 - val_fbeta_score_K: 0.8165\n",
      "Epoch 49/50\n",
      "203/203 [==============================] - 52s 257ms/step - loss: 0.0710 - fbeta_score_K: 0.8748 - val_loss: 0.1649 - val_fbeta_score_K: 0.8141\n",
      "Epoch 50/50\n",
      "203/203 [==============================] - 52s 257ms/step - loss: 0.0692 - fbeta_score_K: 0.8779 - val_loss: 0.1635 - val_fbeta_score_K: 0.8190\n",
      "here dict_keys(['loss', 'fbeta_score_K', 'val_loss', 'val_fbeta_score_K', 'lr'])\n"
     ]
    }
   ],
   "source": [
    "train_generator, val_generator, test_generator = data_generator(X_train_files_o, y_train_o, 1)\n",
    "model_path = 'CNN_Baseline_haze_weights' + '.h5'\n",
    "\n",
    "\n",
    "adam = Adam(learning_rate=LR)\n",
    "\n",
    "cnn_base_model = baseline.create_model()\n",
    "\n",
    "clear_session()\n",
    "\n",
    "cnn_base_model.compile(loss='binary_crossentropy', optimizer=adam, metrics=[fbeta_score_K])\n",
    "\n",
    "callbacks = [\n",
    "    ModelCheckpoint(model_path, monitor='val_fbeta_score_K', save_best_only=True, mode='max'),\n",
    "    ReduceLROnPlateau(monitor='loss', factor=0.1, patience=3, mode='min', min_lr=0.000001)\n",
    "]\n",
    "\n",
    "history = cnn_base_model.fit(train_generator, epochs=EPOCHS, validation_data=val_generator, callbacks=callbacks,\n",
    "                   workers=WORKERS, use_multiprocessing=False, max_queue_size=MAXQ)\n",
    "\n",
    "print('here', history.history.keys())\n",
    "\n",
    "\n",
    "cnn_base_model.load_weights(model_path)\n",
    "\n",
    "y_pred_b_hr = cnn_base_model.predict(test_generator, workers=WORKERS, use_multiprocessing=False, max_queue_size=MAXQ)"
   ]
  },
  {
   "cell_type": "code",
   "execution_count": 20,
   "id": "113b4b39",
   "metadata": {},
   "outputs": [],
   "source": [
    "y_pred_b_hr = y_pred_base_haze"
   ]
  },
  {
   "cell_type": "code",
   "execution_count": 21,
   "id": "2ad676e4",
   "metadata": {},
   "outputs": [
    {
     "data": {
      "image/png": "[encoded data removed]",
      "text/plain": [
       "<Figure size 432x288 with 1 Axes>"
      ]
     },
     "metadata": {
      "needs_background": "light"
     },
     "output_type": "display_data"
    },
    {
     "data": {
      "image/png": "[encoded data removed]",
      "text/plain": [
       "<Figure size 432x288 with 1 Axes>"
      ]
     },
     "metadata": {
      "needs_background": "light"
     },
     "output_type": "display_data"
    },
    {
     "name": "stdout",
     "output_type": "stream",
     "text": [
      "Test Accuracy Score 0.8615274766955602\n"
     ]
    }
   ],
   "source": [
    "plot(history.history,'CNN_Baseline_haze_train_history.csv')\n",
    "print(\"Test Accuracy Score\",calc_acc(y_test_o, y_pred_b_hr))"
   ]
  },
  {
   "cell_type": "markdown",
   "id": "ce890ffc",
   "metadata": {},
   "source": [
    "### A. CNN_Baseline + Haze Removal + Data Augmentation"
   ]
  },
  {
   "cell_type": "code",
   "execution_count": null,
   "id": "a80877d8",
   "metadata": {
    "scrolled": true
   },
   "outputs": [],
   "source": [
    "train_generator, val_generator, test_generator = data_generator(X_train_files_o, y_train_o, 0)\n",
    "\n",
    "model_path = 'CNN_A_weights' + '.h5'\n",
    "\n",
    "adam = Adam(learning_rate=LR)\n",
    "\n",
    "cnn_base_model = baseline.create_model()\n",
    "\n",
    "clear_session()\n",
    "\n",
    "cnn_base_model.compile(loss='binary_crossentropy', optimizer=adam, metrics=[fbeta_score_K])\n",
    "\n",
    "callbacks = [\n",
    "    ModelCheckpoint(model_path, monitor='val_fbeta_score_K', save_best_only=True, mode='max'),\n",
    "    ReduceLROnPlateau(monitor='loss', factor=0.1, patience=3, mode='min', min_lr=0.000001)\n",
    "]\n",
    "\n",
    "history = cnn_base_model.fit(train_generator, epochs=EPOCHS, validation_data=val_generator, callbacks=callbacks,\n",
    "                   workers=WORKERS, use_multiprocessing=False, max_queue_size=MAXQ)\n",
    "\n",
    "print('here', history.history.keys())\n",
    "\n",
    "\n",
    "cnn_base_model.load_weights(model_path)\n",
    "\n",
    "y_pred_b_hr_da = cnn_base_model.predict(test_generator, workers=WORKERS, use_multiprocessing=False, max_queue_size=MAXQ)"
   ]
  },
  {
   "cell_type": "code",
   "execution_count": null,
   "id": "89176cdb",
   "metadata": {},
   "outputs": [],
   "source": [
    "plot(history.history,'CNN_A_train_history.csv')\n",
    "print(\"Test Accuracy Score\", calc_acc(y_test_o, y_pred_b_hr_da))"
   ]
  },
  {
   "cell_type": "markdown",
   "id": "cab3e3bc",
   "metadata": {},
   "source": [
    "### B. CNN_Baseline + Haze Removal + Data Augmentation + Early Stopping"
   ]
  },
  {
   "cell_type": "code",
   "execution_count": null,
   "id": "b857ce0f",
   "metadata": {
    "scrolled": true
   },
   "outputs": [],
   "source": [
    "train_generator, val_generator, test_generator = data_generator(X_train_files_o, y_train_o,0)\n",
    "\n",
    "model_path = 'CNN_B_weights' + '.h5'\n",
    "\n",
    "\n",
    "adam = Adam(learning_rate=LR)\n",
    "\n",
    "cnn_base_model = baseline.create_model()\n",
    "\n",
    "clear_session()\n",
    "\n",
    "cnn_base_model.compile(loss='binary_crossentropy', optimizer=adam, metrics=[fbeta_score_K])\n",
    "\n",
    "callbacks = [\n",
    "    ModelCheckpoint(model_path, monitor='val_fbeta_score_K', save_best_only=True, mode='max'),\n",
    "    ReduceLROnPlateau(monitor='loss', factor=0.1, patience=3, mode='min', min_lr=0.000001),\n",
    "    EarlyStopping(monitor='val_loss', mode='min', verbose=1, patience=5),\n",
    "]\n",
    "\n",
    "history = cnn_base_model.fit(train_generator, epochs=EPOCHS, validation_data=val_generator, callbacks=callbacks,\n",
    "                   workers=WORKERS, use_multiprocessing=False, max_queue_size=MAXQ)\n",
    "\n",
    "print('here', history.history.keys())\n",
    "\n",
    "cnn_base_model.load_weights(model_path)\n",
    "\n",
    "y_pred_b_hr_da_es = cnn_base_model.predict(test_generator, workers=WORKERS, use_multiprocessing=False, max_queue_size=MAXQ)"
   ]
  },
  {
   "cell_type": "code",
   "execution_count": null,
   "id": "c61867d4",
   "metadata": {},
   "outputs": [],
   "source": [
    "plot(history.history,'CNN_B_train_history.csv')\n",
    "print(\"Test Accuracy Score\", calc_acc(y_test_o, y_pred_b_hr_da_es))"
   ]
  },
  {
   "cell_type": "markdown",
   "id": "29b7fda8",
   "metadata": {},
   "source": [
    "### C. CNN_Baseline + Haze Removal + Data Augmentation + Drop out"
   ]
  },
  {
   "cell_type": "code",
   "execution_count": null,
   "id": "ac86525c",
   "metadata": {
    "scrolled": true
   },
   "outputs": [],
   "source": [
    "train_generator, val_generator, test_generator = data_generator(X_train_files_o, y_train_o,0)\n",
    "\n",
    "model_path = 'CNN_C_weights' + '.h5'\n",
    "\n",
    "\n",
    "adam = Adam(learning_rate=LR)\n",
    "\n",
    "cnn_dropout_model = dropout.create_model(DROPOUT_RATE)\n",
    "\n",
    "clear_session()\n",
    "\n",
    "cnn_dropout_model.compile(loss='binary_crossentropy', optimizer=adam, metrics=[fbeta_score_K])\n",
    "\n",
    "callbacks = [\n",
    "    ModelCheckpoint(model_path, monitor='val_fbeta_score_K', save_best_only=True, mode='max'),\n",
    "    ReduceLROnPlateau(monitor='loss', factor=0.1, patience=3, mode='min', min_lr=0.000001),\n",
    "]\n",
    "\n",
    "history = cnn_dropout_model.fit(train_generator, epochs=EPOCHS, validation_data=val_generator, callbacks=callbacks,\n",
    "                   workers=WORKERS, use_multiprocessing=False, max_queue_size=MAXQ)\n",
    "\n",
    "print('here', history.history.keys())\n",
    "\n",
    "cnn_dropout_model.load_weights(model_path)\n",
    "\n",
    "y_pred_hr_da_do = cnn_dropout_model.predict(test_generator, workers=WORKERS, use_multiprocessing=False, max_queue_size=MAXQ)"
   ]
  },
  {
   "cell_type": "code",
   "execution_count": null,
   "id": "17dcb770",
   "metadata": {},
   "outputs": [],
   "source": [
    "plot(history.history,'CNN_C_train_history.csv')\n",
    "print(\"Test Accuracy Score\", calc_acc(y_test_o, y_pred_hr_da_do))"
   ]
  },
  {
   "cell_type": "markdown",
   "id": "16ca6b2b",
   "metadata": {},
   "source": [
    "### D. CNN_Baseline + Haze Removal + Data Augmentation + Drop out + Early Stopping"
   ]
  },
  {
   "cell_type": "code",
   "execution_count": null,
   "id": "117e0f7c",
   "metadata": {
    "scrolled": true
   },
   "outputs": [],
   "source": [
    "train_generator, val_generator, test_generator = data_generator(X_train_files_o, y_train_o,0)\n",
    "\n",
    "model_path = 'CNN_D_weights' + '.h5'\n",
    "\n",
    "\n",
    "adam = Adam(learning_rate=LR)\n",
    "\n",
    "cnn_dropout_model = dropout.create_model(DROPOUT_RATE)\n",
    "\n",
    "clear_session()\n",
    "\n",
    "cnn_dropout_model.compile(loss='binary_crossentropy', optimizer=adam, metrics=[fbeta_score_K])\n",
    "\n",
    "callbacks = [\n",
    "    ModelCheckpoint(model_path, monitor='val_fbeta_score_K', save_best_only=True, mode='max'),\n",
    "    ReduceLROnPlateau(monitor='loss', factor=0.1, patience=3, mode='min', min_lr=0.000001),\n",
    "    EarlyStopping(monitor='val_loss', mode='min', verbose=1, patience=5),\n",
    "]\n",
    "\n",
    "history = cnn_dropout_model.fit(train_generator, epochs=EPOCHS, validation_data=val_generator, callbacks=callbacks,\n",
    "                   workers=WORKERS, use_multiprocessing=False, max_queue_size=MAXQ)\n",
    "\n",
    "print('here', history.history.keys())\n",
    "\n",
    "cnn_dropout_model.load_weights(model_path)\n",
    "\n",
    "y_pred_hr_da_do_es = cnn_dropout_model.predict(test_generator, workers=WORKERS, use_multiprocessing=False, max_queue_size=MAXQ)"
   ]
  },
  {
   "cell_type": "code",
   "execution_count": null,
   "id": "7734c37d",
   "metadata": {},
   "outputs": [],
   "source": [
    "plot(history.history,'CNN_D_train_history.csv')\n",
    "print(\"Test Accuracy Score\", calc_acc(y_test_o, y_pred_hr_da_do_es))"
   ]
  },
  {
   "cell_type": "markdown",
   "id": "32d14dfe",
   "metadata": {},
   "source": [
    "### E. CNN_Baseline + Haze Removal + Data Augmentation + Batch Normalization + Drop out + Early Stopping"
   ]
  },
  {
   "cell_type": "code",
   "execution_count": null,
   "id": "c2f6bb7b",
   "metadata": {
    "scrolled": true
   },
   "outputs": [],
   "source": [
    "train_generator, val_generator, test_generator = data_generator(X_train_files_o, y_train_o,0)\n",
    "\n",
    "model_path = 'CNN_E_weights' + '.h5'\n",
    "\n",
    "\n",
    "adam = Adam(learning_rate=LR)\n",
    "\n",
    "cnn_batch_model = batchN.create_model(DROPOUT_RATE)\n",
    "\n",
    "clear_session()\n",
    "\n",
    "cnn_batch_model.compile(loss='binary_crossentropy', optimizer=adam, metrics=[fbeta_score_K])\n",
    "\n",
    "callbacks = [\n",
    "    ModelCheckpoint(model_path, monitor='val_fbeta_score_K', save_best_only=True, mode='max'),\n",
    "    ReduceLROnPlateau(monitor='loss', factor=0.1, patience=3, mode='min', min_lr=0.000001),\n",
    "    EarlyStopping(monitor='val_loss', mode='min', verbose=1, patience=5),\n",
    "]\n",
    "\n",
    "history = cnn_batch_model.fit(train_generator, epochs=EPOCHS, validation_data=val_generator, callbacks=callbacks,\n",
    "                   workers=WORKERS, use_multiprocessing=False, max_queue_size=MAXQ)\n",
    "\n",
    "print('here', history.history.keys())\n",
    "\n",
    "cnn_batch_model.load_weights(model_path)\n",
    "\n",
    "y_pred_hr_da_do_es_bn = cnn_batch_model.predict(test_generator, workers=WORKERS, use_multiprocessing=False, max_queue_size=MAXQ)"
   ]
  },
  {
   "cell_type": "code",
   "execution_count": null,
   "id": "6e301a58",
   "metadata": {},
   "outputs": [],
   "source": [
    "plot(history.history,'CNN_E_train_history.csv')\n",
    "print(\"Test Accuracy Score\", calc_acc(y_test_o, y_pred_hr_da_do_es_bn))"
   ]
  },
  {
   "cell_type": "markdown",
   "id": "352271fe",
   "metadata": {},
   "source": [
    "### F. MobileNet + Haze Removal + Data Augmentation + Early Stopping"
   ]
  },
  {
   "cell_type": "code",
   "execution_count": null,
   "id": "e59cb840",
   "metadata": {
    "scrolled": true
   },
   "outputs": [],
   "source": [
    "train_generator, val_generator, test_generator = data_generator(X_train_files_o, y_train_o,0)\n",
    "\n",
    "model_path = 'CNN_F_weights' + '.h5'\n",
    "\n",
    "\n",
    "adam = Adam(learning_rate=LR)\n",
    "\n",
    "mobnet_model = mobnet.create_model()\n",
    "\n",
    "clear_session()\n",
    "mobnet_model.compile(loss='binary_crossentropy', optimizer=adam, metrics=[fbeta_score_K])\n",
    "\n",
    "callbacks = [\n",
    "    ModelCheckpoint(model_path, monitor='val_fbeta_score_K', save_best_only=True, mode='max'),\n",
    "    ReduceLROnPlateau(monitor='loss', factor=0.1, patience=3, mode='min', min_lr=0.000001),\n",
    "    EarlyStopping(monitor='val_loss', mode='min', verbose=1, patience=5)\n",
    "]\n",
    "\n",
    "history = mobnet_model.fit(train_generator, epochs=EPOCHS, validation_data=val_generator, callbacks=callbacks,\n",
    "                   workers=WORKERS, use_multiprocessing=False, max_queue_size=MAXQ)\n",
    "\n",
    "print('here', history.history.keys())\n",
    "\n",
    "mobnet_model.load_weights(model_path)\n",
    "\n",
    "y_pred_mobnet = mobnet_model.predict(test_generator, workers=WORKERS, use_multiprocessing=False, max_queue_size=MAXQ)\n"
   ]
  },
  {
   "cell_type": "code",
   "execution_count": null,
   "id": "0884848b",
   "metadata": {},
   "outputs": [],
   "source": [
    "plot(history.history,'CNN_F_train_history.csv')\n",
    "print(\"Test Accuracy Score\", calc_acc(y_test_o, y_pred_mobnet))"
   ]
  },
  {
   "cell_type": "markdown",
   "id": "666e78bf",
   "metadata": {},
   "source": [
    "### G. VGG16 + Haze Removal + Data Augmentation + Early Stopping"
   ]
  },
  {
   "cell_type": "code",
   "execution_count": null,
   "id": "cc06c63f",
   "metadata": {
    "scrolled": true
   },
   "outputs": [],
   "source": [
    "train_generator, val_generator, test_generator = data_generator(X_train_files_o, y_train_o,0)\n",
    "\n",
    "model_path = 'CNN_G_weights' + '.h5'\n",
    "\n",
    "\n",
    "adam = Adam(learning_rate=LR)\n",
    "\n",
    "vgg16_model = vgg16.create_model()\n",
    "\n",
    "clear_session()\n",
    "vgg16_model.compile(loss='binary_crossentropy', optimizer=adam, metrics=[fbeta_score_K])\n",
    "\n",
    "callbacks = [\n",
    "    ModelCheckpoint(model_path, monitor='val_fbeta_score_K', save_best_only=True, mode='max'),\n",
    "    ReduceLROnPlateau(monitor='loss', factor=0.1, patience=3, mode='min', min_lr=0.000001),\n",
    "    EarlyStopping(monitor='val_loss', mode='min', verbose=1, patience=5)\n",
    "]\n",
    "\n",
    "history = vgg16_model.fit(train_generator, epochs=EPOCHS, validation_data=val_generator, callbacks=callbacks,\n",
    "                   workers=WORKERS, use_multiprocessing=False, max_queue_size=MAXQ)\n",
    "\n",
    "print('here', history.history.keys())\n",
    "\n",
    "vgg16_model.load_weights(model_path)\n",
    "\n",
    "y_pred_vgg16 = vgg16_model.predict(test_generator, workers=WORKERS, use_multiprocessing=False, max_queue_size=MAXQ)\n"
   ]
  },
  {
   "cell_type": "code",
   "execution_count": null,
   "id": "549b98b7",
   "metadata": {},
   "outputs": [],
   "source": [
    "plot(history.history,'CNN_G_train_history.csv')\n",
    "print(\"Test Accuracy Score\", calc_acc(y_test_o, y_pred_vgg16))"
   ]
  },
  {
   "cell_type": "markdown",
   "id": "1909bbf6",
   "metadata": {},
   "source": [
    "### XGBoost"
   ]
  },
  {
   "cell_type": "code",
   "execution_count": 32,
   "id": "c74f5376",
   "metadata": {},
   "outputs": [
    {
     "ename": "ModuleNotFoundError",
     "evalue": "No module named 'tqdm'",
     "output_type": "error",
     "traceback": [
      "\u001b[0;31m---------------------------------------------------------------------------\u001b[0m",
      "\u001b[0;31mModuleNotFoundError\u001b[0m                       Traceback (most recent call last)",
      "\u001b[0;32m<ipython-input-32-8aabedaa3118>\u001b[0m in \u001b[0;36m<module>\u001b[0;34m\u001b[0m\n\u001b[1;32m      3\u001b[0m \u001b[0;32mimport\u001b[0m \u001b[0mpandas\u001b[0m \u001b[0;32mas\u001b[0m \u001b[0mpd\u001b[0m\u001b[0;34m\u001b[0m\u001b[0;34m\u001b[0m\u001b[0m\n\u001b[1;32m      4\u001b[0m \u001b[0;32mimport\u001b[0m \u001b[0mrandom\u001b[0m\u001b[0;34m\u001b[0m\u001b[0;34m\u001b[0m\u001b[0m\n\u001b[0;32m----> 5\u001b[0;31m \u001b[0;32mfrom\u001b[0m \u001b[0mtqdm\u001b[0m \u001b[0;32mimport\u001b[0m \u001b[0mtqdm\u001b[0m\u001b[0;34m\u001b[0m\u001b[0;34m\u001b[0m\u001b[0m\n\u001b[0m\u001b[1;32m      6\u001b[0m \u001b[0;32mimport\u001b[0m \u001b[0mxgboost\u001b[0m \u001b[0;32mas\u001b[0m \u001b[0mxgb\u001b[0m\u001b[0;34m\u001b[0m\u001b[0;34m\u001b[0m\u001b[0m\n\u001b[1;32m      7\u001b[0m \u001b[0;32mimport\u001b[0m \u001b[0mscipy\u001b[0m\u001b[0;34m\u001b[0m\u001b[0;34m\u001b[0m\u001b[0m\n",
      "\u001b[0;31mModuleNotFoundError\u001b[0m: No module named 'tqdm'"
     ]
    }
   ],
   "source": [
    "import os\n",
    "import numpy as np\n",
    "import pandas as pd\n",
    "import random\n",
    "from tqdm import tqdm\n",
    "import xgboost as xgb\n",
    "import scipy\n",
    "from sklearn.metrics import fbeta_score\n",
    "from sklearn.preprocessing import MultiLabelBinarizer\n",
    "from sklearn.metrics import classification_report\n",
    "from PIL import Image"
   ]
  },
  {
   "cell_type": "code",
   "execution_count": null,
   "id": "4569de33",
   "metadata": {},
   "outputs": [],
   "source": [
    "# Set the seed \n",
    "random_seed = 1\n",
    "random.seed(random_seed)\n",
    "np.random.seed(random_seed)"
   ]
  },
  {
   "cell_type": "code",
   "execution_count": null,
   "id": "b0f29f0c",
   "metadata": {},
   "outputs": [],
   "source": [
    "df_train = pd.read_csv(TRAIN_CSV_PATH)\n",
    "df_test = pd.read_csv(TEST_CSV_PATH)"
   ]
  },
  {
   "cell_type": "code",
   "execution_count": null,
   "id": "80e26957",
   "metadata": {},
   "outputs": [],
   "source": [
    "# Function to extract the image features\n",
    "def extract_features(df, data_path):\n",
    "    im_features = df.copy()\n",
    "\n",
    "    N = len(im_features.image_name.values)\n",
    "\n",
    "    r_mean = np.zeros(N)\n",
    "    g_mean = np.zeros(N)\n",
    "    b_mean = np.zeros(N)\n",
    "\n",
    "    r_std = np.zeros(N)\n",
    "    g_std = np.zeros(N)\n",
    "    b_std = np.zeros(N)\n",
    "\n",
    "    r_max = np.zeros(N)\n",
    "    g_max = np.zeros(N)\n",
    "    b_max = np.zeros(N)\n",
    "\n",
    "    r_min = np.zeros(N)\n",
    "    g_min = np.zeros(N)\n",
    "    b_min = np.zeros(N)\n",
    "\n",
    "    r_kurtosis = np.zeros(N)\n",
    "    g_kurtosis = np.zeros(N)\n",
    "    b_kurtosis = np.zeros(N)\n",
    "    \n",
    "    r_skewness = np.zeros(N)\n",
    "    g_skewness = np.zeros(N)\n",
    "    b_skewness = np.zeros(N)\n",
    "\n",
    "    for i, image_name in enumerate(tqdm(im_features.image_name.values, miniters=1000)): \n",
    "        im = Image.open(data_path + image_name)\n",
    "        im = np.array(im)[:,:,:3]\n",
    "\n",
    "        r = im[:,:,0].ravel()\n",
    "        g = im[:,:,1].ravel()\n",
    "        b = im[:,:,2].ravel()\n",
    "        \n",
    "        r_mean[i] = np.mean(r)\n",
    "        g_mean[i] = np.mean(g)\n",
    "        b_mean[i] = np.mean(b)\n",
    "\n",
    "        r_std[i] = np.std(r)\n",
    "        g_std[i] = np.std(g)\n",
    "        b_std[i] = np.std(b)\n",
    "\n",
    "        r_max[i] = np.max(r)\n",
    "        g_max[i] = np.max(g)\n",
    "        b_max[i] = np.max(b)\n",
    "\n",
    "        r_min[i] = np.min(r)\n",
    "        g_min[i] = np.min(g)\n",
    "        b_min[i] = np.min(b)\n",
    "\n",
    "        r_kurtosis[i] = scipy.stats.kurtosis(r)\n",
    "        g_kurtosis[i] = scipy.stats.kurtosis(g)\n",
    "        b_kurtosis[i] = scipy.stats.kurtosis(b)\n",
    "        \n",
    "        r_skewness[i] = scipy.stats.skew(r)\n",
    "        g_skewness[i] = scipy.stats.skew(g)\n",
    "        b_skewness[i] = scipy.stats.skew(b)\n",
    "\n",
    "\n",
    "    im_features['r_mean'] = r_mean\n",
    "    im_features['g_mean'] = g_mean\n",
    "    im_features['b_mean'] = b_mean\n",
    "\n",
    "    im_features['rgb_mean_mean'] = (r_mean + g_mean + b_mean)/3.0\n",
    "\n",
    "    im_features['r_std'] = r_std\n",
    "    im_features['g_std'] = g_std\n",
    "    im_features['b_std'] = b_std\n",
    "\n",
    "    im_features['rgb_mean_std'] = (r_std + g_std + b_std)/3.0\n",
    "\n",
    "    im_features['r_max'] = r_max\n",
    "    im_features['g_max'] = g_max\n",
    "    im_features['b_max'] = b_max\n",
    "\n",
    "    im_features['rgb_mean_max'] = (r_max + r_max + b_max)/3.0\n",
    "\n",
    "    im_features['r_min'] = r_min\n",
    "    im_features['g_min'] = g_min\n",
    "    im_features['b_min'] = b_min\n",
    "\n",
    "    im_features['rgb_mean_min'] = (r_min + g_min + b_min)/3.0\n",
    "\n",
    "    im_features['r_range'] = r_max - r_min\n",
    "    im_features['g_range'] = g_max - g_min\n",
    "    im_features['b_range'] = b_max - b_min\n",
    "\n",
    "    im_features['r_kurtosis'] = r_kurtosis\n",
    "    im_features['g_kurtosis'] = g_kurtosis\n",
    "    im_features['b_kurtosis'] = b_kurtosis\n",
    "    \n",
    "    im_features['r_skewness'] = r_skewness\n",
    "    im_features['g_skewness'] = g_skewness\n",
    "    im_features['b_skewness'] = b_skewness\n",
    "    \n",
    "    return im_features"
   ]
  },
  {
   "cell_type": "code",
   "execution_count": null,
   "id": "bd958fa0",
   "metadata": {},
   "outputs": [],
   "source": [
    "# # Extract features\n",
    "# print('Extracting train features')\n",
    "# train_features = extract_features(df_train, TRAIN_PATH + '/')\n",
    "# print('Extracting test features')\n",
    "# test_features = extract_features(df_test, TEST_PATH + '/')"
   ]
  },
  {
   "cell_type": "code",
   "execution_count": null,
   "id": "a38c4af7",
   "metadata": {},
   "outputs": [],
   "source": [
    "# # Pickle the data\n",
    "# import pickle\n",
    "\n",
    "# train_feat = open('train_features_xgb.pickle', 'wb')\n",
    "# pickle.dump(train_features, train_feat, protocol=4)\n",
    "# train_feat.close()\n",
    "\n",
    "# test_feat = open('test_features_xgb.pickle', 'wb')\n",
    "# pickle.dump(test_features, test_feat, protocol=4)\n",
    "# test_feat.close()"
   ]
  },
  {
   "cell_type": "code",
   "execution_count": null,
   "id": "3d723929",
   "metadata": {},
   "outputs": [],
   "source": [
    "# Load the pickled features:\n",
    "import pickle\n",
    "\n",
    "pickle_XGtrain = open('train_features_xgb.pickle', 'rb')\n",
    "train_features = pickle.load(pickle_XGtrain)\n",
    "\n",
    "pickle_yGtrain = open('test_features_xgb.pickle', 'rb')\n",
    "test_features = pickle.load(pickle_yGtrain)"
   ]
  },
  {
   "cell_type": "code",
   "execution_count": null,
   "id": "65b6b145",
   "metadata": {},
   "outputs": [],
   "source": [
    "# Prepare train data\n",
    "X_train = np.array(train_features.drop(['image_name', 'tags'], axis=1))\n",
    "y_train = []\n",
    "\n",
    "flatten = lambda l: [item for sublist in l for item in sublist]\n",
    "labels = np.array(list(set(flatten([l.split(' ') for l in train_features['tags'].values]))))\n",
    "\n",
    "label_map = {l: i for i, l in enumerate(labels)}\n",
    "inv_label_map = {i: l for l, i in label_map.items()}"
   ]
  },
  {
   "cell_type": "code",
   "execution_count": null,
   "id": "54cad2ca",
   "metadata": {},
   "outputs": [],
   "source": [
    "# Create a bag of words for train\n",
    "for tags in tqdm(df_train.tags.values, miniters=1000):\n",
    "    targets = np.zeros(17)\n",
    "    for t in tags.split(' '):\n",
    "        targets[label_map[t]] = 1 \n",
    "    y_train.append(targets)\n",
    "    \n",
    "y_train = np.array(y_train, np.uint8) # float to int"
   ]
  },
  {
   "cell_type": "code",
   "execution_count": 33,
   "id": "ec4bf4aa",
   "metadata": {},
   "outputs": [
    {
     "ename": "NameError",
     "evalue": "name 'y_train' is not defined",
     "output_type": "error",
     "traceback": [
      "\u001b[0;31m---------------------------------------------------------------------------\u001b[0m",
      "\u001b[0;31mNameError\u001b[0m                                 Traceback (most recent call last)",
      "\u001b[0;32m<ipython-input-33-70292bc00a52>\u001b[0m in \u001b[0;36m<module>\u001b[0;34m\u001b[0m\n\u001b[0;32m----> 1\u001b[0;31m \u001b[0mn_classes\u001b[0m \u001b[0;34m=\u001b[0m \u001b[0my_train\u001b[0m\u001b[0;34m.\u001b[0m\u001b[0mshape\u001b[0m\u001b[0;34m[\u001b[0m\u001b[0;36m1\u001b[0m\u001b[0;34m]\u001b[0m \u001b[0;31m# 17 classes in total\u001b[0m\u001b[0;34m\u001b[0m\u001b[0;34m\u001b[0m\u001b[0m\n\u001b[0m\u001b[1;32m      2\u001b[0m \u001b[0;34m\u001b[0m\u001b[0m\n\u001b[1;32m      3\u001b[0m \u001b[0;31m#Create X_test dataset\u001b[0m\u001b[0;34m\u001b[0m\u001b[0;34m\u001b[0m\u001b[0;34m\u001b[0m\u001b[0m\n\u001b[1;32m      4\u001b[0m \u001b[0mX_test\u001b[0m \u001b[0;34m=\u001b[0m \u001b[0mnp\u001b[0m\u001b[0;34m.\u001b[0m\u001b[0marray\u001b[0m\u001b[0;34m(\u001b[0m\u001b[0mtest_features\u001b[0m\u001b[0;34m.\u001b[0m\u001b[0mdrop\u001b[0m\u001b[0;34m(\u001b[0m\u001b[0;34m[\u001b[0m\u001b[0;34m'image_name'\u001b[0m\u001b[0;34m,\u001b[0m \u001b[0;34m'tags'\u001b[0m\u001b[0;34m]\u001b[0m\u001b[0;34m,\u001b[0m \u001b[0maxis\u001b[0m\u001b[0;34m=\u001b[0m\u001b[0;36m1\u001b[0m\u001b[0;34m)\u001b[0m\u001b[0;34m)\u001b[0m\u001b[0;34m\u001b[0m\u001b[0;34m\u001b[0m\u001b[0m\n",
      "\u001b[0;31mNameError\u001b[0m: name 'y_train' is not defined"
     ]
    }
   ],
   "source": [
    "n_classes = y_train.shape[1] # 17 classes in total\n",
    "\n",
    "#Create X_test dataset\n",
    "X_test = np.array(test_features.drop(['image_name', 'tags'], axis=1))"
   ]
  },
  {
   "cell_type": "code",
   "execution_count": null,
   "id": "1bf488af",
   "metadata": {},
   "outputs": [],
   "source": [
    "# Train and predict with one-vs-all strategy\n",
    "train_pred_xgb = np.zeros((X_train.shape[0], n_classes)) # (num_of_train_images, n_classes=17)\n",
    "y_pred_xgb = np.zeros((X_test.shape[0], n_classes)) # (num_of_test_images, n_classes=17)"
   ]
  },
  {
   "cell_type": "code",
   "execution_count": null,
   "id": "3449b59d",
   "metadata": {},
   "outputs": [],
   "source": [
    "for class_i in tqdm(range(n_classes), miniters=1): \n",
    "    print(\"class_i =\", class_i, inv_label_map[class_i])\n",
    "    model = xgb.XGBClassifier(max_depth=5, learning_rate=0.1, n_estimators=250, \\\n",
    "                              objective='binary:logistic', n_jobs=-1, \\\n",
    "                              gamma=0, min_child_weight=1, max_delta_step=0, \\\n",
    "                              subsample=1, colsample_bytree=1, colsample_bylevel=1, \\\n",
    "                              reg_alpha=0, reg_lambda=1, scale_pos_weight=1, \\\n",
    "                              base_score=0.5, seed=random_seed, \\\n",
    "                              use_label_encoder=False, eval_metric='error', \\\n",
    "                             )\n",
    "    \n",
    "    model.fit(X_train, y_train[:, class_i])\n",
    "    train_pred_xgb[:, class_i] = model.predict_proba(X_train)[:,1] # prediction on train set\n",
    "    y_pred_xgb[:, class_i] = model.predict_proba(X_test)[:,1] # prediction on test set"
   ]
  },
  {
   "cell_type": "code",
   "execution_count": null,
   "id": "f1bea0d5",
   "metadata": {},
   "outputs": [],
   "source": [
    "train_score = calc_acc(y_train_o, train_pred_xgb)\n",
    "print(\"train_score =\", train_score)"
   ]
  },
  {
   "cell_type": "code",
   "execution_count": null,
   "id": "7c5a1265",
   "metadata": {},
   "outputs": [],
   "source": [
    "test_score = calc_acc(y_test_o, y_pred_xgb)\n",
    "print(\"test_score =\", test_score)"
   ]
  },
  {
   "cell_type": "code",
   "execution_count": null,
   "id": "de504222",
   "metadata": {},
   "outputs": [],
   "source": []
  }
 ],
 "metadata": {
  "kernelspec": {
   "display_name": "Python 3",
   "language": "python",
   "name": "python3"
  },
  "language_info": {
   "codemirror_mode": {
    "name": "ipython",
    "version": 3
   },
   "file_extension": ".py",
   "mimetype": "text/x-python",
   "name": "python",
   "nbconvert_exporter": "python",
   "pygments_lexer": "ipython3",
   "version": "3.8.8"
  }
 },
 "nbformat": 4,
 "nbformat_minor": 5
}
