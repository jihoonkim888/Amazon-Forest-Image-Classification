{
 "cells": [
  {
   "cell_type": "code",
   "execution_count": 5,
   "id": "78e0ccea",
   "metadata": {},
   "outputs": [],
   "source": [
    "import os\n",
    "import pandas as pd\n",
    "import shutil, os\n",
    "import numpy as np\n",
    "# import cv2\n",
    "import matplotlib.pyplot as plt\n",
    "%matplotlib inline\n",
    "from sklearn.model_selection import train_test_split\n",
    "\n",
    "import tensorflow as tf\n",
    "# from tensorflow.keras.layers import Dropout, Flatten, Dense, InputLayer\n",
    "from tensorflow.keras.callbacks import EarlyStopping, ModelCheckpoint, Callback, ReduceLROnPlateau\n",
    "# from tensorflow.keras import Sequential\n",
    "from tensorflow.keras.preprocessing.image import ImageDataGenerator\n",
    "from tensorflow.keras.backend import clear_session\n",
    "\n",
    "import keras\n",
    "from keras import backend as K\n",
    "from keras.regularizers import l2\n",
    "from keras.callbacks import ModelCheckpoint\n",
    "from keras.layers import Dense, Dropout, Flatten, Conv2D, MaxPool2D, AveragePooling2D\n",
    "from keras.layers.normalization import BatchNormalization\n",
    "from keras.models import Sequential\n",
    "from keras.optimizers import Adam\n",
    "import CNN_Baseline as baseline\n",
    "import CNN_C as dropout\n",
    "import CNN_D as batchN\n",
    "import CNN_E as mobnet\n",
    "import CNN_E as vgg16"
   ]
  },
  {
   "cell_type": "code",
   "execution_count": 6,
   "id": "8905610c",
   "metadata": {},
   "outputs": [],
   "source": [
    "# Choose which GPU to use - HEX SERVER ONLY. Go to https://hex.cs.bath.ac.uk/usage for current usage\n",
    "import os \n",
    "os.environ['CUDA_VISIBLE_DEVICES'] = '1'\n",
    "\n",
    "# Prevent GPU memory overflow\n",
    "from tensorflow.compat.v1 import ConfigProto\n",
    "from tensorflow.compat.v1 import InteractiveSession\n",
    "\n",
    "config = ConfigProto()\n",
    "config.gpu_options.allow_growth = True\n",
    "session = InteractiveSession(config=config)"
   ]
  },
  {
   "cell_type": "code",
   "execution_count": 82,
   "id": "468ae646",
   "metadata": {},
   "outputs": [],
   "source": [
    "#import multiprocessing\n",
    "INPUT_SHAPE = (128, 128, 3) # Image Dimensions\n",
    "BATCH_SIZE = 128\n",
    "DROPOUT_RATE = 0.5\n",
    "EPOCHS = 30\n",
    "LR = 0.0001 # Learning Rate\n",
    "REG_STRENGTH = 0.01 # Regularization Strength\n",
    "# NFOLDS = 5 # No of folds for cross validation\n",
    "WORKERS = 16 #multiprocessing.cpu_count()-1 #32 # Multithreading no of threads\n",
    "MAXQ = 10 # Max Queue size for multithreading\n",
    "THRES = [0.2] * 17 # Threshold for truth value of label, applied on sigmoid output."
   ]
  },
  {
   "cell_type": "code",
   "execution_count": 8,
   "id": "47e8882c",
   "metadata": {},
   "outputs": [],
   "source": [
    "DATASET_PATH = 'dataset/'\n",
    "TRAIN_PATH = DATASET_PATH + 'train_file'\n",
    "TEST_PATH = DATASET_PATH + 'test_file'\n",
    "\n",
    "TRAIN_CSV_PATH = DATASET_PATH + 'train_label.csv'\n",
    "TEST_CSV_PATH = DATASET_PATH + 'test_label.csv'"
   ]
  },
  {
   "cell_type": "code",
   "execution_count": 9,
   "id": "db7443a3",
   "metadata": {},
   "outputs": [],
   "source": [
    "df_train = pd.read_csv(TRAIN_CSV_PATH)\n",
    "df_test = pd.read_csv(TEST_CSV_PATH)\n",
    "\n",
    "df_train['image_name'] = df_train['image_name'].astype(str)\n",
    "df_test['image_name'] = df_test['image_name'].astype(str)\n",
    "\n",
    "df_train['tags'] = df_train['tags'].apply(lambda x: x.split(' '))\n",
    "df_test['tags'] = df_test['tags'].apply(lambda x: x.split(' '))\n",
    "\n",
    "# print(df_train.head())\n",
    "# print()\n",
    "# print(df_test.head())"
   ]
  },
  {
   "cell_type": "code",
   "execution_count": 6,
   "id": "55c71cd4",
   "metadata": {},
   "outputs": [
    {
     "name": "stderr",
     "output_type": "stream",
     "text": [
      "<ipython-input-6-0991b910e4b8>:3: VisibleDeprecationWarning: Creating an ndarray from ragged nested sequences (which is a list-or-tuple of lists-or-tuples-or ndarrays with different lengths or shapes) is deprecated. If you meant to do this, you must specify 'dtype=object' when creating the ndarray\n",
      "  y_train_o = np.array(df_train['tags'].tolist()) # image tags (ground truth)\n"
     ]
    }
   ],
   "source": [
    "X_train_files_o = np.array(df_train['image_name'].tolist()) # filenames\n",
    "X_train_files_o.reshape((X_train_files_o.shape[0], 1))\n",
    "y_train_o = np.array(df_train['tags'].tolist()) # image tags (ground truth)"
   ]
  },
  {
   "cell_type": "code",
   "execution_count": 7,
   "id": "90bc76a3",
   "metadata": {},
   "outputs": [
    {
     "name": "stdout",
     "output_type": "stream",
     "text": [
      "['agriculture', 'artisinal_mine', 'bare_ground', 'blooming', 'blow_down', 'clear', 'cloudy', 'conventional_mine', 'cultivation', 'habitation', 'haze', 'partly_cloudy', 'primary', 'road', 'selective_logging', 'slash_burn', 'water']\n",
      "\n",
      "17 unique tags\n"
     ]
    }
   ],
   "source": [
    "# check labels in tags and how many there are\n",
    "tags = df_train['tags'].values\n",
    "\n",
    "flat_list = [item for sublist in tags for item in sublist]\n",
    "tags_unique, tags_count = np.unique(flat_list, return_counts=True)\n",
    "labels = list(tags_unique)\n",
    "\n",
    "print(labels)\n",
    "print()\n",
    "print(len(labels), \"unique tags\")"
   ]
  },
  {
   "cell_type": "code",
   "execution_count": 8,
   "id": "e5433815",
   "metadata": {},
   "outputs": [
    {
     "data": {
      "image/png": "[encoded data removed]",
      "text/plain": [
       "<Figure size 864x576 with 1 Axes>"
      ]
     },
     "metadata": {
      "needs_background": "light"
     },
     "output_type": "display_data"
    }
   ],
   "source": [
    "# Distribution of the labels\n",
    "\n",
    "plt.figure(figsize=(12, 8))\n",
    "            \n",
    "plt.bar(range(len(tags_count)), list(tags_count), align='center')\n",
    "plt.xticks(range(len(tags_count)), list(labels), rotation=90)\n",
    "\n",
    "plt.show()"
   ]
  },
  {
   "cell_type": "code",
   "execution_count": 81,
   "id": "d62a22e1",
   "metadata": {},
   "outputs": [],
   "source": [
    "# Define learning curve and evaluation metric (f-2 Beta score):\n",
    "\n",
    "def learning_curve(model_fit, key='acc', ylim=(0.8, 1.01)):\n",
    "    plt.figure(figsize=(12,6))\n",
    "    plt.plot(model_fit.history[key])\n",
    "    plt.plot(model_fit.history['val_' + key])\n",
    "    plt.title('Learning Curve')\n",
    "    plt.ylabel(key.title())\n",
    "    plt.xlabel('Epoch')\n",
    "    plt.ylim(ylim)\n",
    "    plt.legend(['train', 'test'], loc='best')\n",
    "    plt.show()\n",
    "\n",
    "# F-Beta Score\n",
    "def fbeta_score_K(y_true, y_pred):\n",
    "    beta = 2\n",
    "    beta_squared = beta ** 2\n",
    "    tp = K.sum(y_true * y_pred) + K.epsilon()\n",
    "    fp = K.sum(y_pred) - tp\n",
    "    fn = K.sum(y_true) - tp\n",
    "\n",
    "    precision = tp / (tp + fp)\n",
    "    recall = tp / (tp + fn)\n",
    "\n",
    "    result = (beta_squared + 1) * (precision * recall) / (beta_squared * precision + recall + K.epsilon())\n",
    "    return result\n",
    "\n",
    "from sklearn.metrics import fbeta_score\n",
    "\n",
    "def calc_acc(ypred,df_test):\n",
    "    result = np.array(y_pred)\n",
    "    result = pd.DataFrame(result, columns = labels)\n",
    "    preds = []\n",
    "    for i in range(result.shape[0]):\n",
    "        a = result.iloc[[i]]\n",
    "        a = a.apply(lambda x: x > THRES, axis=1)\n",
    "        a = a.transpose()\n",
    "        a = a.loc[a[i] == True]\n",
    "        ' '.join(list(a.index))\n",
    "        preds.append(' '.join(list(a.index)))\n",
    "    df_test['pred_tags'] = preds\n",
    "    test = df_test['tags']\n",
    "    pred = df_test['pred_tags'].apply(lambda x: x.split(' '))\n",
    "    \n",
    "    from sklearn.preprocessing import MultiLabelBinarizer\n",
    "    \n",
    "    mlb = MultiLabelBinarizer()\n",
    "    test = mlb.fit_transform(test)\n",
    "    pred = mlb.transform(pred)\n",
    "    score = fbeta_score(test,pred,beta=2,average='weighted')\n",
    "    return score\n",
    "\n",
    "def plot(result,file):\n",
    "    train_history = pd.DataFrame(result)\n",
    "\n",
    "    train_history.to_csv(file, sep=',')\n",
    "    plt.plot(train_history['fbeta_score_K'])\n",
    "    plt.plot(train_history['val_fbeta_score_K'])\n",
    "    plt.title('model accuracy')\n",
    "    plt.ylabel('fbeta_score_K')\n",
    "    plt.xlabel('epoch')\n",
    "    plt.legend(['train', 'validation'], loc='upper left')\n",
    "    plt.show()\n",
    "\n",
    "    plt.plot(train_history['loss'])\n",
    "    plt.plot(train_history['val_loss'])\n",
    "    plt.title('model loss')\n",
    "    plt.ylabel('loss')\n",
    "    plt.xlabel('epoch')\n",
    "    plt.legend(['train', 'validation'], loc='upper left')\n",
    "    plt.show()"
   ]
  },
  {
   "cell_type": "code",
   "execution_count": 73,
   "id": "3ee03550",
   "metadata": {},
   "outputs": [],
   "source": [
    "def data_generator(X_train_files_o, y_train_o,base_flg):\n",
    "    X_train_files, X_val_files, y_train, y_val = train_test_split(X_train_files_o, y_train_o, test_size=0.2, random_state=0)\n",
    "\n",
    "    train_df = pd.DataFrame(list(zip(X_train_files, y_train)), columns = ['image_name', 'tags'])\n",
    "    val_df = pd.DataFrame(list(zip(X_val_files, y_val)), columns = ['image_name', 'tags'])\n",
    "\n",
    "    train_df['tags'] = train_df['tags']\n",
    "    val_df['tags'] = val_df['tags']\n",
    "    \n",
    "    if base_flg == 1:\n",
    "        train_datagen = ImageDataGenerator(\n",
    "            rescale=1./255\n",
    "            )\n",
    "    else:\n",
    "        train_datagen = ImageDataGenerator(\n",
    "            rescale=1./255,\n",
    "            width_shift_range=0.2,\n",
    "            height_shift_range=0.2,\n",
    "            horizontal_flip=True,\n",
    "            vertical_flip=True\n",
    "            )\n",
    "        \n",
    "    train_generator = train_datagen.flow_from_dataframe(\n",
    "        train_df,\n",
    "        directory=TRAIN_PATH,\n",
    "        x_col='image_name',\n",
    "        y_col='tags',\n",
    "        target_size=(INPUT_SHAPE[0], INPUT_SHAPE[1]),\n",
    "        class_mode='categorical',\n",
    "        batch_size=BATCH_SIZE,\n",
    "        classes=labels,\n",
    "        )\n",
    "\n",
    "    val_datagen = ImageDataGenerator(\n",
    "        rescale=1./255\n",
    "        )\n",
    "\n",
    "    val_generator = val_datagen.flow_from_dataframe(\n",
    "        val_df,\n",
    "        directory=TRAIN_PATH,\n",
    "        x_col='image_name',\n",
    "        y_col='tags',\n",
    "        target_size=(INPUT_SHAPE[0], INPUT_SHAPE[1]),\n",
    "        class_mode='categorical',\n",
    "        batch_size=BATCH_SIZE,\n",
    "        classes=labels,\n",
    "        )\n",
    "\n",
    "    test_datagen = ImageDataGenerator(\n",
    "        rescale=1./255\n",
    "        )\n",
    "\n",
    "    test_generator = test_datagen.flow_from_dataframe(\n",
    "        df_test,\n",
    "        directory=TEST_PATH,\n",
    "        x_col='image_name',\n",
    "        y_col='tags',\n",
    "        target_size=(INPUT_SHAPE[0], INPUT_SHAPE[1]),\n",
    "        class_mode='categorical',\n",
    "        batch_size=BATCH_SIZE,\n",
    "        classes=labels,\n",
    "        shuffle=False,\n",
    "        )\n",
    "    return train_generator,val_generator,test_generator"
   ]
  },
  {
   "cell_type": "markdown",
   "id": "32bb8729",
   "metadata": {},
   "source": [
    "### CNN Baseline"
   ]
  },
  {
   "cell_type": "code",
   "execution_count": 12,
   "id": "8f1f0fe6",
   "metadata": {},
   "outputs": [
    {
     "name": "stdout",
     "output_type": "stream",
     "text": [
      "Found 25906 validated image filenames belonging to 17 classes.\n",
      "Found 6477 validated image filenames belonging to 17 classes.\n",
      "Found 8096 validated image filenames belonging to 17 classes.\n",
      "Epoch 1/30\n",
      "203/203 [==============================] - 41s 170ms/step - loss: 0.3801 - fbeta_score_K: 0.4887 - val_loss: 0.2290 - val_fbeta_score_K: 0.5793\n",
      "Epoch 2/30\n",
      "203/203 [==============================] - 32s 154ms/step - loss: 0.2227 - fbeta_score_K: 0.5991 - val_loss: 0.2050 - val_fbeta_score_K: 0.6293\n",
      "Epoch 3/30\n",
      "203/203 [==============================] - 33s 158ms/step - loss: 0.2069 - fbeta_score_K: 0.6343 - val_loss: 0.1959 - val_fbeta_score_K: 0.6365\n",
      "Epoch 4/30\n",
      "203/203 [==============================] - 30s 146ms/step - loss: 0.1967 - fbeta_score_K: 0.6522 - val_loss: 0.1821 - val_fbeta_score_K: 0.6652\n",
      "Epoch 5/30\n",
      "203/203 [==============================] - 33s 151ms/step - loss: 0.1812 - fbeta_score_K: 0.6802 - val_loss: 0.1705 - val_fbeta_score_K: 0.7018\n",
      "Epoch 6/30\n",
      "203/203 [==============================] - 31s 150ms/step - loss: 0.1706 - fbeta_score_K: 0.7016 - val_loss: 0.1653 - val_fbeta_score_K: 0.7203\n",
      "Epoch 7/30\n",
      "203/203 [==============================] - 32s 153ms/step - loss: 0.1631 - fbeta_score_K: 0.7177 - val_loss: 0.1536 - val_fbeta_score_K: 0.7443\n",
      "Epoch 8/30\n",
      "203/203 [==============================] - 31s 150ms/step - loss: 0.1541 - fbeta_score_K: 0.7328 - val_loss: 0.1483 - val_fbeta_score_K: 0.7534\n",
      "Epoch 9/30\n",
      "203/203 [==============================] - 33s 147ms/step - loss: 0.1486 - fbeta_score_K: 0.7438 - val_loss: 0.1473 - val_fbeta_score_K: 0.7477\n",
      "Epoch 10/30\n",
      "203/203 [==============================] - 30s 144ms/step - loss: 0.1450 - fbeta_score_K: 0.7490 - val_loss: 0.1442 - val_fbeta_score_K: 0.7656\n",
      "Epoch 11/30\n",
      "203/203 [==============================] - 30s 142ms/step - loss: 0.1420 - fbeta_score_K: 0.7543 - val_loss: 0.1400 - val_fbeta_score_K: 0.7610\n",
      "Epoch 12/30\n",
      "203/203 [==============================] - 34s 153ms/step - loss: 0.1387 - fbeta_score_K: 0.7598 - val_loss: 0.1398 - val_fbeta_score_K: 0.7635\n",
      "Epoch 13/30\n",
      "203/203 [==============================] - 30s 144ms/step - loss: 0.1356 - fbeta_score_K: 0.7655 - val_loss: 0.1377 - val_fbeta_score_K: 0.7600\n",
      "Epoch 14/30\n",
      "203/203 [==============================] - 31s 149ms/step - loss: 0.1333 - fbeta_score_K: 0.7675 - val_loss: 0.1355 - val_fbeta_score_K: 0.7600\n",
      "Epoch 15/30\n",
      "203/203 [==============================] - 31s 145ms/step - loss: 0.1300 - fbeta_score_K: 0.7736 - val_loss: 0.1372 - val_fbeta_score_K: 0.7667\n",
      "Epoch 16/30\n",
      "203/203 [==============================] - 29s 141ms/step - loss: 0.1301 - fbeta_score_K: 0.7727 - val_loss: 0.1348 - val_fbeta_score_K: 0.7761\n",
      "Epoch 17/30\n",
      "203/203 [==============================] - 30s 142ms/step - loss: 0.1293 - fbeta_score_K: 0.7757 - val_loss: 0.1322 - val_fbeta_score_K: 0.7779\n",
      "Epoch 18/30\n",
      "203/203 [==============================] - 31s 149ms/step - loss: 0.1250 - fbeta_score_K: 0.7829 - val_loss: 0.1334 - val_fbeta_score_K: 0.7903\n",
      "Epoch 19/30\n",
      "203/203 [==============================] - 31s 149ms/step - loss: 0.1241 - fbeta_score_K: 0.7844 - val_loss: 0.1331 - val_fbeta_score_K: 0.7779\n",
      "Epoch 20/30\n",
      "203/203 [==============================] - 31s 150ms/step - loss: 0.1225 - fbeta_score_K: 0.7873 - val_loss: 0.1326 - val_fbeta_score_K: 0.7738\n",
      "Epoch 21/30\n",
      "203/203 [==============================] - 32s 153ms/step - loss: 0.1206 - fbeta_score_K: 0.7907 - val_loss: 0.1320 - val_fbeta_score_K: 0.7859\n",
      "Epoch 22/30\n",
      "203/203 [==============================] - 31s 148ms/step - loss: 0.1199 - fbeta_score_K: 0.7918 - val_loss: 0.1320 - val_fbeta_score_K: 0.7717\n",
      "Epoch 23/30\n",
      "203/203 [==============================] - 34s 150ms/step - loss: 0.1179 - fbeta_score_K: 0.7953 - val_loss: 0.1318 - val_fbeta_score_K: 0.7825\n",
      "Epoch 24/30\n",
      "203/203 [==============================] - 31s 150ms/step - loss: 0.1168 - fbeta_score_K: 0.7963 - val_loss: 0.1298 - val_fbeta_score_K: 0.7913\n",
      "Epoch 25/30\n",
      "203/203 [==============================] - 32s 151ms/step - loss: 0.1148 - fbeta_score_K: 0.8000 - val_loss: 0.1327 - val_fbeta_score_K: 0.7835\n",
      "Epoch 26/30\n",
      "203/203 [==============================] - 32s 152ms/step - loss: 0.1136 - fbeta_score_K: 0.8015 - val_loss: 0.1306 - val_fbeta_score_K: 0.7907\n",
      "Epoch 27/30\n",
      "203/203 [==============================] - 31s 147ms/step - loss: 0.1112 - fbeta_score_K: 0.8056 - val_loss: 0.1294 - val_fbeta_score_K: 0.7940\n",
      "Epoch 28/30\n",
      "203/203 [==============================] - 31s 150ms/step - loss: 0.1091 - fbeta_score_K: 0.8096 - val_loss: 0.1309 - val_fbeta_score_K: 0.7934\n",
      "Epoch 29/30\n",
      "203/203 [==============================] - 33s 148ms/step - loss: 0.1075 - fbeta_score_K: 0.8118 - val_loss: 0.1364 - val_fbeta_score_K: 0.8036\n",
      "Epoch 30/30\n",
      "203/203 [==============================] - 31s 146ms/step - loss: 0.1051 - fbeta_score_K: 0.8165 - val_loss: 0.1340 - val_fbeta_score_K: 0.7980\n",
      "here dict_keys(['loss', 'fbeta_score_K', 'val_loss', 'val_fbeta_score_K', 'lr'])\n"
     ]
    }
   ],
   "source": [
    "train_generator, val_generator, test_generator = data_generator(X_train_files_o, y_train_o,1)\n",
    "model_path = 'CNN_Baseline_weights' + '.h5'\n",
    "\n",
    "\n",
    "adam = Adam(learning_rate=LR)\n",
    "\n",
    "cnn_base_model = baseline.create_model()\n",
    "\n",
    "clear_session()\n",
    "\n",
    "cnn_base_model.compile(loss='binary_crossentropy', optimizer=adam, metrics=[fbeta_score_K])\n",
    "\n",
    "callbacks = [\n",
    "    ModelCheckpoint(model_path, monitor='val_fbeta_score_K', save_best_only=True, mode='max'),\n",
    "    ReduceLROnPlateau(monitor='loss', factor=0.1, patience=3, mode='min', min_lr=0.000001)\n",
    "]\n",
    "\n",
    "history = cnn_base_model.fit(train_generator, epochs=EPOCHS, validation_data=val_generator, callbacks=callbacks,\n",
    "                   workers=WORKERS, use_multiprocessing=False, max_queue_size=MAXQ)\n",
    "\n",
    "print('here', history.history.keys())\n",
    "\n",
    "\n",
    "cnn_base_model.load_weights(model_path)\n",
    "\n",
    "y_pred = cnn_base_model.predict(test_generator, workers=WORKERS, use_multiprocessing=False, max_queue_size=MAXQ)"
   ]
  },
  {
   "cell_type": "code",
   "execution_count": 15,
   "id": "755c3622",
   "metadata": {},
   "outputs": [
    {
     "data": {
      "image/png": "[encoded data removed]",
      "text/plain": [
       "<Figure size 432x288 with 1 Axes>"
      ]
     },
     "metadata": {
      "needs_background": "light"
     },
     "output_type": "display_data"
    },
    {
     "data": {
      "image/png": "[encoded data removed]",
      "text/plain": [
       "<Figure size 432x288 with 1 Axes>"
      ]
     },
     "metadata": {
      "needs_background": "light"
     },
     "output_type": "display_data"
    },
    {
     "name": "stdout",
     "output_type": "stream",
     "text": [
      "Test Accuracy Score 0.7843817489389501\n"
     ]
    }
   ],
   "source": [
    "plot(history.history,'CNN_Baseline_train_history.csv')\n",
    "print(\"Test Accuracy Score\",calc_acc(y_pred,df_test))"
   ]
  },
  {
   "cell_type": "markdown",
   "id": "4080ba73",
   "metadata": {},
   "source": [
    "### A. CNN_Baseline + Data Augmentation"
   ]
  },
  {
   "cell_type": "code",
   "execution_count": 69,
   "id": "9407c19f",
   "metadata": {},
   "outputs": [],
   "source": [
    "DATASET_PATH = 'dataset-haze-removed/'\n",
    "TRAIN_PATH = DATASET_PATH + 'train_file'\n",
    "TEST_PATH = DATASET_PATH + 'test_file'\n",
    "\n",
    "TRAIN_CSV_PATH = DATASET_PATH + 'train_label.csv'\n",
    "TEST_CSV_PATH = DATASET_PATH + 'test_label.csv'"
   ]
  },
  {
   "cell_type": "code",
   "execution_count": 70,
   "id": "37e8cd23",
   "metadata": {},
   "outputs": [
    {
     "name": "stdout",
     "output_type": "stream",
     "text": [
      "['agriculture', 'artisinal_mine', 'bare_ground', 'blooming', 'blow_down', 'clear', 'cloudy', 'conventional_mine', 'cultivation', 'habitation', 'haze', 'partly_cloudy', 'primary', 'road', 'selective_logging', 'slash_burn', 'water']\n",
      "\n",
      "17 unique tags\n"
     ]
    },
    {
     "name": "stderr",
     "output_type": "stream",
     "text": [
      "<ipython-input-70-2c16ded3c3cd>:12: VisibleDeprecationWarning: Creating an ndarray from ragged nested sequences (which is a list-or-tuple of lists-or-tuples-or ndarrays with different lengths or shapes) is deprecated. If you meant to do this, you must specify 'dtype=object' when creating the ndarray\n",
      "  y_train_o = np.array(df_train['tags'].tolist()) # image tags (ground truth)\n"
     ]
    }
   ],
   "source": [
    "df_train = pd.read_csv(TRAIN_CSV_PATH)\n",
    "df_test = pd.read_csv(TEST_CSV_PATH)\n",
    "\n",
    "df_train['image_name'] = df_train['image_name'].astype(str)\n",
    "df_test['image_name'] = df_test['image_name'].astype(str)\n",
    "\n",
    "df_train['tags'] = df_train['tags'].apply(lambda x: x.split(' '))\n",
    "df_test['tags'] = df_test['tags'].apply(lambda x: x.split(' '))\n",
    "\n",
    "X_train_files_o = np.array(df_train['image_name'].tolist()) # filenames\n",
    "X_train_files_o.reshape((X_train_files_o.shape[0], 1))\n",
    "y_train_o = np.array(df_train['tags'].tolist()) # image tags (ground truth)\n",
    "\n",
    "# check labels in tags and how many there are\n",
    "tags = df_train['tags'].values\n",
    "\n",
    "flat_list = [item for sublist in tags for item in sublist]\n",
    "tags_unique, tags_count = np.unique(flat_list, return_counts=True)\n",
    "labels = list(tags_unique)\n",
    "\n",
    "print(labels)\n",
    "print()\n",
    "print(len(labels), \"unique tags\")"
   ]
  },
  {
   "cell_type": "code",
   "execution_count": 74,
   "id": "f5876932",
   "metadata": {},
   "outputs": [
    {
     "name": "stdout",
     "output_type": "stream",
     "text": [
      "Found 25906 validated image filenames belonging to 17 classes.\n",
      "Found 6477 validated image filenames belonging to 17 classes.\n",
      "Found 8096 validated image filenames belonging to 17 classes.\n",
      "Epoch 1/30\n",
      "203/203 [==============================] - 52s 219ms/step - loss: 0.3772 - fbeta_score_K: 0.4945 - val_loss: 0.2434 - val_fbeta_score_K: 0.5763\n",
      "Epoch 2/30\n",
      "203/203 [==============================] - 45s 214ms/step - loss: 0.2310 - fbeta_score_K: 0.5883 - val_loss: 0.1997 - val_fbeta_score_K: 0.6369\n",
      "Epoch 3/30\n",
      "203/203 [==============================] - 48s 216ms/step - loss: 0.1953 - fbeta_score_K: 0.6514 - val_loss: 0.1724 - val_fbeta_score_K: 0.6991\n",
      "Epoch 4/30\n",
      "203/203 [==============================] - 49s 223ms/step - loss: 0.1736 - fbeta_score_K: 0.6956 - val_loss: 0.1692 - val_fbeta_score_K: 0.7319\n",
      "Epoch 5/30\n",
      "203/203 [==============================] - 42s 201ms/step - loss: 0.1640 - fbeta_score_K: 0.7146 - val_loss: 0.1607 - val_fbeta_score_K: 0.7307\n",
      "Epoch 6/30\n",
      "203/203 [==============================] - 43s 204ms/step - loss: 0.1589 - fbeta_score_K: 0.7239 - val_loss: 0.1582 - val_fbeta_score_K: 0.7390\n",
      "Epoch 7/30\n",
      "203/203 [==============================] - 44s 196ms/step - loss: 0.1556 - fbeta_score_K: 0.7305 - val_loss: 0.1527 - val_fbeta_score_K: 0.7545\n",
      "Epoch 8/30\n",
      "203/203 [==============================] - 45s 204ms/step - loss: 0.1505 - fbeta_score_K: 0.7409 - val_loss: 0.1600 - val_fbeta_score_K: 0.7510\n",
      "Epoch 9/30\n",
      "203/203 [==============================] - 44s 208ms/step - loss: 0.1486 - fbeta_score_K: 0.7415 - val_loss: 0.1614 - val_fbeta_score_K: 0.7604\n",
      "Epoch 10/30\n",
      "203/203 [==============================] - 43s 202ms/step - loss: 0.1469 - fbeta_score_K: 0.7457 - val_loss: 0.1433 - val_fbeta_score_K: 0.7565\n",
      "Epoch 11/30\n",
      "203/203 [==============================] - 43s 202ms/step - loss: 0.1448 - fbeta_score_K: 0.7503 - val_loss: 0.1543 - val_fbeta_score_K: 0.7622\n",
      "Epoch 12/30\n",
      "203/203 [==============================] - 43s 206ms/step - loss: 0.1401 - fbeta_score_K: 0.7573 - val_loss: 0.1590 - val_fbeta_score_K: 0.7666\n",
      "Epoch 13/30\n",
      "203/203 [==============================] - 42s 202ms/step - loss: 0.1393 - fbeta_score_K: 0.7584 - val_loss: 0.1467 - val_fbeta_score_K: 0.7838\n",
      "Epoch 14/30\n",
      "203/203 [==============================] - 42s 201ms/step - loss: 0.1382 - fbeta_score_K: 0.7640 - val_loss: 0.1392 - val_fbeta_score_K: 0.7732\n",
      "Epoch 15/30\n",
      "203/203 [==============================] - 43s 203ms/step - loss: 0.1366 - fbeta_score_K: 0.7634 - val_loss: 0.1355 - val_fbeta_score_K: 0.7775\n",
      "Epoch 16/30\n",
      "203/203 [==============================] - 43s 201ms/step - loss: 0.1367 - fbeta_score_K: 0.7641 - val_loss: 0.1333 - val_fbeta_score_K: 0.7735\n",
      "Epoch 17/30\n",
      "203/203 [==============================] - 44s 209ms/step - loss: 0.1362 - fbeta_score_K: 0.7653 - val_loss: 0.1448 - val_fbeta_score_K: 0.7739\n",
      "Epoch 18/30\n",
      "203/203 [==============================] - 43s 205ms/step - loss: 0.1335 - fbeta_score_K: 0.7705 - val_loss: 0.1416 - val_fbeta_score_K: 0.7776\n",
      "Epoch 19/30\n",
      "203/203 [==============================] - 44s 210ms/step - loss: 0.1329 - fbeta_score_K: 0.7713 - val_loss: 0.1325 - val_fbeta_score_K: 0.7882\n",
      "Epoch 20/30\n",
      "203/203 [==============================] - 46s 220ms/step - loss: 0.1307 - fbeta_score_K: 0.7742 - val_loss: 0.1388 - val_fbeta_score_K: 0.7920\n",
      "Epoch 21/30\n",
      "203/203 [==============================] - 47s 213ms/step - loss: 0.1312 - fbeta_score_K: 0.7746 - val_loss: 0.1250 - val_fbeta_score_K: 0.7854\n",
      "Epoch 22/30\n",
      "203/203 [==============================] - 48s 214ms/step - loss: 0.1309 - fbeta_score_K: 0.7751 - val_loss: 0.1368 - val_fbeta_score_K: 0.7884\n",
      "Epoch 23/30\n",
      "203/203 [==============================] - 45s 217ms/step - loss: 0.1310 - fbeta_score_K: 0.7747 - val_loss: 0.1268 - val_fbeta_score_K: 0.7898\n",
      "Epoch 24/30\n",
      "203/203 [==============================] - 45s 212ms/step - loss: 0.1280 - fbeta_score_K: 0.7787 - val_loss: 0.1310 - val_fbeta_score_K: 0.7925\n",
      "Epoch 25/30\n",
      "203/203 [==============================] - 45s 214ms/step - loss: 0.1279 - fbeta_score_K: 0.7804 - val_loss: 0.1306 - val_fbeta_score_K: 0.7950\n",
      "Epoch 26/30\n",
      "203/203 [==============================] - 45s 216ms/step - loss: 0.1278 - fbeta_score_K: 0.7804 - val_loss: 0.1348 - val_fbeta_score_K: 0.7902\n",
      "Epoch 27/30\n",
      "203/203 [==============================] - 47s 213ms/step - loss: 0.1274 - fbeta_score_K: 0.7806 - val_loss: 0.1294 - val_fbeta_score_K: 0.7899\n",
      "Epoch 28/30\n",
      "203/203 [==============================] - 44s 210ms/step - loss: 0.1255 - fbeta_score_K: 0.7840 - val_loss: 0.1240 - val_fbeta_score_K: 0.7983\n",
      "Epoch 29/30\n",
      "203/203 [==============================] - 46s 218ms/step - loss: 0.1248 - fbeta_score_K: 0.7844 - val_loss: 0.1210 - val_fbeta_score_K: 0.7997\n",
      "Epoch 30/30\n",
      "203/203 [==============================] - 45s 207ms/step - loss: 0.1242 - fbeta_score_K: 0.7868 - val_loss: 0.1231 - val_fbeta_score_K: 0.7995\n",
      "here dict_keys(['loss', 'fbeta_score_K', 'val_loss', 'val_fbeta_score_K', 'lr'])\n"
     ]
    }
   ],
   "source": [
    "train_generator, val_generator, test_generator = data_generator(X_train_files_o, y_train_o,0)\n",
    "\n",
    "model_path = 'CNN_A_weights' + '.h5'\n",
    "\n",
    "adam = Adam(learning_rate=LR)\n",
    "\n",
    "cnn_base_model = baseline.create_model()\n",
    "\n",
    "clear_session()\n",
    "\n",
    "cnn_base_model.compile(loss='binary_crossentropy', optimizer=adam, metrics=[fbeta_score_K])\n",
    "\n",
    "callbacks = [\n",
    "    ModelCheckpoint(model_path, monitor='val_fbeta_score_K', save_best_only=True, mode='max'),\n",
    "    ReduceLROnPlateau(monitor='loss', factor=0.1, patience=3, mode='min', min_lr=0.000001)\n",
    "]\n",
    "\n",
    "history = cnn_base_model.fit(train_generator, epochs=EPOCHS, validation_data=val_generator, callbacks=callbacks,\n",
    "                   workers=WORKERS, use_multiprocessing=False, max_queue_size=MAXQ)\n",
    "\n",
    "print('here', history.history.keys())\n",
    "\n",
    "\n",
    "cnn_base_model.load_weights(model_path)\n",
    "\n",
    "y_pred = cnn_base_model.predict(test_generator, workers=WORKERS, use_multiprocessing=False, max_queue_size=MAXQ)"
   ]
  },
  {
   "cell_type": "code",
   "execution_count": 75,
   "id": "fdfb81c6",
   "metadata": {},
   "outputs": [
    {
     "data": {
      "image/png": "[encoded data removed]",
      "text/plain": [
       "<Figure size 432x288 with 1 Axes>"
      ]
     },
     "metadata": {
      "needs_background": "light"
     },
     "output_type": "display_data"
    },
    {
     "data": {
      "image/png": "[encoded data removed]",
      "text/plain": [
       "<Figure size 432x288 with 1 Axes>"
      ]
     },
     "metadata": {
      "needs_background": "light"
     },
     "output_type": "display_data"
    },
    {
     "name": "stdout",
     "output_type": "stream",
     "text": [
      "Test Accuracy Score 0.8107543671790849\n"
     ]
    }
   ],
   "source": [
    "plot(history.history,'CNN_A_train_history.csv')\n",
    "print(\"Test Accuracy Score\",calc_acc(y_pred,df_test))"
   ]
  },
  {
   "cell_type": "markdown",
   "id": "fd47c49e",
   "metadata": {},
   "source": [
    "### B. CNN_Baseline + Data Augmentation + Early Stopping"
   ]
  },
  {
   "cell_type": "code",
   "execution_count": 76,
   "id": "d79b405e",
   "metadata": {},
   "outputs": [
    {
     "name": "stdout",
     "output_type": "stream",
     "text": [
      "Found 25906 validated image filenames belonging to 17 classes.\n",
      "Found 6477 validated image filenames belonging to 17 classes.\n",
      "Found 8096 validated image filenames belonging to 17 classes.\n",
      "Epoch 1/30\n",
      "203/203 [==============================] - 43s 200ms/step - loss: 0.3733 - fbeta_score_K: 0.4906 - val_loss: 0.2408 - val_fbeta_score_K: 0.5803\n",
      "Epoch 2/30\n",
      "203/203 [==============================] - 43s 206ms/step - loss: 0.2222 - fbeta_score_K: 0.5994 - val_loss: 0.1963 - val_fbeta_score_K: 0.6876\n",
      "Epoch 3/30\n",
      "203/203 [==============================] - 46s 208ms/step - loss: 0.1869 - fbeta_score_K: 0.6711 - val_loss: 0.1827 - val_fbeta_score_K: 0.7059\n",
      "Epoch 4/30\n",
      "203/203 [==============================] - 43s 204ms/step - loss: 0.1744 - fbeta_score_K: 0.6965 - val_loss: 0.1722 - val_fbeta_score_K: 0.7234\n",
      "Epoch 5/30\n",
      "203/203 [==============================] - 43s 204ms/step - loss: 0.1673 - fbeta_score_K: 0.7106 - val_loss: 0.1767 - val_fbeta_score_K: 0.7475\n",
      "Epoch 6/30\n",
      "203/203 [==============================] - 44s 208ms/step - loss: 0.1584 - fbeta_score_K: 0.7269 - val_loss: 0.1602 - val_fbeta_score_K: 0.7527\n",
      "Epoch 7/30\n",
      "203/203 [==============================] - 43s 204ms/step - loss: 0.1568 - fbeta_score_K: 0.7307 - val_loss: 0.1590 - val_fbeta_score_K: 0.7406\n",
      "Epoch 8/30\n",
      "203/203 [==============================] - 43s 203ms/step - loss: 0.1544 - fbeta_score_K: 0.7333 - val_loss: 0.1567 - val_fbeta_score_K: 0.7563\n",
      "Epoch 9/30\n",
      "203/203 [==============================] - 43s 203ms/step - loss: 0.1484 - fbeta_score_K: 0.7446 - val_loss: 0.1474 - val_fbeta_score_K: 0.7519\n",
      "Epoch 10/30\n",
      "203/203 [==============================] - 43s 204ms/step - loss: 0.1469 - fbeta_score_K: 0.7469 - val_loss: 0.1508 - val_fbeta_score_K: 0.7593\n",
      "Epoch 11/30\n",
      "203/203 [==============================] - 42s 201ms/step - loss: 0.1456 - fbeta_score_K: 0.7485 - val_loss: 0.1399 - val_fbeta_score_K: 0.7733\n",
      "Epoch 12/30\n",
      "203/203 [==============================] - 45s 205ms/step - loss: 0.1445 - fbeta_score_K: 0.7524 - val_loss: 0.1517 - val_fbeta_score_K: 0.7739\n",
      "Epoch 13/30\n",
      "203/203 [==============================] - 43s 203ms/step - loss: 0.1403 - fbeta_score_K: 0.7598 - val_loss: 0.1390 - val_fbeta_score_K: 0.7783\n",
      "Epoch 14/30\n",
      "203/203 [==============================] - 43s 203ms/step - loss: 0.1400 - fbeta_score_K: 0.7580 - val_loss: 0.1404 - val_fbeta_score_K: 0.7685\n",
      "Epoch 15/30\n",
      "203/203 [==============================] - 43s 205ms/step - loss: 0.1383 - fbeta_score_K: 0.7612 - val_loss: 0.1597 - val_fbeta_score_K: 0.7674\n",
      "Epoch 16/30\n",
      "203/203 [==============================] - 43s 209ms/step - loss: 0.1380 - fbeta_score_K: 0.7623 - val_loss: 0.1318 - val_fbeta_score_K: 0.7853\n",
      "Epoch 17/30\n",
      "203/203 [==============================] - 43s 204ms/step - loss: 0.1352 - fbeta_score_K: 0.7679 - val_loss: 0.1390 - val_fbeta_score_K: 0.7797\n",
      "Epoch 18/30\n",
      "203/203 [==============================] - 43s 205ms/step - loss: 0.1343 - fbeta_score_K: 0.7676 - val_loss: 0.1392 - val_fbeta_score_K: 0.7888\n",
      "Epoch 19/30\n",
      "203/203 [==============================] - 43s 207ms/step - loss: 0.1322 - fbeta_score_K: 0.7726 - val_loss: 0.1298 - val_fbeta_score_K: 0.7853\n",
      "Epoch 20/30\n",
      "203/203 [==============================] - 43s 203ms/step - loss: 0.1322 - fbeta_score_K: 0.7723 - val_loss: 0.1268 - val_fbeta_score_K: 0.7883\n",
      "Epoch 21/30\n",
      "203/203 [==============================] - 43s 202ms/step - loss: 0.1321 - fbeta_score_K: 0.7727 - val_loss: 0.1292 - val_fbeta_score_K: 0.7798\n",
      "Epoch 22/30\n",
      "203/203 [==============================] - 46s 204ms/step - loss: 0.1294 - fbeta_score_K: 0.7762 - val_loss: 0.1312 - val_fbeta_score_K: 0.7883\n",
      "Epoch 23/30\n",
      "203/203 [==============================] - 43s 203ms/step - loss: 0.1286 - fbeta_score_K: 0.7782 - val_loss: 0.1373 - val_fbeta_score_K: 0.7982\n",
      "Epoch 24/30\n",
      "203/203 [==============================] - 43s 207ms/step - loss: 0.1276 - fbeta_score_K: 0.7812 - val_loss: 0.1263 - val_fbeta_score_K: 0.7942\n",
      "Epoch 25/30\n",
      "203/203 [==============================] - 43s 203ms/step - loss: 0.1270 - fbeta_score_K: 0.7810 - val_loss: 0.1237 - val_fbeta_score_K: 0.7913\n",
      "Epoch 26/30\n",
      "203/203 [==============================] - 43s 205ms/step - loss: 0.1285 - fbeta_score_K: 0.7795 - val_loss: 0.1286 - val_fbeta_score_K: 0.7856\n",
      "Epoch 27/30\n",
      "203/203 [==============================] - 43s 206ms/step - loss: 0.1277 - fbeta_score_K: 0.7799 - val_loss: 0.1225 - val_fbeta_score_K: 0.7922\n",
      "Epoch 28/30\n",
      "203/203 [==============================] - 43s 207ms/step - loss: 0.1250 - fbeta_score_K: 0.7837 - val_loss: 0.1212 - val_fbeta_score_K: 0.8073\n",
      "Epoch 29/30\n",
      "203/203 [==============================] - 44s 208ms/step - loss: 0.1252 - fbeta_score_K: 0.7854 - val_loss: 0.1274 - val_fbeta_score_K: 0.8064\n",
      "Epoch 30/30\n",
      "203/203 [==============================] - 46s 204ms/step - loss: 0.1233 - fbeta_score_K: 0.7876 - val_loss: 0.1319 - val_fbeta_score_K: 0.8065\n",
      "here dict_keys(['loss', 'fbeta_score_K', 'val_loss', 'val_fbeta_score_K', 'lr'])\n"
     ]
    }
   ],
   "source": [
    "train_generator, val_generator, test_generator = data_generator(X_train_files_o, y_train_o,0)\n",
    "\n",
    "model_path = 'CNN_B_weights' + '.h5'\n",
    "\n",
    "\n",
    "adam = Adam(learning_rate=LR)\n",
    "\n",
    "cnn_base_model = baseline.create_model()\n",
    "\n",
    "clear_session()\n",
    "\n",
    "cnn_base_model.compile(loss='binary_crossentropy', optimizer=adam, metrics=[fbeta_score_K])\n",
    "\n",
    "callbacks = [\n",
    "    ModelCheckpoint(model_path, monitor='val_fbeta_score_K', save_best_only=True, mode='max'),\n",
    "    ReduceLROnPlateau(monitor='loss', factor=0.1, patience=3, mode='min', min_lr=0.000001),\n",
    "    EarlyStopping(monitor='val_loss', mode='min', verbose=1, patience=5),\n",
    "]\n",
    "\n",
    "history = cnn_base_model.fit(train_generator, epochs=EPOCHS, validation_data=val_generator, callbacks=callbacks,\n",
    "                   workers=WORKERS, use_multiprocessing=False, max_queue_size=MAXQ)\n",
    "\n",
    "print('here', history.history.keys())\n",
    "\n",
    "cnn_base_model.load_weights(model_path)\n",
    "\n",
    "y_pred = cnn_base_model.predict(test_generator, workers=WORKERS, use_multiprocessing=False, max_queue_size=MAXQ)"
   ]
  },
  {
   "cell_type": "code",
   "execution_count": 78,
   "id": "c0bb69a8",
   "metadata": {},
   "outputs": [
    {
     "data": {
      "image/png": "[encoded data removed]",
      "text/plain": [
       "<Figure size 432x288 with 1 Axes>"
      ]
     },
     "metadata": {
      "needs_background": "light"
     },
     "output_type": "display_data"
    },
    {
     "data": {
      "image/png": "[encoded data removed]",
      "text/plain": [
       "<Figure size 432x288 with 1 Axes>"
      ]
     },
     "metadata": {
      "needs_background": "light"
     },
     "output_type": "display_data"
    },
    {
     "name": "stdout",
     "output_type": "stream",
     "text": [
      "Test Accuracy Score 0.8075644884805925\n"
     ]
    }
   ],
   "source": [
    "plot(history.history,'CNN_B_train_history.csv')\n",
    "print(\"Test Accuracy Score\",calc_acc(y_pred,df_test))"
   ]
  },
  {
   "cell_type": "markdown",
   "id": "6adff9c6",
   "metadata": {},
   "source": [
    "### C. CNN_Baseline + Data Augmentation + Drop out"
   ]
  },
  {
   "cell_type": "code",
   "execution_count": 79,
   "id": "65376533",
   "metadata": {},
   "outputs": [
    {
     "name": "stdout",
     "output_type": "stream",
     "text": [
      "Found 25906 validated image filenames belonging to 17 classes.\n",
      "Found 6477 validated image filenames belonging to 17 classes.\n",
      "Found 8096 validated image filenames belonging to 17 classes.\n",
      "Epoch 1/30\n",
      "203/203 [==============================] - 43s 202ms/step - loss: 0.3641 - fbeta_score_K: 0.4942 - val_loss: 0.2281 - val_fbeta_score_K: 0.5955\n",
      "Epoch 2/30\n",
      "203/203 [==============================] - 43s 205ms/step - loss: 0.2244 - fbeta_score_K: 0.5990 - val_loss: 0.1937 - val_fbeta_score_K: 0.6447\n",
      "Epoch 3/30\n",
      "203/203 [==============================] - 44s 208ms/step - loss: 0.1923 - fbeta_score_K: 0.6625 - val_loss: 0.1878 - val_fbeta_score_K: 0.6946\n",
      "Epoch 4/30\n",
      "203/203 [==============================] - 43s 205ms/step - loss: 0.1785 - fbeta_score_K: 0.6920 - val_loss: 0.1771 - val_fbeta_score_K: 0.7143\n",
      "Epoch 5/30\n",
      "203/203 [==============================] - 43s 204ms/step - loss: 0.1699 - fbeta_score_K: 0.7078 - val_loss: 0.1844 - val_fbeta_score_K: 0.7106\n",
      "Epoch 6/30\n",
      "203/203 [==============================] - 46s 204ms/step - loss: 0.1635 - fbeta_score_K: 0.7194 - val_loss: 0.1696 - val_fbeta_score_K: 0.7261\n",
      "Epoch 7/30\n",
      "203/203 [==============================] - 43s 203ms/step - loss: 0.1610 - fbeta_score_K: 0.7230 - val_loss: 0.1706 - val_fbeta_score_K: 0.7307\n",
      "Epoch 8/30\n",
      "203/203 [==============================] - 45s 213ms/step - loss: 0.1571 - fbeta_score_K: 0.7288 - val_loss: 0.1769 - val_fbeta_score_K: 0.7363\n",
      "Epoch 9/30\n",
      "203/203 [==============================] - 43s 206ms/step - loss: 0.1569 - fbeta_score_K: 0.7313 - val_loss: 0.1686 - val_fbeta_score_K: 0.7385\n",
      "Epoch 10/30\n",
      "203/203 [==============================] - 45s 212ms/step - loss: 0.1514 - fbeta_score_K: 0.7399 - val_loss: 0.1539 - val_fbeta_score_K: 0.7505\n",
      "Epoch 11/30\n",
      "203/203 [==============================] - 43s 206ms/step - loss: 0.1500 - fbeta_score_K: 0.7416 - val_loss: 0.1443 - val_fbeta_score_K: 0.7526\n",
      "Epoch 12/30\n",
      "203/203 [==============================] - 45s 202ms/step - loss: 0.1462 - fbeta_score_K: 0.7471 - val_loss: 0.1478 - val_fbeta_score_K: 0.7455\n",
      "Epoch 13/30\n",
      "203/203 [==============================] - 44s 204ms/step - loss: 0.1452 - fbeta_score_K: 0.7498 - val_loss: 0.1411 - val_fbeta_score_K: 0.7509\n",
      "Epoch 14/30\n",
      "203/203 [==============================] - 43s 203ms/step - loss: 0.1423 - fbeta_score_K: 0.7542 - val_loss: 0.1481 - val_fbeta_score_K: 0.7752\n",
      "Epoch 15/30\n",
      "203/203 [==============================] - 43s 206ms/step - loss: 0.1418 - fbeta_score_K: 0.7563 - val_loss: 0.1468 - val_fbeta_score_K: 0.7596\n",
      "Epoch 16/30\n",
      "203/203 [==============================] - 43s 204ms/step - loss: 0.1397 - fbeta_score_K: 0.7590 - val_loss: 0.1348 - val_fbeta_score_K: 0.7727\n",
      "Epoch 17/30\n",
      "203/203 [==============================] - 44s 208ms/step - loss: 0.1398 - fbeta_score_K: 0.7592 - val_loss: 0.1354 - val_fbeta_score_K: 0.7656\n",
      "Epoch 18/30\n",
      "203/203 [==============================] - 43s 206ms/step - loss: 0.1356 - fbeta_score_K: 0.7648 - val_loss: 0.1393 - val_fbeta_score_K: 0.7730\n",
      "Epoch 19/30\n",
      "203/203 [==============================] - 46s 204ms/step - loss: 0.1378 - fbeta_score_K: 0.7627 - val_loss: 0.1356 - val_fbeta_score_K: 0.7827\n",
      "Epoch 20/30\n",
      "203/203 [==============================] - 43s 205ms/step - loss: 0.1342 - fbeta_score_K: 0.7685 - val_loss: 0.1311 - val_fbeta_score_K: 0.7887\n",
      "Epoch 21/30\n",
      "203/203 [==============================] - 43s 204ms/step - loss: 0.1335 - fbeta_score_K: 0.7697 - val_loss: 0.1402 - val_fbeta_score_K: 0.7814\n",
      "Epoch 22/30\n",
      "203/203 [==============================] - 43s 204ms/step - loss: 0.1348 - fbeta_score_K: 0.7688 - val_loss: 0.1429 - val_fbeta_score_K: 0.7779\n",
      "Epoch 23/30\n",
      "203/203 [==============================] - 44s 202ms/step - loss: 0.1344 - fbeta_score_K: 0.7691 - val_loss: 0.1411 - val_fbeta_score_K: 0.7768\n",
      "Epoch 24/30\n",
      "203/203 [==============================] - 44s 209ms/step - loss: 0.1319 - fbeta_score_K: 0.7725 - val_loss: 0.1383 - val_fbeta_score_K: 0.7876\n",
      "Epoch 25/30\n",
      "203/203 [==============================] - 42s 202ms/step - loss: 0.1306 - fbeta_score_K: 0.7762 - val_loss: 0.1255 - val_fbeta_score_K: 0.7883\n",
      "Epoch 26/30\n",
      "203/203 [==============================] - 44s 207ms/step - loss: 0.1304 - fbeta_score_K: 0.7749 - val_loss: 0.1286 - val_fbeta_score_K: 0.7907\n",
      "Epoch 27/30\n",
      "203/203 [==============================] - 43s 206ms/step - loss: 0.1290 - fbeta_score_K: 0.7783 - val_loss: 0.1251 - val_fbeta_score_K: 0.7951\n",
      "Epoch 28/30\n",
      "203/203 [==============================] - 43s 202ms/step - loss: 0.1294 - fbeta_score_K: 0.7776 - val_loss: 0.1287 - val_fbeta_score_K: 0.7910\n",
      "Epoch 29/30\n",
      "203/203 [==============================] - 43s 204ms/step - loss: 0.1282 - fbeta_score_K: 0.7792 - val_loss: 0.1307 - val_fbeta_score_K: 0.7885\n",
      "Epoch 30/30\n",
      "203/203 [==============================] - 44s 207ms/step - loss: 0.1292 - fbeta_score_K: 0.7775 - val_loss: 0.1249 - val_fbeta_score_K: 0.7884\n",
      "here dict_keys(['loss', 'fbeta_score_K', 'val_loss', 'val_fbeta_score_K', 'lr'])\n"
     ]
    }
   ],
   "source": [
    "train_generator, val_generator, test_generator = data_generator(X_train_files_o, y_train_o,0)\n",
    "\n",
    "model_path = 'CNN_C_weights' + '.h5'\n",
    "\n",
    "\n",
    "adam = Adam(learning_rate=LR)\n",
    "\n",
    "cnn_dropout_model = dropout.create_model()\n",
    "\n",
    "clear_session()\n",
    "\n",
    "cnn_dropout_model.compile(loss='binary_crossentropy', optimizer=adam, metrics=[fbeta_score_K])\n",
    "\n",
    "callbacks = [\n",
    "    ModelCheckpoint(model_path, monitor='val_fbeta_score_K', save_best_only=True, mode='max'),\n",
    "    ReduceLROnPlateau(monitor='loss', factor=0.1, patience=3, mode='min', min_lr=0.000001),\n",
    "    EarlyStopping(monitor='val_loss', mode='min', verbose=1, patience=5),\n",
    "]\n",
    "\n",
    "history = cnn_dropout_model.fit(train_generator, epochs=EPOCHS, validation_data=val_generator, callbacks=callbacks,\n",
    "                   workers=WORKERS, use_multiprocessing=False, max_queue_size=MAXQ)\n",
    "\n",
    "print('here', history.history.keys())\n",
    "\n",
    "cnn_dropout_model.load_weights(model_path)\n",
    "\n",
    "y_pred = cnn_dropout_model.predict(test_generator, workers=WORKERS, use_multiprocessing=False, max_queue_size=MAXQ)"
   ]
  },
  {
   "cell_type": "code",
   "execution_count": 80,
   "id": "f8b8b29d",
   "metadata": {},
   "outputs": [
    {
     "data": {
      "image/png": "[encoded data removed]",
      "text/plain": [
       "<Figure size 432x288 with 1 Axes>"
      ]
     },
     "metadata": {
      "needs_background": "light"
     },
     "output_type": "display_data"
    },
    {
     "data": {
      "image/png": "[encoded data removed]",
      "text/plain": [
       "<Figure size 432x288 with 1 Axes>"
      ]
     },
     "metadata": {
      "needs_background": "light"
     },
     "output_type": "display_data"
    },
    {
     "name": "stdout",
     "output_type": "stream",
     "text": [
      "Test Accuracy Score 0.8089813585413624\n"
     ]
    }
   ],
   "source": [
    "plot(history.history,'CNN_C_train_history.csv')\n",
    "print(\"Test Accuracy Score\",calc_acc(y_pred,df_test))"
   ]
  },
  {
   "cell_type": "markdown",
   "id": "3a58a488",
   "metadata": {},
   "source": [
    "### D. CNN_Baseline + Data Augmentation + Batch Normalization + Drop out + Early Stopping"
   ]
  },
  {
   "cell_type": "code",
   "execution_count": 27,
   "id": "b2681dbe",
   "metadata": {},
   "outputs": [
    {
     "name": "stdout",
     "output_type": "stream",
     "text": [
      "Found 25906 validated image filenames belonging to 17 classes.\n",
      "Found 6477 validated image filenames belonging to 17 classes.\n",
      "Found 8096 validated image filenames belonging to 17 classes.\n",
      "Epoch 1/30\n",
      "203/203 [==============================] - 41s 191ms/step - loss: 0.2597 - fbeta_score_K: 0.5992 - val_loss: 0.3085 - val_fbeta_score_K: 0.5673\n",
      "Epoch 2/30\n",
      "203/203 [==============================] - 42s 198ms/step - loss: 0.1838 - fbeta_score_K: 0.6860 - val_loss: 0.2893 - val_fbeta_score_K: 0.5622\n",
      "Epoch 3/30\n",
      "203/203 [==============================] - 42s 199ms/step - loss: 0.1697 - fbeta_score_K: 0.7130 - val_loss: 0.2024 - val_fbeta_score_K: 0.6690\n",
      "Epoch 4/30\n",
      "203/203 [==============================] - 42s 200ms/step - loss: 0.1578 - fbeta_score_K: 0.7327 - val_loss: 0.1726 - val_fbeta_score_K: 0.7036\n",
      "Epoch 5/30\n",
      "203/203 [==============================] - 42s 197ms/step - loss: 0.1483 - fbeta_score_K: 0.7485 - val_loss: 0.1624 - val_fbeta_score_K: 0.7391\n",
      "Epoch 6/30\n",
      "203/203 [==============================] - 46s 207ms/step - loss: 0.1457 - fbeta_score_K: 0.7528 - val_loss: 0.1509 - val_fbeta_score_K: 0.7601\n",
      "Epoch 7/30\n",
      "203/203 [==============================] - 42s 201ms/step - loss: 0.1416 - fbeta_score_K: 0.7607 - val_loss: 0.1440 - val_fbeta_score_K: 0.7702\n",
      "Epoch 8/30\n",
      "203/203 [==============================] - 44s 200ms/step - loss: 0.1394 - fbeta_score_K: 0.7656 - val_loss: 0.1347 - val_fbeta_score_K: 0.7779\n",
      "Epoch 9/30\n",
      "203/203 [==============================] - 43s 199ms/step - loss: 0.1340 - fbeta_score_K: 0.7733 - val_loss: 0.1449 - val_fbeta_score_K: 0.7805\n",
      "Epoch 10/30\n",
      "203/203 [==============================] - 44s 200ms/step - loss: 0.1319 - fbeta_score_K: 0.7768 - val_loss: 0.1314 - val_fbeta_score_K: 0.7860\n",
      "Epoch 11/30\n",
      "203/203 [==============================] - 44s 199ms/step - loss: 0.1316 - fbeta_score_K: 0.7782 - val_loss: 0.1328 - val_fbeta_score_K: 0.7695\n",
      "Epoch 12/30\n",
      "203/203 [==============================] - 45s 202ms/step - loss: 0.1273 - fbeta_score_K: 0.7840 - val_loss: 0.1520 - val_fbeta_score_K: 0.7344\n",
      "Epoch 13/30\n",
      "203/203 [==============================] - 42s 200ms/step - loss: 0.1285 - fbeta_score_K: 0.7818 - val_loss: 0.1270 - val_fbeta_score_K: 0.7895\n",
      "Epoch 14/30\n",
      "203/203 [==============================] - 43s 205ms/step - loss: 0.1252 - fbeta_score_K: 0.7888 - val_loss: 0.1263 - val_fbeta_score_K: 0.7871\n",
      "Epoch 15/30\n",
      "203/203 [==============================] - 43s 203ms/step - loss: 0.1235 - fbeta_score_K: 0.7905 - val_loss: 0.1264 - val_fbeta_score_K: 0.8025\n",
      "Epoch 16/30\n",
      "203/203 [==============================] - 44s 200ms/step - loss: 0.1221 - fbeta_score_K: 0.7957 - val_loss: 0.1205 - val_fbeta_score_K: 0.8043\n",
      "Epoch 17/30\n",
      "203/203 [==============================] - 42s 201ms/step - loss: 0.1201 - fbeta_score_K: 0.7974 - val_loss: 0.1150 - val_fbeta_score_K: 0.8076\n",
      "Epoch 18/30\n",
      "203/203 [==============================] - 44s 209ms/step - loss: 0.1197 - fbeta_score_K: 0.7977 - val_loss: 0.1240 - val_fbeta_score_K: 0.7945\n",
      "Epoch 19/30\n",
      "203/203 [==============================] - 44s 210ms/step - loss: 0.1171 - fbeta_score_K: 0.8028 - val_loss: 0.1193 - val_fbeta_score_K: 0.8042\n",
      "Epoch 20/30\n",
      "203/203 [==============================] - 43s 204ms/step - loss: 0.1182 - fbeta_score_K: 0.8009 - val_loss: 0.1641 - val_fbeta_score_K: 0.7338\n",
      "Epoch 21/30\n",
      "203/203 [==============================] - 46s 205ms/step - loss: 0.1184 - fbeta_score_K: 0.8008 - val_loss: 0.1300 - val_fbeta_score_K: 0.8106\n",
      "Epoch 22/30\n",
      "203/203 [==============================] - 44s 211ms/step - loss: 0.1151 - fbeta_score_K: 0.8056 - val_loss: 0.1117 - val_fbeta_score_K: 0.8047\n",
      "Epoch 23/30\n",
      "203/203 [==============================] - 44s 207ms/step - loss: 0.1139 - fbeta_score_K: 0.8073 - val_loss: 0.1381 - val_fbeta_score_K: 0.7817\n",
      "Epoch 24/30\n",
      "203/203 [==============================] - 43s 206ms/step - loss: 0.1128 - fbeta_score_K: 0.8108 - val_loss: 0.1149 - val_fbeta_score_K: 0.8066\n",
      "Epoch 25/30\n",
      "203/203 [==============================] - 44s 208ms/step - loss: 0.1154 - fbeta_score_K: 0.8056 - val_loss: 0.1100 - val_fbeta_score_K: 0.8172\n",
      "Epoch 26/30\n",
      "203/203 [==============================] - 46s 211ms/step - loss: 0.1124 - fbeta_score_K: 0.8110 - val_loss: 0.1192 - val_fbeta_score_K: 0.8251\n",
      "Epoch 27/30\n",
      "203/203 [==============================] - 45s 214ms/step - loss: 0.1123 - fbeta_score_K: 0.8107 - val_loss: 0.1105 - val_fbeta_score_K: 0.8213\n",
      "Epoch 28/30\n",
      "203/203 [==============================] - 46s 209ms/step - loss: 0.1120 - fbeta_score_K: 0.8120 - val_loss: 0.1081 - val_fbeta_score_K: 0.8242\n",
      "Epoch 29/30\n",
      "203/203 [==============================] - 48s 215ms/step - loss: 0.1124 - fbeta_score_K: 0.8114 - val_loss: 0.1128 - val_fbeta_score_K: 0.8236\n",
      "Epoch 30/30\n",
      "203/203 [==============================] - 47s 212ms/step - loss: 0.1105 - fbeta_score_K: 0.8147 - val_loss: 0.1086 - val_fbeta_score_K: 0.8274\n",
      "here dict_keys(['loss', 'fbeta_score_K', 'val_loss', 'val_fbeta_score_K', 'lr'])\n"
     ]
    }
   ],
   "source": [
    "train_generator, val_generator, test_generator = data_generator(X_train_files_o, y_train_o,0)\n",
    "\n",
    "model_path = 'CNN_D_weights' + '.h5'\n",
    "\n",
    "\n",
    "adam = Adam(learning_rate=LR)\n",
    "\n",
    "cnn_batch_model = batchN.create_model()\n",
    "\n",
    "clear_session()\n",
    "\n",
    "cnn_batch_model.compile(loss='binary_crossentropy', optimizer=adam, metrics=[fbeta_score_K])\n",
    "\n",
    "callbacks = [\n",
    "    ModelCheckpoint(model_path, monitor='val_fbeta_score_K', save_best_only=True, mode='max'),\n",
    "    ReduceLROnPlateau(monitor='loss', factor=0.1, patience=3, mode='min', min_lr=0.000001),\n",
    "    EarlyStopping(monitor='val_loss', mode='min', verbose=1, patience=5),\n",
    "]\n",
    "\n",
    "history = cnn_batch_model.fit(train_generator, epochs=EPOCHS, validation_data=val_generator, callbacks=callbacks,\n",
    "                   workers=WORKERS, use_multiprocessing=False, max_queue_size=MAXQ)\n",
    "\n",
    "print('here', history.history.keys())\n",
    "\n",
    "cnn_batch_model.load_weights(model_path)\n",
    "\n",
    "y_pred = cnn_batch_model.predict(test_generator, workers=WORKERS, use_multiprocessing=False, max_queue_size=MAXQ)"
   ]
  },
  {
   "cell_type": "code",
   "execution_count": 29,
   "id": "074659c3",
   "metadata": {},
   "outputs": [
    {
     "data": {
      "image/png": "[encoded data removed]",
      "text/plain": [
       "<Figure size 432x288 with 1 Axes>"
      ]
     },
     "metadata": {
      "needs_background": "light"
     },
     "output_type": "display_data"
    },
    {
     "data": {
      "image/png": "[encoded data removed]",
      "text/plain": [
       "<Figure size 432x288 with 1 Axes>"
      ]
     },
     "metadata": {
      "needs_background": "light"
     },
     "output_type": "display_data"
    },
    {
     "name": "stdout",
     "output_type": "stream",
     "text": [
      "Test Accuracy Score 0.8326765966766223\n"
     ]
    }
   ],
   "source": [
    "plot(history.history,'CNN_D_train_history.csv')\n",
    "print(\"Test Accuracy Score\",calc_acc(y_pred,df_test))"
   ]
  },
  {
   "cell_type": "markdown",
   "id": "6a55f5f6",
   "metadata": {},
   "source": [
    "### E. MobileNet + Data Augmentation"
   ]
  },
  {
   "cell_type": "code",
   "execution_count": 39,
   "id": "96e011f0",
   "metadata": {},
   "outputs": [
    {
     "name": "stdout",
     "output_type": "stream",
     "text": [
      "Found 25906 validated image filenames belonging to 17 classes.\n",
      "Found 6477 validated image filenames belonging to 17 classes.\n",
      "Found 8096 validated image filenames belonging to 17 classes.\n",
      "WARNING:tensorflow:`input_shape` is undefined or non-square, or `rows` is not in [128, 160, 192, 224]. Weights for input shape (224, 224) will be loaded as the default.\n",
      "Epoch 1/30\n",
      "203/203 [==============================] - 45s 204ms/step - loss: 0.3307 - fbeta_score_K: 0.6208 - val_loss: 0.1707 - val_fbeta_score_K: 0.7465\n",
      "Epoch 2/30\n",
      "203/203 [==============================] - 44s 211ms/step - loss: 0.1160 - fbeta_score_K: 0.8095 - val_loss: 0.1106 - val_fbeta_score_K: 0.8208\n",
      "Epoch 3/30\n",
      "203/203 [==============================] - 44s 208ms/step - loss: 0.1079 - fbeta_score_K: 0.8210 - val_loss: 0.1015 - val_fbeta_score_K: 0.8379\n",
      "Epoch 4/30\n",
      "203/203 [==============================] - 44s 208ms/step - loss: 0.1026 - fbeta_score_K: 0.8299 - val_loss: 0.0988 - val_fbeta_score_K: 0.8490\n",
      "Epoch 5/30\n",
      "203/203 [==============================] - 44s 211ms/step - loss: 0.0988 - fbeta_score_K: 0.8353 - val_loss: 0.0952 - val_fbeta_score_K: 0.8457\n",
      "Epoch 6/30\n",
      "203/203 [==============================] - 43s 207ms/step - loss: 0.0973 - fbeta_score_K: 0.8364 - val_loss: 0.0950 - val_fbeta_score_K: 0.8468\n",
      "Epoch 7/30\n",
      "203/203 [==============================] - 44s 211ms/step - loss: 0.0934 - fbeta_score_K: 0.8421 - val_loss: 0.0930 - val_fbeta_score_K: 0.8449\n",
      "Epoch 8/30\n",
      "203/203 [==============================] - 42s 201ms/step - loss: 0.0922 - fbeta_score_K: 0.8435 - val_loss: 0.0923 - val_fbeta_score_K: 0.8476\n",
      "Epoch 9/30\n",
      "203/203 [==============================] - 43s 205ms/step - loss: 0.0908 - fbeta_score_K: 0.8467 - val_loss: 0.0932 - val_fbeta_score_K: 0.8566\n",
      "Epoch 10/30\n",
      "203/203 [==============================] - 44s 210ms/step - loss: 0.0882 - fbeta_score_K: 0.8507 - val_loss: 0.0934 - val_fbeta_score_K: 0.8544\n",
      "Epoch 11/30\n",
      "203/203 [==============================] - 42s 200ms/step - loss: 0.0864 - fbeta_score_K: 0.8529 - val_loss: 0.0927 - val_fbeta_score_K: 0.8518\n",
      "Epoch 12/30\n",
      "203/203 [==============================] - 42s 201ms/step - loss: 0.0852 - fbeta_score_K: 0.8551 - val_loss: 0.0945 - val_fbeta_score_K: 0.8592\n",
      "Epoch 13/30\n",
      "203/203 [==============================] - 42s 202ms/step - loss: 0.0840 - fbeta_score_K: 0.8558 - val_loss: 0.0929 - val_fbeta_score_K: 0.8523\n",
      "Epoch 00013: early stopping\n",
      "here dict_keys(['loss', 'fbeta_score_K', 'val_loss', 'val_fbeta_score_K', 'lr'])\n"
     ]
    }
   ],
   "source": [
    "train_generator, val_generator, test_generator = data_generator(X_train_files_o, y_train_o,0)\n",
    "\n",
    "model_path = 'CNN_E_weights' + '.h5'\n",
    "\n",
    "\n",
    "adam = Adam(learning_rate=LR)\n",
    "\n",
    "mobnet_model = mobnet.create_model()\n",
    "\n",
    "clear_session()\n",
    "mobnet_model.compile(loss='binary_crossentropy', optimizer=adam, metrics=[fbeta_score_K])\n",
    "\n",
    "callbacks = [\n",
    "    ModelCheckpoint(model_path, monitor='val_fbeta_score_K', save_best_only=True, mode='max'),\n",
    "    ReduceLROnPlateau(monitor='loss', factor=0.1, patience=3, mode='min', min_lr=0.000001),\n",
    "    EarlyStopping(monitor='val_loss', mode='min', verbose=1, patience=5)\n",
    "]\n",
    "\n",
    "history = mobnet_model.fit(train_generator, epochs=EPOCHS, validation_data=val_generator, callbacks=callbacks,\n",
    "                   workers=WORKERS, use_multiprocessing=False, max_queue_size=MAXQ)\n",
    "\n",
    "print('here', history.history.keys())\n",
    "\n",
    "mobnet_model.load_weights(model_path)\n",
    "\n",
    "y_pred = mobnet_model.predict(test_generator, workers=WORKERS, use_multiprocessing=False, max_queue_size=MAXQ)\n"
   ]
  },
  {
   "cell_type": "code",
   "execution_count": 40,
   "id": "c9768069",
   "metadata": {},
   "outputs": [
    {
     "data": {
      "image/png": "[encoded data removed]",
      "text/plain": [
       "<Figure size 432x288 with 1 Axes>"
      ]
     },
     "metadata": {
      "needs_background": "light"
     },
     "output_type": "display_data"
    },
    {
     "data": {
      "image/png": "[encoded data removed]",
      "text/plain": [
       "<Figure size 432x288 with 1 Axes>"
      ]
     },
     "metadata": {
      "needs_background": "light"
     },
     "output_type": "display_data"
    },
    {
     "name": "stdout",
     "output_type": "stream",
     "text": [
      "Test Accuracy Score 0.8396452396726498\n"
     ]
    }
   ],
   "source": [
    "plot(history.history,'CNN_E_train_history.csv')\n",
    "print(\"Test Accuracy Score\",calc_acc(y_pred,df_test))"
   ]
  },
  {
   "cell_type": "markdown",
   "id": "ee16b787",
   "metadata": {},
   "source": [
    "### F. VGG16 + Data Augmentation"
   ]
  },
  {
   "cell_type": "code",
   "execution_count": 33,
   "id": "ccb3a150",
   "metadata": {},
   "outputs": [
    {
     "name": "stdout",
     "output_type": "stream",
     "text": [
      "Found 25906 validated image filenames belonging to 17 classes.\n",
      "Found 6477 validated image filenames belonging to 17 classes.\n",
      "Found 8096 validated image filenames belonging to 17 classes.\n",
      "WARNING:tensorflow:`input_shape` is undefined or non-square, or `rows` is not in [128, 160, 192, 224]. Weights for input shape (224, 224) will be loaded as the default.\n",
      "Epoch 1/30\n",
      "203/203 [==============================] - 46s 209ms/step - loss: 0.3436 - fbeta_score_K: 0.6253 - val_loss: 0.1539 - val_fbeta_score_K: 0.7484\n",
      "Epoch 2/30\n",
      "203/203 [==============================] - 45s 210ms/step - loss: 0.1169 - fbeta_score_K: 0.8069 - val_loss: 0.1073 - val_fbeta_score_K: 0.8281\n",
      "Epoch 3/30\n",
      "203/203 [==============================] - 45s 213ms/step - loss: 0.1084 - fbeta_score_K: 0.8205 - val_loss: 0.1014 - val_fbeta_score_K: 0.8425\n",
      "Epoch 4/30\n",
      "203/203 [==============================] - 45s 212ms/step - loss: 0.1019 - fbeta_score_K: 0.8311 - val_loss: 0.0976 - val_fbeta_score_K: 0.8442\n",
      "Epoch 5/30\n",
      "203/203 [==============================] - 44s 211ms/step - loss: 0.0988 - fbeta_score_K: 0.8344 - val_loss: 0.0968 - val_fbeta_score_K: 0.8467\n",
      "Epoch 6/30\n",
      "203/203 [==============================] - 46s 216ms/step - loss: 0.0966 - fbeta_score_K: 0.8379 - val_loss: 0.0947 - val_fbeta_score_K: 0.8466\n",
      "Epoch 7/30\n",
      "203/203 [==============================] - 46s 217ms/step - loss: 0.0937 - fbeta_score_K: 0.8417 - val_loss: 0.0942 - val_fbeta_score_K: 0.8478\n",
      "Epoch 8/30\n",
      "203/203 [==============================] - 46s 217ms/step - loss: 0.0926 - fbeta_score_K: 0.8439 - val_loss: 0.0946 - val_fbeta_score_K: 0.8563\n",
      "Epoch 9/30\n",
      "203/203 [==============================] - 45s 213ms/step - loss: 0.0898 - fbeta_score_K: 0.8479 - val_loss: 0.0953 - val_fbeta_score_K: 0.8523\n",
      "Epoch 10/30\n",
      "203/203 [==============================] - 45s 210ms/step - loss: 0.0889 - fbeta_score_K: 0.8487 - val_loss: 0.0915 - val_fbeta_score_K: 0.8546\n",
      "Epoch 11/30\n",
      "203/203 [==============================] - 45s 214ms/step - loss: 0.0880 - fbeta_score_K: 0.8501 - val_loss: 0.0930 - val_fbeta_score_K: 0.8518\n",
      "Epoch 12/30\n",
      "203/203 [==============================] - 43s 205ms/step - loss: 0.0855 - fbeta_score_K: 0.8537 - val_loss: 0.0930 - val_fbeta_score_K: 0.8543\n",
      "Epoch 13/30\n",
      "203/203 [==============================] - 44s 208ms/step - loss: 0.0846 - fbeta_score_K: 0.8555 - val_loss: 0.0923 - val_fbeta_score_K: 0.8549\n",
      "Epoch 14/30\n",
      "203/203 [==============================] - 46s 218ms/step - loss: 0.0815 - fbeta_score_K: 0.8596 - val_loss: 0.0921 - val_fbeta_score_K: 0.8586\n",
      "Epoch 15/30\n",
      "203/203 [==============================] - 46s 212ms/step - loss: 0.0818 - fbeta_score_K: 0.8595 - val_loss: 0.0927 - val_fbeta_score_K: 0.8651\n",
      "Epoch 00015: early stopping\n",
      "here dict_keys(['loss', 'fbeta_score_K', 'val_loss', 'val_fbeta_score_K', 'lr'])\n"
     ]
    }
   ],
   "source": [
    "train_generator, val_generator, test_generator = data_generator(X_train_files_o, y_train_o,0)\n",
    "\n",
    "model_path = 'CNN_F_weights' + '.h5'\n",
    "\n",
    "\n",
    "adam = Adam(learning_rate=LR)\n",
    "\n",
    "vgg16_model = vgg16.create_model()\n",
    "\n",
    "clear_session()\n",
    "vgg16_model.compile(loss='binary_crossentropy', optimizer=adam, metrics=[fbeta_score_K])\n",
    "\n",
    "callbacks = [\n",
    "    ModelCheckpoint(model_path, monitor='val_fbeta_score_K', save_best_only=True, mode='max'),\n",
    "    ReduceLROnPlateau(monitor='loss', factor=0.1, patience=3, mode='min', min_lr=0.000001),\n",
    "    EarlyStopping(monitor='val_loss', mode='min', verbose=1, patience=5)\n",
    "]\n",
    "\n",
    "history = vgg16_model.fit(train_generator, epochs=EPOCHS, validation_data=val_generator, callbacks=callbacks,\n",
    "                   workers=WORKERS, use_multiprocessing=False, max_queue_size=MAXQ)\n",
    "\n",
    "print('here', history.history.keys())\n",
    "\n",
    "vgg16_model.load_weights(model_path)\n",
    "\n",
    "y_pred = vgg16_model.predict(test_generator, workers=WORKERS, use_multiprocessing=False, max_queue_size=MAXQ)\n"
   ]
  },
  {
   "cell_type": "code",
   "execution_count": 34,
   "id": "3ff429b2",
   "metadata": {},
   "outputs": [
    {
     "data": {
      "image/png": "[encoded data removed]",
      "text/plain": [
       "<Figure size 432x288 with 1 Axes>"
      ]
     },
     "metadata": {
      "needs_background": "light"
     },
     "output_type": "display_data"
    },
    {
     "data": {
      "image/png": "[encoded data removed]",
      "text/plain": [
       "<Figure size 432x288 with 1 Axes>"
      ]
     },
     "metadata": {
      "needs_background": "light"
     },
     "output_type": "display_data"
    },
    {
     "name": "stdout",
     "output_type": "stream",
     "text": [
      "Test Accuracy Score 0.8454129454336857\n"
     ]
    }
   ],
   "source": [
    "plot(history.history,'CNN_F_train_history.csv')\n",
    "print(\"Test Accuracy Score\",calc_acc(y_pred,df_test))"
   ]
  },
  {
   "cell_type": "markdown",
   "id": "6e03cf05",
   "metadata": {},
   "source": [
    "### XGBoost"
   ]
  },
  {
   "cell_type": "code",
   "execution_count": 83,
   "id": "5ab9f141",
   "metadata": {},
   "outputs": [],
   "source": [
    "import numpy as np\n",
    "import os\n",
    "import pandas as pd\n",
    "import random\n",
    "from tqdm import tqdm\n",
    "import xgboost as xgb\n",
    "import scipy\n",
    "from sklearn.metrics import fbeta_score\n",
    "from PIL import Image"
   ]
  },
  {
   "cell_type": "code",
   "execution_count": 84,
   "id": "15338b20",
   "metadata": {},
   "outputs": [],
   "source": [
    "# Set the seed \n",
    "random_seed = 1\n",
    "random.seed(random_seed)\n",
    "np.random.seed(random_seed)"
   ]
  },
  {
   "cell_type": "code",
   "execution_count": 85,
   "id": "5658d734",
   "metadata": {},
   "outputs": [],
   "source": [
    "# Function to extract the image features\n",
    "def extract_features(df, data_path):\n",
    "    im_features = df.copy()\n",
    "\n",
    "    N = len(im_features.image_name.values)\n",
    "\n",
    "    r_mean = np.zeros(N)\n",
    "    g_mean = np.zeros(N)\n",
    "    b_mean = np.zeros(N)\n",
    "\n",
    "    r_std = np.zeros(N)\n",
    "    g_std = np.zeros(N)\n",
    "    b_std = np.zeros(N)\n",
    "\n",
    "    r_max = np.zeros(N)\n",
    "    g_max = np.zeros(N)\n",
    "    b_max = np.zeros(N)\n",
    "\n",
    "    r_min = np.zeros(N)\n",
    "    g_min = np.zeros(N)\n",
    "    b_min = np.zeros(N)\n",
    "\n",
    "    r_kurtosis = np.zeros(N)\n",
    "    g_kurtosis = np.zeros(N)\n",
    "    b_kurtosis = np.zeros(N)\n",
    "    \n",
    "    r_skewness = np.zeros(N)\n",
    "    g_skewness = np.zeros(N)\n",
    "    b_skewness = np.zeros(N)\n",
    "\n",
    "    for i, image_name in enumerate(tqdm(im_features.image_name.values, miniters=1000)): \n",
    "        im = Image.open(data_path + image_name)\n",
    "        im = np.array(im)[:,:,:3]\n",
    "\n",
    "        r = im[:,:,0].ravel()\n",
    "        g = im[:,:,1].ravel()\n",
    "        b = im[:,:,2].ravel()\n",
    "        \n",
    "        r_mean[i] = np.mean(r)\n",
    "        g_mean[i] = np.mean(g)\n",
    "        b_mean[i] = np.mean(b)\n",
    "\n",
    "        r_std[i] = np.std(r)\n",
    "        g_std[i] = np.std(g)\n",
    "        b_std[i] = np.std(b)\n",
    "\n",
    "        r_max[i] = np.max(r)\n",
    "        g_max[i] = np.max(g)\n",
    "        b_max[i] = np.max(b)\n",
    "\n",
    "        r_min[i] = np.min(r)\n",
    "        g_min[i] = np.min(g)\n",
    "        b_min[i] = np.min(b)\n",
    "\n",
    "        r_kurtosis[i] = scipy.stats.kurtosis(r)\n",
    "        g_kurtosis[i] = scipy.stats.kurtosis(g)\n",
    "        b_kurtosis[i] = scipy.stats.kurtosis(b)\n",
    "        \n",
    "        r_skewness[i] = scipy.stats.skew(r)\n",
    "        g_skewness[i] = scipy.stats.skew(g)\n",
    "        b_skewness[i] = scipy.stats.skew(b)\n",
    "\n",
    "\n",
    "    im_features['r_mean'] = r_mean\n",
    "    im_features['g_mean'] = g_mean\n",
    "    im_features['b_mean'] = b_mean\n",
    "\n",
    "    im_features['rgb_mean_mean'] = (r_mean + g_mean + b_mean)/3.0\n",
    "\n",
    "    im_features['r_std'] = r_std\n",
    "    im_features['g_std'] = g_std\n",
    "    im_features['b_std'] = b_std\n",
    "\n",
    "    im_features['rgb_mean_std'] = (r_std + g_std + b_std)/3.0\n",
    "\n",
    "    im_features['r_max'] = r_max\n",
    "    im_features['g_max'] = g_max\n",
    "    im_features['b_max'] = b_max\n",
    "\n",
    "    im_features['rgb_mean_max'] = (r_max + r_max + b_max)/3.0\n",
    "\n",
    "    im_features['r_min'] = r_min\n",
    "    im_features['g_min'] = g_min\n",
    "    im_features['b_min'] = b_min\n",
    "\n",
    "    im_features['rgb_mean_min'] = (r_min + g_min + b_min)/3.0\n",
    "\n",
    "    im_features['r_range'] = r_max - r_min\n",
    "    im_features['g_range'] = g_max - g_min\n",
    "    im_features['b_range'] = b_max - b_min\n",
    "\n",
    "    im_features['r_kurtosis'] = r_kurtosis\n",
    "    im_features['g_kurtosis'] = g_kurtosis\n",
    "    im_features['b_kurtosis'] = b_kurtosis\n",
    "    \n",
    "    im_features['r_skewness'] = r_skewness\n",
    "    im_features['g_skewness'] = g_skewness\n",
    "    im_features['b_skewness'] = b_skewness\n",
    "    \n",
    "    return im_features"
   ]
  },
  {
   "cell_type": "code",
   "execution_count": 86,
   "id": "6217eca6",
   "metadata": {},
   "outputs": [
    {
     "name": "stderr",
     "output_type": "stream",
     "text": [
      "\r",
      "  0%|          | 0/32383 [00:00<?, ?it/s]"
     ]
    },
    {
     "name": "stdout",
     "output_type": "stream",
     "text": [
      "Extracting train features\n"
     ]
    },
    {
     "name": "stderr",
     "output_type": "stream",
     "text": [
      "100%|██████████| 32383/32383 [04:38<00:00, 116.35it/s]\n",
      "  0%|          | 0/8096 [00:00<?, ?it/s]"
     ]
    },
    {
     "name": "stdout",
     "output_type": "stream",
     "text": [
      "Extracting test features\n"
     ]
    },
    {
     "name": "stderr",
     "output_type": "stream",
     "text": [
      "100%|██████████| 8096/8096 [01:06<00:00, 120.91it/s]\n"
     ]
    }
   ],
   "source": [
    "# Extract features\n",
    "print('Extracting train features')\n",
    "train_features = extract_features(df_train,TRAIN_PATH+\"/\")\n",
    "print('Extracting test features')\n",
    "test_features = extract_features(df_test,TEST_PATH+\"/\")"
   ]
  },
  {
   "cell_type": "code",
   "execution_count": 87,
   "id": "20d10b71",
   "metadata": {},
   "outputs": [],
   "source": [
    "# pickle the data\n",
    "\n",
    "import pickle\n",
    "train_feat = open('train_features_xgb.pickle', 'wb')\n",
    "pickle.dump(train_features, train_feat, protocol=4)\n",
    "train_feat.close()\n",
    "\n",
    "test_feat = open('test_features_xgb.pickle', 'wb')\n",
    "pickle.dump(test_features, test_feat, protocol=4)\n",
    "test_feat.close()"
   ]
  },
  {
   "cell_type": "code",
   "execution_count": 88,
   "id": "9040281d",
   "metadata": {},
   "outputs": [],
   "source": [
    "#load the pickled features:\n",
    "import pickle\n",
    "pickle_XGtrain = open('train_features_xgb.pickle', 'rb')\n",
    "train_features = pickle.load(pickle_XGtrain)\n",
    "\n",
    "pickle_yGtrain = open('test_features_xgb.pickle', 'rb')\n",
    "test_features = pickle.load(pickle_yGtrain)"
   ]
  },
  {
   "cell_type": "code",
   "execution_count": 89,
   "id": "536d555e",
   "metadata": {},
   "outputs": [],
   "source": [
    "# Prepare data\n",
    "X = np.array(train_features.drop(['image_name', 'tags'], axis=1))\n",
    "y_train = []\n",
    "\n",
    "flatten = lambda l: [item for sublist in l for item in sublist]\n",
    "labels = np.array(list(set(flatten(train_features['tags'].values))))\n",
    "#np.array(list(set(flatten([l.split(' ') for l in train_features['tags'].values]))))\n",
    "\n",
    "label_map = {l: i for i, l in enumerate(labels)}\n",
    "inv_label_map = {i: l for l, i in label_map.items()}"
   ]
  },
  {
   "cell_type": "code",
   "execution_count": 48,
   "id": "8cd1b7aa",
   "metadata": {},
   "outputs": [],
   "source": [
    "#print(labels)"
   ]
  },
  {
   "cell_type": "code",
   "execution_count": 50,
   "id": "2bbfb150",
   "metadata": {},
   "outputs": [],
   "source": [
    "#inv_label_map"
   ]
  },
  {
   "cell_type": "code",
   "execution_count": 51,
   "id": "d4d74b23",
   "metadata": {},
   "outputs": [],
   "source": [
    "#label_map"
   ]
  },
  {
   "cell_type": "code",
   "execution_count": 53,
   "id": "8b7306be",
   "metadata": {},
   "outputs": [],
   "source": [
    "#train_features['tags']\n",
    "#df_train.tags.values"
   ]
  },
  {
   "cell_type": "code",
   "execution_count": 90,
   "id": "f71727ca",
   "metadata": {},
   "outputs": [
    {
     "name": "stderr",
     "output_type": "stream",
     "text": [
      "100%|██████████| 32383/32383 [00:00<00:00, 411550.91it/s]\n"
     ]
    }
   ],
   "source": [
    "for tags in tqdm(df_train.tags.values, miniters=1000):\n",
    "    targets = np.zeros(17)\n",
    "    for t in tags:\n",
    "        targets[label_map[t]] = 1 \n",
    "    y_train.append(targets)\n",
    "    \n",
    "y = np.array(y_train, np.uint8)"
   ]
  },
  {
   "cell_type": "code",
   "execution_count": 91,
   "id": "0b49cd2b",
   "metadata": {},
   "outputs": [
    {
     "name": "stdout",
     "output_type": "stream",
     "text": [
      "X.shape = (32383, 25)\n",
      "y.shape = (32383, 17)\n"
     ]
    }
   ],
   "source": [
    "print('X.shape = ' + str(X.shape))\n",
    "print('y.shape = ' + str(y.shape))"
   ]
  },
  {
   "cell_type": "code",
   "execution_count": 92,
   "id": "044b0884",
   "metadata": {},
   "outputs": [
    {
     "name": "stdout",
     "output_type": "stream",
     "text": [
      "[0 1 0 0 0 0 0 0 0 0 1 0 0 0 0 0 0]\n"
     ]
    }
   ],
   "source": [
    "print(y[4])"
   ]
  },
  {
   "cell_type": "code",
   "execution_count": 93,
   "id": "daa7fb22",
   "metadata": {},
   "outputs": [],
   "source": [
    "n_classes = y.shape[1]\n",
    "\n",
    "#Create X train and test dataset\n",
    "\n",
    "X_test = np.array(test_features.drop(['image_name', 'tags'], axis=1))\n",
    "X_train = np.array(train_features.drop(['image_name', 'tags'], axis=1))"
   ]
  },
  {
   "cell_type": "code",
   "execution_count": 94,
   "id": "16bc04da",
   "metadata": {},
   "outputs": [
    {
     "name": "stdout",
     "output_type": "stream",
     "text": [
      "(8096, 26)\n"
     ]
    }
   ],
   "source": [
    "print(X_test.shape)"
   ]
  },
  {
   "cell_type": "code",
   "execution_count": 95,
   "id": "2b215213",
   "metadata": {},
   "outputs": [
    {
     "name": "stdout",
     "output_type": "stream",
     "text": [
      "(32383, 25)\n"
     ]
    }
   ],
   "source": [
    "print(X_train.shape)"
   ]
  },
  {
   "cell_type": "code",
   "execution_count": 96,
   "id": "0594c2af",
   "metadata": {},
   "outputs": [
    {
     "ename": "TypeError",
     "evalue": "ufunc 'isnan' not supported for the input types, and the inputs could not be safely coerced to any supported types according to the casting rule ''safe''",
     "output_type": "error",
     "traceback": [
      "\u001b[0;31m---------------------------------------------------------------------------\u001b[0m",
      "\u001b[0;31mTypeError\u001b[0m                                 Traceback (most recent call last)",
      "\u001b[0;32m<ipython-input-96-ac28574a02b9>\u001b[0m in \u001b[0;36m<module>\u001b[0;34m\u001b[0m\n\u001b[0;32m----> 1\u001b[0;31m \u001b[0marray_has_nan\u001b[0m \u001b[0;34m=\u001b[0m \u001b[0mnp\u001b[0m\u001b[0;34m.\u001b[0m\u001b[0misnan\u001b[0m\u001b[0;34m(\u001b[0m\u001b[0mX_test\u001b[0m\u001b[0;34m)\u001b[0m\u001b[0;34m\u001b[0m\u001b[0;34m\u001b[0m\u001b[0m\n\u001b[0m\u001b[1;32m      2\u001b[0m \u001b[0mprint\u001b[0m\u001b[0;34m(\u001b[0m\u001b[0mnp\u001b[0m\u001b[0;34m.\u001b[0m\u001b[0mall\u001b[0m\u001b[0;34m(\u001b[0m\u001b[0mnp\u001b[0m\u001b[0;34m.\u001b[0m\u001b[0misnan\u001b[0m\u001b[0;34m(\u001b[0m\u001b[0mX_test\u001b[0m\u001b[0;34m)\u001b[0m\u001b[0;34m)\u001b[0m\u001b[0;34m)\u001b[0m\u001b[0;34m\u001b[0m\u001b[0;34m\u001b[0m\u001b[0m\n",
      "\u001b[0;31mTypeError\u001b[0m: ufunc 'isnan' not supported for the input types, and the inputs could not be safely coerced to any supported types according to the casting rule ''safe''"
     ]
    }
   ],
   "source": [
    "array_has_nan = np.isnan(X_test)\n",
    "print(np.all(np.isnan(X_test)))"
   ]
  },
  {
   "cell_type": "code",
   "execution_count": 97,
   "id": "01d02747",
   "metadata": {},
   "outputs": [],
   "source": [
    "# Train and predict with one-vs-all strategy\n",
    "y_pred = np.zeros((X_test.shape[0], n_classes))\n",
    "train_pred = np.zeros((X_train.shape[0], n_classes))"
   ]
  },
  {
   "cell_type": "code",
   "execution_count": 98,
   "id": "567a3149",
   "metadata": {},
   "outputs": [
    {
     "name": "stderr",
     "output_type": "stream",
     "text": [
      "\r",
      "  0%|          | 0/17 [00:00<?, ?it/s]"
     ]
    },
    {
     "name": "stdout",
     "output_type": "stream",
     "text": [
      "Wait for it ....\n",
      "[14:46:38] WARNING: ../src/learner.cc:573: \n",
      "Parameters: { \"silent\" } might not be used.\n",
      "\n",
      "  This may not be accurate due to some parameters are only used in language bindings but\n",
      "  passed down to XGBoost core.  Or some parameters are not used but slip through this\n",
      "  verification. Please open an issue if you find above cases.\n",
      "\n",
      "\n"
     ]
    },
    {
     "name": "stderr",
     "output_type": "stream",
     "text": [
      "/homes/pp837/.local/lib/python3.8/site-packages/xgboost/sklearn.py:1146: UserWarning: The use of label encoder in XGBClassifier is deprecated and will be removed in a future release. To remove this warning, do the following: 1) Pass option use_label_encoder=False when constructing XGBClassifier object; and 2) Encode your labels (y) as integers starting with 0, i.e. 0, 1, 2, ..., [num_class - 1].\n",
      "  warnings.warn(label_encoder_deprecation_msg, UserWarning)\n"
     ]
    },
    {
     "name": "stdout",
     "output_type": "stream",
     "text": [
      "[14:46:39] WARNING: ../src/learner.cc:1095: Starting in XGBoost 1.3.0, the default evaluation metric used with the objective 'binary:logistic' was changed from 'error' to 'logloss'. Explicitly set eval_metric if you'd like to restore the old behavior.\n"
     ]
    },
    {
     "name": "stderr",
     "output_type": "stream",
     "text": [
      "/homes/pp837/.local/lib/python3.8/site-packages/xgboost/data.py:112: UserWarning: Use subset (sliced data) of np.ndarray is not recommended because it will generate extra copies and increase memory consumption\n",
      "  warnings.warn(\n",
      "  0%|          | 0/17 [01:54<?, ?it/s]\n"
     ]
    },
    {
     "ename": "XGBoostError",
     "evalue": "[14:48:32] ../src/c_api/../data/array_interface.h:139: Check failed: typestr.size() == 3 (2 vs. 3) : `typestr' should be of format <endian><type><size of type in bytes>.\nStack trace:\n  [bt] (0) /homes/pp837/.local/lib/python3.8/site-packages/xgboost/lib/libxgboost.so(+0x912df) [0x7f92372922df]\n  [bt] (1) /homes/pp837/.local/lib/python3.8/site-packages/xgboost/lib/libxgboost.so(+0x98513) [0x7f9237299513]\n  [bt] (2) /homes/pp837/.local/lib/python3.8/site-packages/xgboost/lib/libxgboost.so(+0x9ae83) [0x7f923729be83]\n  [bt] (3) /homes/pp837/.local/lib/python3.8/site-packages/xgboost/lib/libxgboost.so(XGBoosterPredictFromDense+0xf8) [0x7f9237284e78]\n  [bt] (4) /lib/x86_64-linux-gnu/libffi.so.7(+0x6ff5) [0x7f9324bceff5]\n  [bt] (5) /lib/x86_64-linux-gnu/libffi.so.7(+0x640a) [0x7f9324bce40a]\n  [bt] (6) /usr/lib/python3.8/lib-dynload/_ctypes.cpython-38-x86_64-linux-gnu.so(_ctypes_callproc+0x58c) [0x7f9323dbc2ac]\n  [bt] (7) /usr/lib/python3.8/lib-dynload/_ctypes.cpython-38-x86_64-linux-gnu.so(+0x137e0) [0x7f9323dbc7e0]\n  [bt] (8) /usr/bin/python3(_PyObject_MakeTpCall+0x296) [0x5f3446]\n\n",
     "output_type": "error",
     "traceback": [
      "\u001b[0;31m---------------------------------------------------------------------------\u001b[0m",
      "\u001b[0;31mXGBoostError\u001b[0m                              Traceback (most recent call last)",
      "\u001b[0;32m<ipython-input-98-017a1fc9cadc>\u001b[0m in \u001b[0;36m<module>\u001b[0;34m\u001b[0m\n\u001b[1;32m      8\u001b[0m                               base_score=0.5, seed=random_seed, missing=None)\n\u001b[1;32m      9\u001b[0m     \u001b[0mmodel\u001b[0m\u001b[0;34m.\u001b[0m\u001b[0mfit\u001b[0m\u001b[0;34m(\u001b[0m\u001b[0mX\u001b[0m\u001b[0;34m,\u001b[0m \u001b[0my\u001b[0m\u001b[0;34m[\u001b[0m\u001b[0;34m:\u001b[0m\u001b[0;34m,\u001b[0m \u001b[0mclass_i\u001b[0m\u001b[0;34m]\u001b[0m\u001b[0;34m)\u001b[0m\u001b[0;34m\u001b[0m\u001b[0;34m\u001b[0m\u001b[0m\n\u001b[0;32m---> 10\u001b[0;31m     \u001b[0my_pred\u001b[0m\u001b[0;34m[\u001b[0m\u001b[0;34m:\u001b[0m\u001b[0;34m,\u001b[0m \u001b[0mclass_i\u001b[0m\u001b[0;34m]\u001b[0m \u001b[0;34m=\u001b[0m \u001b[0mmodel\u001b[0m\u001b[0;34m.\u001b[0m\u001b[0mpredict_proba\u001b[0m\u001b[0;34m(\u001b[0m\u001b[0mX_test\u001b[0m\u001b[0;34m)\u001b[0m\u001b[0;34m[\u001b[0m\u001b[0;34m:\u001b[0m\u001b[0;34m,\u001b[0m \u001b[0;36m1\u001b[0m\u001b[0;34m]\u001b[0m\u001b[0;34m\u001b[0m\u001b[0;34m\u001b[0m\u001b[0m\n\u001b[0m\u001b[1;32m     11\u001b[0m     \u001b[0mtrain_pred\u001b[0m\u001b[0;34m[\u001b[0m\u001b[0;34m:\u001b[0m\u001b[0;34m,\u001b[0m \u001b[0mclass_i\u001b[0m\u001b[0;34m]\u001b[0m \u001b[0;34m=\u001b[0m \u001b[0mmodel\u001b[0m\u001b[0;34m.\u001b[0m\u001b[0mpredict_proba\u001b[0m\u001b[0;34m(\u001b[0m\u001b[0mX_train\u001b[0m\u001b[0;34m)\u001b[0m\u001b[0;34m[\u001b[0m\u001b[0;34m:\u001b[0m\u001b[0;34m,\u001b[0m \u001b[0;36m1\u001b[0m\u001b[0;34m]\u001b[0m\u001b[0;34m\u001b[0m\u001b[0;34m\u001b[0m\u001b[0m\n",
      "\u001b[0;32m~/.local/lib/python3.8/site-packages/xgboost/sklearn.py\u001b[0m in \u001b[0;36mpredict_proba\u001b[0;34m(self, X, ntree_limit, validate_features, base_margin, iteration_range)\u001b[0m\n\u001b[1;32m   1271\u001b[0m         \u001b[0;31m# binary:logistic: Expand the prob vector into 2-class matrix after predict.\u001b[0m\u001b[0;34m\u001b[0m\u001b[0;34m\u001b[0m\u001b[0;34m\u001b[0m\u001b[0m\n\u001b[1;32m   1272\u001b[0m         \u001b[0;31m# binary:logitraw: Unsupported by predict_proba()\u001b[0m\u001b[0;34m\u001b[0m\u001b[0;34m\u001b[0m\u001b[0;34m\u001b[0m\u001b[0m\n\u001b[0;32m-> 1273\u001b[0;31m         class_probs = super().predict(\n\u001b[0m\u001b[1;32m   1274\u001b[0m             \u001b[0mX\u001b[0m\u001b[0;34m=\u001b[0m\u001b[0mX\u001b[0m\u001b[0;34m,\u001b[0m\u001b[0;34m\u001b[0m\u001b[0;34m\u001b[0m\u001b[0m\n\u001b[1;32m   1275\u001b[0m             \u001b[0moutput_margin\u001b[0m\u001b[0;34m=\u001b[0m\u001b[0mself\u001b[0m\u001b[0;34m.\u001b[0m\u001b[0mobjective\u001b[0m \u001b[0;34m==\u001b[0m \u001b[0;34m\"multi:softmax\"\u001b[0m\u001b[0;34m,\u001b[0m\u001b[0;34m\u001b[0m\u001b[0;34m\u001b[0m\u001b[0m\n",
      "\u001b[0;32m~/.local/lib/python3.8/site-packages/xgboost/sklearn.py\u001b[0m in \u001b[0;36mpredict\u001b[0;34m(self, X, output_margin, ntree_limit, validate_features, base_margin, iteration_range)\u001b[0m\n\u001b[1;32m    818\u001b[0m         \u001b[0;32mif\u001b[0m \u001b[0mself\u001b[0m\u001b[0;34m.\u001b[0m\u001b[0m_can_use_inplace_predict\u001b[0m\u001b[0;34m(\u001b[0m\u001b[0;34m)\u001b[0m\u001b[0;34m:\u001b[0m\u001b[0;34m\u001b[0m\u001b[0;34m\u001b[0m\u001b[0m\n\u001b[1;32m    819\u001b[0m             \u001b[0;32mtry\u001b[0m\u001b[0;34m:\u001b[0m\u001b[0;34m\u001b[0m\u001b[0;34m\u001b[0m\u001b[0m\n\u001b[0;32m--> 820\u001b[0;31m                 predts = self.get_booster().inplace_predict(\n\u001b[0m\u001b[1;32m    821\u001b[0m                     \u001b[0mdata\u001b[0m\u001b[0;34m=\u001b[0m\u001b[0mX\u001b[0m\u001b[0;34m,\u001b[0m\u001b[0;34m\u001b[0m\u001b[0;34m\u001b[0m\u001b[0m\n\u001b[1;32m    822\u001b[0m                     \u001b[0miteration_range\u001b[0m\u001b[0;34m=\u001b[0m\u001b[0miteration_range\u001b[0m\u001b[0;34m,\u001b[0m\u001b[0;34m\u001b[0m\u001b[0;34m\u001b[0m\u001b[0m\n",
      "\u001b[0;32m~/.local/lib/python3.8/site-packages/xgboost/core.py\u001b[0m in \u001b[0;36minplace_predict\u001b[0;34m(self, data, iteration_range, predict_type, missing, validate_features, base_margin, strict_shape)\u001b[0m\n\u001b[1;32m   1844\u001b[0m             \u001b[0;32mfrom\u001b[0m \u001b[0;34m.\u001b[0m\u001b[0mdata\u001b[0m \u001b[0;32mimport\u001b[0m \u001b[0m_maybe_np_slice\u001b[0m\u001b[0;34m\u001b[0m\u001b[0;34m\u001b[0m\u001b[0m\n\u001b[1;32m   1845\u001b[0m             \u001b[0mdata\u001b[0m \u001b[0;34m=\u001b[0m \u001b[0m_maybe_np_slice\u001b[0m\u001b[0;34m(\u001b[0m\u001b[0mdata\u001b[0m\u001b[0;34m,\u001b[0m \u001b[0mdata\u001b[0m\u001b[0;34m.\u001b[0m\u001b[0mdtype\u001b[0m\u001b[0;34m)\u001b[0m\u001b[0;34m\u001b[0m\u001b[0;34m\u001b[0m\u001b[0m\n\u001b[0;32m-> 1846\u001b[0;31m             _check_call(\n\u001b[0m\u001b[1;32m   1847\u001b[0m                 _LIB.XGBoosterPredictFromDense(\n\u001b[1;32m   1848\u001b[0m                     \u001b[0mself\u001b[0m\u001b[0;34m.\u001b[0m\u001b[0mhandle\u001b[0m\u001b[0;34m,\u001b[0m\u001b[0;34m\u001b[0m\u001b[0;34m\u001b[0m\u001b[0m\n",
      "\u001b[0;32m~/.local/lib/python3.8/site-packages/xgboost/core.py\u001b[0m in \u001b[0;36m_check_call\u001b[0;34m(ret)\u001b[0m\n\u001b[1;32m    208\u001b[0m     \"\"\"\n\u001b[1;32m    209\u001b[0m     \u001b[0;32mif\u001b[0m \u001b[0mret\u001b[0m \u001b[0;34m!=\u001b[0m \u001b[0;36m0\u001b[0m\u001b[0;34m:\u001b[0m\u001b[0;34m\u001b[0m\u001b[0;34m\u001b[0m\u001b[0m\n\u001b[0;32m--> 210\u001b[0;31m         \u001b[0;32mraise\u001b[0m \u001b[0mXGBoostError\u001b[0m\u001b[0;34m(\u001b[0m\u001b[0mpy_str\u001b[0m\u001b[0;34m(\u001b[0m\u001b[0m_LIB\u001b[0m\u001b[0;34m.\u001b[0m\u001b[0mXGBGetLastError\u001b[0m\u001b[0;34m(\u001b[0m\u001b[0;34m)\u001b[0m\u001b[0;34m)\u001b[0m\u001b[0;34m)\u001b[0m\u001b[0;34m\u001b[0m\u001b[0;34m\u001b[0m\u001b[0m\n\u001b[0m\u001b[1;32m    211\u001b[0m \u001b[0;34m\u001b[0m\u001b[0m\n\u001b[1;32m    212\u001b[0m \u001b[0;34m\u001b[0m\u001b[0m\n",
      "\u001b[0;31mXGBoostError\u001b[0m: [14:48:32] ../src/c_api/../data/array_interface.h:139: Check failed: typestr.size() == 3 (2 vs. 3) : `typestr' should be of format <endian><type><size of type in bytes>.\nStack trace:\n  [bt] (0) /homes/pp837/.local/lib/python3.8/site-packages/xgboost/lib/libxgboost.so(+0x912df) [0x7f92372922df]\n  [bt] (1) /homes/pp837/.local/lib/python3.8/site-packages/xgboost/lib/libxgboost.so(+0x98513) [0x7f9237299513]\n  [bt] (2) /homes/pp837/.local/lib/python3.8/site-packages/xgboost/lib/libxgboost.so(+0x9ae83) [0x7f923729be83]\n  [bt] (3) /homes/pp837/.local/lib/python3.8/site-packages/xgboost/lib/libxgboost.so(XGBoosterPredictFromDense+0xf8) [0x7f9237284e78]\n  [bt] (4) /lib/x86_64-linux-gnu/libffi.so.7(+0x6ff5) [0x7f9324bceff5]\n  [bt] (5) /lib/x86_64-linux-gnu/libffi.so.7(+0x640a) [0x7f9324bce40a]\n  [bt] (6) /usr/lib/python3.8/lib-dynload/_ctypes.cpython-38-x86_64-linux-gnu.so(_ctypes_callproc+0x58c) [0x7f9323dbc2ac]\n  [bt] (7) /usr/lib/python3.8/lib-dynload/_ctypes.cpython-38-x86_64-linux-gnu.so(+0x137e0) [0x7f9323dbc7e0]\n  [bt] (8) /usr/bin/python3(_PyObject_MakeTpCall+0x296) [0x5f3446]\n\n"
     ]
    }
   ],
   "source": [
    "print('Wait for it ....')\n",
    "for class_i in tqdm(range(n_classes), miniters=1): \n",
    "    model = xgb.XGBClassifier(max_depth=5, learning_rate=0.1, n_estimators=100, \\\n",
    "                              silent=True, objective='binary:logistic', nthread=-1, \\\n",
    "                              gamma=0, min_child_weight=1, max_delta_step=0, \\\n",
    "                              subsample=1, colsample_bytree=1, colsample_bylevel=1, \\\n",
    "                              reg_alpha=0, reg_lambda=1, scale_pos_weight=1, \\\n",
    "                              base_score=0.5, seed=random_seed, missing=None)\n",
    "    model.fit(X, y[:, class_i])\n",
    "    y_pred[:, class_i] = model.predict_proba(X_test)[:, 1]\n",
    "    train_pred[:, class_i] = model.predict_proba(X_train)[:, 1]"
   ]
  },
  {
   "cell_type": "code",
   "execution_count": 64,
   "id": "5f2adb9c",
   "metadata": {},
   "outputs": [
    {
     "ename": "XGBoostError",
     "evalue": "[23:55:57] ../src/c_api/c_api_utils.h:157: Invalid missing value: null\nStack trace:\n  [bt] (0) /homes/pp837/.local/lib/python3.8/site-packages/xgboost/lib/libxgboost.so(+0x912df) [0x7f92372922df]\n  [bt] (1) /homes/pp837/.local/lib/python3.8/site-packages/xgboost/lib/libxgboost.so(+0x9c741) [0x7f923729d741]\n  [bt] (2) /homes/pp837/.local/lib/python3.8/site-packages/xgboost/lib/libxgboost.so(+0x9c9f0) [0x7f923729d9f0]\n  [bt] (3) /homes/pp837/.local/lib/python3.8/site-packages/xgboost/lib/libxgboost.so(XGBoosterPredictFromDense+0x225) [0x7f9237284fa5]\n  [bt] (4) /lib/x86_64-linux-gnu/libffi.so.7(+0x6ff5) [0x7f9324bceff5]\n  [bt] (5) /lib/x86_64-linux-gnu/libffi.so.7(+0x640a) [0x7f9324bce40a]\n  [bt] (6) /usr/lib/python3.8/lib-dynload/_ctypes.cpython-38-x86_64-linux-gnu.so(_ctypes_callproc+0x58c) [0x7f9323dbc2ac]\n  [bt] (7) /usr/lib/python3.8/lib-dynload/_ctypes.cpython-38-x86_64-linux-gnu.so(+0x137e0) [0x7f9323dbc7e0]\n  [bt] (8) /usr/bin/python3(_PyObject_MakeTpCall+0x296) [0x5f3446]\n\n",
     "output_type": "error",
     "traceback": [
      "\u001b[0;31m---------------------------------------------------------------------------\u001b[0m",
      "\u001b[0;31mXGBoostError\u001b[0m                              Traceback (most recent call last)",
      "\u001b[0;32m<ipython-input-64-a506280b7e9e>\u001b[0m in \u001b[0;36m<module>\u001b[0;34m\u001b[0m\n\u001b[0;32m----> 1\u001b[0;31m \u001b[0mprint\u001b[0m\u001b[0;34m(\u001b[0m\u001b[0mmodel\u001b[0m\u001b[0;34m.\u001b[0m\u001b[0mpredict_proba\u001b[0m\u001b[0;34m(\u001b[0m\u001b[0mX_test\u001b[0m\u001b[0;34m)\u001b[0m\u001b[0;34m)\u001b[0m\u001b[0;34m\u001b[0m\u001b[0;34m\u001b[0m\u001b[0m\n\u001b[0m",
      "\u001b[0;32m~/.local/lib/python3.8/site-packages/xgboost/sklearn.py\u001b[0m in \u001b[0;36mpredict_proba\u001b[0;34m(self, X, ntree_limit, validate_features, base_margin, iteration_range)\u001b[0m\n\u001b[1;32m   1271\u001b[0m         \u001b[0;31m# binary:logistic: Expand the prob vector into 2-class matrix after predict.\u001b[0m\u001b[0;34m\u001b[0m\u001b[0;34m\u001b[0m\u001b[0;34m\u001b[0m\u001b[0m\n\u001b[1;32m   1272\u001b[0m         \u001b[0;31m# binary:logitraw: Unsupported by predict_proba()\u001b[0m\u001b[0;34m\u001b[0m\u001b[0;34m\u001b[0m\u001b[0;34m\u001b[0m\u001b[0m\n\u001b[0;32m-> 1273\u001b[0;31m         class_probs = super().predict(\n\u001b[0m\u001b[1;32m   1274\u001b[0m             \u001b[0mX\u001b[0m\u001b[0;34m=\u001b[0m\u001b[0mX\u001b[0m\u001b[0;34m,\u001b[0m\u001b[0;34m\u001b[0m\u001b[0;34m\u001b[0m\u001b[0m\n\u001b[1;32m   1275\u001b[0m             \u001b[0moutput_margin\u001b[0m\u001b[0;34m=\u001b[0m\u001b[0mself\u001b[0m\u001b[0;34m.\u001b[0m\u001b[0mobjective\u001b[0m \u001b[0;34m==\u001b[0m \u001b[0;34m\"multi:softmax\"\u001b[0m\u001b[0;34m,\u001b[0m\u001b[0;34m\u001b[0m\u001b[0;34m\u001b[0m\u001b[0m\n",
      "\u001b[0;32m~/.local/lib/python3.8/site-packages/xgboost/sklearn.py\u001b[0m in \u001b[0;36mpredict\u001b[0;34m(self, X, output_margin, ntree_limit, validate_features, base_margin, iteration_range)\u001b[0m\n\u001b[1;32m    818\u001b[0m         \u001b[0;32mif\u001b[0m \u001b[0mself\u001b[0m\u001b[0;34m.\u001b[0m\u001b[0m_can_use_inplace_predict\u001b[0m\u001b[0;34m(\u001b[0m\u001b[0;34m)\u001b[0m\u001b[0;34m:\u001b[0m\u001b[0;34m\u001b[0m\u001b[0;34m\u001b[0m\u001b[0m\n\u001b[1;32m    819\u001b[0m             \u001b[0;32mtry\u001b[0m\u001b[0;34m:\u001b[0m\u001b[0;34m\u001b[0m\u001b[0;34m\u001b[0m\u001b[0m\n\u001b[0;32m--> 820\u001b[0;31m                 predts = self.get_booster().inplace_predict(\n\u001b[0m\u001b[1;32m    821\u001b[0m                     \u001b[0mdata\u001b[0m\u001b[0;34m=\u001b[0m\u001b[0mX\u001b[0m\u001b[0;34m,\u001b[0m\u001b[0;34m\u001b[0m\u001b[0;34m\u001b[0m\u001b[0m\n\u001b[1;32m    822\u001b[0m                     \u001b[0miteration_range\u001b[0m\u001b[0;34m=\u001b[0m\u001b[0miteration_range\u001b[0m\u001b[0;34m,\u001b[0m\u001b[0;34m\u001b[0m\u001b[0;34m\u001b[0m\u001b[0m\n",
      "\u001b[0;32m~/.local/lib/python3.8/site-packages/xgboost/core.py\u001b[0m in \u001b[0;36minplace_predict\u001b[0;34m(self, data, iteration_range, predict_type, missing, validate_features, base_margin, strict_shape)\u001b[0m\n\u001b[1;32m   1844\u001b[0m             \u001b[0;32mfrom\u001b[0m \u001b[0;34m.\u001b[0m\u001b[0mdata\u001b[0m \u001b[0;32mimport\u001b[0m \u001b[0m_maybe_np_slice\u001b[0m\u001b[0;34m\u001b[0m\u001b[0;34m\u001b[0m\u001b[0m\n\u001b[1;32m   1845\u001b[0m             \u001b[0mdata\u001b[0m \u001b[0;34m=\u001b[0m \u001b[0m_maybe_np_slice\u001b[0m\u001b[0;34m(\u001b[0m\u001b[0mdata\u001b[0m\u001b[0;34m,\u001b[0m \u001b[0mdata\u001b[0m\u001b[0;34m.\u001b[0m\u001b[0mdtype\u001b[0m\u001b[0;34m)\u001b[0m\u001b[0;34m\u001b[0m\u001b[0;34m\u001b[0m\u001b[0m\n\u001b[0;32m-> 1846\u001b[0;31m             _check_call(\n\u001b[0m\u001b[1;32m   1847\u001b[0m                 _LIB.XGBoosterPredictFromDense(\n\u001b[1;32m   1848\u001b[0m                     \u001b[0mself\u001b[0m\u001b[0;34m.\u001b[0m\u001b[0mhandle\u001b[0m\u001b[0;34m,\u001b[0m\u001b[0;34m\u001b[0m\u001b[0;34m\u001b[0m\u001b[0m\n",
      "\u001b[0;32m~/.local/lib/python3.8/site-packages/xgboost/core.py\u001b[0m in \u001b[0;36m_check_call\u001b[0;34m(ret)\u001b[0m\n\u001b[1;32m    208\u001b[0m     \"\"\"\n\u001b[1;32m    209\u001b[0m     \u001b[0;32mif\u001b[0m \u001b[0mret\u001b[0m \u001b[0;34m!=\u001b[0m \u001b[0;36m0\u001b[0m\u001b[0;34m:\u001b[0m\u001b[0;34m\u001b[0m\u001b[0;34m\u001b[0m\u001b[0m\n\u001b[0;32m--> 210\u001b[0;31m         \u001b[0;32mraise\u001b[0m \u001b[0mXGBoostError\u001b[0m\u001b[0;34m(\u001b[0m\u001b[0mpy_str\u001b[0m\u001b[0;34m(\u001b[0m\u001b[0m_LIB\u001b[0m\u001b[0;34m.\u001b[0m\u001b[0mXGBGetLastError\u001b[0m\u001b[0;34m(\u001b[0m\u001b[0;34m)\u001b[0m\u001b[0;34m)\u001b[0m\u001b[0;34m)\u001b[0m\u001b[0;34m\u001b[0m\u001b[0;34m\u001b[0m\u001b[0m\n\u001b[0m\u001b[1;32m    211\u001b[0m \u001b[0;34m\u001b[0m\u001b[0m\n\u001b[1;32m    212\u001b[0m \u001b[0;34m\u001b[0m\u001b[0m\n",
      "\u001b[0;31mXGBoostError\u001b[0m: [23:55:57] ../src/c_api/c_api_utils.h:157: Invalid missing value: null\nStack trace:\n  [bt] (0) /homes/pp837/.local/lib/python3.8/site-packages/xgboost/lib/libxgboost.so(+0x912df) [0x7f92372922df]\n  [bt] (1) /homes/pp837/.local/lib/python3.8/site-packages/xgboost/lib/libxgboost.so(+0x9c741) [0x7f923729d741]\n  [bt] (2) /homes/pp837/.local/lib/python3.8/site-packages/xgboost/lib/libxgboost.so(+0x9c9f0) [0x7f923729d9f0]\n  [bt] (3) /homes/pp837/.local/lib/python3.8/site-packages/xgboost/lib/libxgboost.so(XGBoosterPredictFromDense+0x225) [0x7f9237284fa5]\n  [bt] (4) /lib/x86_64-linux-gnu/libffi.so.7(+0x6ff5) [0x7f9324bceff5]\n  [bt] (5) /lib/x86_64-linux-gnu/libffi.so.7(+0x640a) [0x7f9324bce40a]\n  [bt] (6) /usr/lib/python3.8/lib-dynload/_ctypes.cpython-38-x86_64-linux-gnu.so(_ctypes_callproc+0x58c) [0x7f9323dbc2ac]\n  [bt] (7) /usr/lib/python3.8/lib-dynload/_ctypes.cpython-38-x86_64-linux-gnu.so(+0x137e0) [0x7f9323dbc7e0]\n  [bt] (8) /usr/bin/python3(_PyObject_MakeTpCall+0x296) [0x5f3446]\n\n"
     ]
    }
   ],
   "source": [
    "print(model.predict_proba(X_test))"
   ]
  },
  {
   "cell_type": "code",
   "execution_count": null,
   "id": "f4d070e3",
   "metadata": {},
   "outputs": [],
   "source": [
    "train_pred.shape"
   ]
  },
  {
   "cell_type": "code",
   "execution_count": null,
   "id": "0fc6a0ab",
   "metadata": {},
   "outputs": [],
   "source": [
    "xg_results = pd.DataFrame(y_pred, columns = labels)\n",
    "xg_results[:10]"
   ]
  },
  {
   "cell_type": "code",
   "execution_count": null,
   "id": "0acf7c96",
   "metadata": {},
   "outputs": [],
   "source": [
    "xg_train_res = pd.DataFrame(train_pred, columns = labels)\n",
    "xg_train_res[:10]"
   ]
  },
  {
   "cell_type": "code",
   "execution_count": null,
   "id": "d1035465",
   "metadata": {},
   "outputs": [],
   "source": [
    "xg_results.to_csv('result_xgb_0.3.csv', index=False)"
   ]
  },
  {
   "cell_type": "code",
   "execution_count": null,
   "id": "f413f506",
   "metadata": {},
   "outputs": [],
   "source": [
    "res = open('result_xgb_0.5.pickle', 'wb')\n",
    "pickle.dump(xg_results, res, protocol=4)\n",
    "res.close()"
   ]
  },
  {
   "cell_type": "code",
   "execution_count": null,
   "id": "45f5c80e",
   "metadata": {},
   "outputs": [],
   "source": [
    "#Check predicted rare labels\n",
    "print(\"Blow downs: \",len(xg_results[xg_results['blow_down']>0.2]))\n",
    "print(\"conventional_mine: \",len(xg_results[xg_results['conventional_mine']>0.2]))\n",
    "print(\"selective_logging: \",len(xg_results[xg_results['selective_logging']>0.2]))\n",
    "print(\"slash_burn: \",len(xg_results[xg_results['slash_burn']>0.2]))\n",
    "print(\"Cultivation: \",len(xg_results[xg_results['cultivation']>0.2]))"
   ]
  },
  {
   "cell_type": "code",
   "execution_count": null,
   "id": "e3fcb9bc",
   "metadata": {},
   "outputs": [],
   "source": [
    "#create prediction flag\n",
    "preds = [' '.join(labels[y_pred_row > 0.2]) for y_pred_row in y_pred]"
   ]
  },
  {
   "cell_type": "code",
   "execution_count": null,
   "id": "a15ef124",
   "metadata": {},
   "outputs": [],
   "source": [
    "#Create a  dataframe wiht test images and labels \n",
    "subm = pd.DataFrame()\n",
    "subm['image_name'] = test_features.image_name.values\n",
    "subm['tags'] = preds\n",
    "subm[:10]"
   ]
  },
  {
   "cell_type": "code",
   "execution_count": null,
   "id": "6c92f352",
   "metadata": {},
   "outputs": [],
   "source": [
    "#Create flags for prediction flags\n",
    "train_preds = [' '.join(labels[y_pred_row > 0.2]) for y_pred_row in train_pred]"
   ]
  },
  {
   "cell_type": "code",
   "execution_count": null,
   "id": "fe7f2a86",
   "metadata": {},
   "outputs": [],
   "source": [
    "#Create a  dataframe wiht train images and labels \n",
    "trainfrm = pd.DataFrame()\n",
    "trainfrm['image_name'] = train_features.image_name.values\n",
    "trainfrm['pred_tags'] = train_preds\n",
    "trainfrm[:10]"
   ]
  },
  {
   "cell_type": "code",
   "execution_count": null,
   "id": "ff3cb6b0",
   "metadata": {},
   "outputs": [],
   "source": []
  }
 ],
 "metadata": {
  "kernelspec": {
   "display_name": "Python 3",
   "language": "python",
   "name": "python3"
  },
  "language_info": {
   "codemirror_mode": {
    "name": "ipython",
    "version": 3
   },
   "file_extension": ".py",
   "mimetype": "text/x-python",
   "name": "python",
   "nbconvert_exporter": "python",
   "pygments_lexer": "ipython3",
   "version": "3.8.5"
  }
 },
 "nbformat": 4,
 "nbformat_minor": 5
}
