{
 "cells": [
  {
   "cell_type": "code",
   "execution_count": 1,
   "id": "29d0b69d",
   "metadata": {},
   "outputs": [],
   "source": [
    "import os\n",
    "import numpy as np\n",
    "import pandas as pd\n",
    "import random\n",
    "from tqdm import tqdm\n",
    "import xgboost as xgb\n",
    "import scipy\n",
    "from sklearn.model_selection import train_test_split\n",
    "from sklearn.metrics import fbeta_score\n",
    "from sklearn.preprocessing import Binarizer, MultiLabelBinarizer\n",
    "from sklearn.metrics import classification_report\n",
    "from PIL import Image\n",
    "\n",
    "# Set the seed \n",
    "random_seed = 0\n",
    "random.seed(random_seed)\n",
    "np.random.seed(random_seed)"
   ]
  },
  {
   "cell_type": "markdown",
   "id": "d51daa6b",
   "metadata": {},
   "source": [
    "### Import dataset"
   ]
  },
  {
   "cell_type": "code",
   "execution_count": 2,
   "id": "1d3050a1",
   "metadata": {},
   "outputs": [],
   "source": [
    "DATASET_PATH = 'dataset-haze-removed/'\n",
    "TRAIN_PATH = DATASET_PATH + 'train_file'\n",
    "TEST_PATH = DATASET_PATH + 'test_file'\n",
    "\n",
    "TRAIN_CSV_PATH = DATASET_PATH + 'train_label.csv'\n",
    "TEST_CSV_PATH = DATASET_PATH + 'test_label.csv'\n",
    "\n",
    "df_train = pd.read_csv(TRAIN_CSV_PATH)\n",
    "df_test = pd.read_csv(TEST_CSV_PATH)\n",
    "\n",
    "df_train['image_name'] = df_train['image_name'].astype(str)\n",
    "df_test['image_name'] = df_test['image_name'].astype(str)\n",
    "\n",
    "df_train['tags'] = df_train['tags'].apply(lambda x: x.split(' '))\n",
    "df_test['tags'] = df_test['tags'].apply(lambda x: x.split(' '))\n",
    "\n",
    "X_train_files = np.array(df_train['image_name'].tolist()) # filenames\n",
    "X_train_files.reshape((X_train_files.shape[0], 1))\n",
    "y_train = np.array(df_train['tags'].tolist(), dtype=object) # train image tags (ground truth)\n",
    "y_test = np.array(df_test['tags'].tolist(), dtype=object) # test image tags (ground truth)"
   ]
  },
  {
   "cell_type": "code",
   "execution_count": 3,
   "id": "b8b5bddf",
   "metadata": {},
   "outputs": [
    {
     "data": {
      "text/plain": [
       "(32383,)"
      ]
     },
     "execution_count": 3,
     "metadata": {},
     "output_type": "execute_result"
    }
   ],
   "source": [
    "y_train.shape"
   ]
  },
  {
   "cell_type": "markdown",
   "id": "93bab131",
   "metadata": {},
   "source": [
    "### XGBoost "
   ]
  },
  {
   "cell_type": "code",
   "execution_count": 4,
   "id": "10a51867",
   "metadata": {},
   "outputs": [],
   "source": [
    "def calc_acc(y_test, y_pred, labels, threshold=0.2):\n",
    "    \n",
    "    array_labels = np.array(labels)\n",
    "    test = y_test\n",
    "    pred = y_pred\n",
    "    \n",
    "    # Binarize pred to 0 and 1...\n",
    "    binarizer = Binarizer(threshold=threshold)\n",
    "    pred = binarizer.fit_transform(pred)\n",
    "    # 0 and 1 to False and True for boolean indexing...\n",
    "    pred = pred > 0\n",
    "    \n",
    "    preds = []\n",
    "    for row in pred:\n",
    "        preds.append(array_labels[row])\n",
    "    \n",
    "    mlb = MultiLabelBinarizer(classes=array_labels)\n",
    "    \n",
    "    test = mlb.fit_transform(test)\n",
    "    preds = mlb.transform(preds)\n",
    "    score = fbeta_score(test, preds, beta=2, average='weighted')\n",
    "    \n",
    "    return score\n",
    "\n",
    "# Function to extract the image features\n",
    "def extract_features(df, data_path):\n",
    "    im_features = df.copy()\n",
    "\n",
    "    N = len(im_features.image_name.values)\n",
    "\n",
    "    r_mean = np.zeros(N)\n",
    "    g_mean = np.zeros(N)\n",
    "    b_mean = np.zeros(N)\n",
    "\n",
    "    r_std = np.zeros(N)\n",
    "    g_std = np.zeros(N)\n",
    "    b_std = np.zeros(N)\n",
    "\n",
    "    r_max = np.zeros(N)\n",
    "    g_max = np.zeros(N)\n",
    "    b_max = np.zeros(N)\n",
    "\n",
    "    r_min = np.zeros(N)\n",
    "    g_min = np.zeros(N)\n",
    "    b_min = np.zeros(N)\n",
    "\n",
    "    r_kurtosis = np.zeros(N)\n",
    "    g_kurtosis = np.zeros(N)\n",
    "    b_kurtosis = np.zeros(N)\n",
    "    \n",
    "    r_skewness = np.zeros(N)\n",
    "    g_skewness = np.zeros(N)\n",
    "    b_skewness = np.zeros(N)\n",
    "\n",
    "    for i, image_name in enumerate(tqdm(im_features.image_name.values, miniters=1000)): \n",
    "        im = Image.open(data_path + image_name)\n",
    "        im = np.array(im)[:,:,:3]\n",
    "\n",
    "        r = im[:,:,0].ravel()\n",
    "        g = im[:,:,1].ravel()\n",
    "        b = im[:,:,2].ravel()\n",
    "        \n",
    "        r_mean[i] = np.mean(r)\n",
    "        g_mean[i] = np.mean(g)\n",
    "        b_mean[i] = np.mean(b)\n",
    "\n",
    "        r_std[i] = np.std(r)\n",
    "        g_std[i] = np.std(g)\n",
    "        b_std[i] = np.std(b)\n",
    "\n",
    "        r_max[i] = np.max(r)\n",
    "        g_max[i] = np.max(g)\n",
    "        b_max[i] = np.max(b)\n",
    "\n",
    "        r_min[i] = np.min(r)\n",
    "        g_min[i] = np.min(g)\n",
    "        b_min[i] = np.min(b)\n",
    "\n",
    "        r_kurtosis[i] = scipy.stats.kurtosis(r)\n",
    "        g_kurtosis[i] = scipy.stats.kurtosis(g)\n",
    "        b_kurtosis[i] = scipy.stats.kurtosis(b)\n",
    "        \n",
    "        r_skewness[i] = scipy.stats.skew(r)\n",
    "        g_skewness[i] = scipy.stats.skew(g)\n",
    "        b_skewness[i] = scipy.stats.skew(b)\n",
    "\n",
    "\n",
    "    im_features['r_mean'] = r_mean\n",
    "    im_features['g_mean'] = g_mean\n",
    "    im_features['b_mean'] = b_mean\n",
    "\n",
    "    im_features['rgb_mean_mean'] = (r_mean + g_mean + b_mean)/3.0\n",
    "\n",
    "    im_features['r_std'] = r_std\n",
    "    im_features['g_std'] = g_std\n",
    "    im_features['b_std'] = b_std\n",
    "\n",
    "    im_features['rgb_mean_std'] = (r_std + g_std + b_std)/3.0\n",
    "\n",
    "    im_features['r_max'] = r_max\n",
    "    im_features['g_max'] = g_max\n",
    "    im_features['b_max'] = b_max\n",
    "\n",
    "    im_features['rgb_mean_max'] = (r_max + r_max + b_max)/3.0\n",
    "\n",
    "    im_features['r_min'] = r_min\n",
    "    im_features['g_min'] = g_min\n",
    "    im_features['b_min'] = b_min\n",
    "\n",
    "    im_features['rgb_mean_min'] = (r_min + g_min + b_min)/3.0\n",
    "\n",
    "    im_features['r_range'] = r_max - r_min\n",
    "    im_features['g_range'] = g_max - g_min\n",
    "    im_features['b_range'] = b_max - b_min\n",
    "\n",
    "    im_features['r_kurtosis'] = r_kurtosis\n",
    "    im_features['g_kurtosis'] = g_kurtosis\n",
    "    im_features['b_kurtosis'] = b_kurtosis\n",
    "    \n",
    "    im_features['r_skewness'] = r_skewness\n",
    "    im_features['g_skewness'] = g_skewness\n",
    "    im_features['b_skewness'] = b_skewness\n",
    "    \n",
    "    return im_features"
   ]
  },
  {
   "cell_type": "code",
   "execution_count": 5,
   "id": "c5012ad1",
   "metadata": {},
   "outputs": [],
   "source": [
    "# # Extract features\n",
    "# print('Extracting train features')\n",
    "# train_features = extract_features(df_train, TRAIN_PATH + '/')\n",
    "# print('Extracting test features')\n",
    "# test_features = extract_features(df_test, TEST_PATH + '/')\n",
    "\n",
    "# # Pickle the data\n",
    "# import pickle\n",
    "\n",
    "# train_feat = open('train_features_xgb.pickle', 'wb')\n",
    "# pickle.dump(train_features, train_feat, protocol=4)\n",
    "# train_feat.close()\n",
    "\n",
    "# test_feat = open('test_features_xgb.pickle', 'wb')\n",
    "# pickle.dump(test_features, test_feat, protocol=4)\n",
    "# test_feat.close()"
   ]
  },
  {
   "cell_type": "code",
   "execution_count": 6,
   "id": "3b7d8e03",
   "metadata": {},
   "outputs": [],
   "source": [
    "# Load the pickled features:\n",
    "import pickle\n",
    "\n",
    "pickle_XGtrain = open('train_features_xgb.pickle', 'rb')\n",
    "train_features = pickle.load(pickle_XGtrain)\n",
    "\n",
    "pickle_yGtrain = open('test_features_xgb.pickle', 'rb')\n",
    "test_features = pickle.load(pickle_yGtrain)"
   ]
  },
  {
   "cell_type": "code",
   "execution_count": 7,
   "id": "763797fa",
   "metadata": {},
   "outputs": [
    {
     "name": "stdout",
     "output_type": "stream",
     "text": [
      "classes: ['agriculture' 'artisinal_mine' 'bare_ground' 'blooming' 'blow_down'\n",
      " 'clear' 'cloudy' 'conventional_mine' 'cultivation' 'habitation' 'haze'\n",
      " 'partly_cloudy' 'primary' 'road' 'selective_logging' 'slash_burn' 'water']\n",
      "n_classes = 17\n"
     ]
    }
   ],
   "source": [
    "# Prepare dataset for xgboost\n",
    "X_train_xgb = np.array(train_features.drop(['image_name', 'tags'], axis=1))\n",
    "X_test_xgb = np.array(test_features.drop(['image_name', 'tags'], axis=1))\n",
    "\n",
    "### Create a validation set by dividing train set...\n",
    "X_train_xgb, X_val_xgb, y_train, y_val = train_test_split(X_train_xgb, y_train, test_size=0.2, random_state=random_seed)\n",
    "\n",
    "mlb = MultiLabelBinarizer()\n",
    "y_train_xgb = mlb.fit_transform(y_train)\n",
    "labels = mlb.classes_\n",
    "print('classes:', labels)\n",
    "\n",
    "\n",
    "\n",
    "n_classes = len(labels) # 17 classes in total\n",
    "print('n_classes =', n_classes)\n"
   ]
  },
  {
   "cell_type": "code",
   "execution_count": 8,
   "id": "5f63e594",
   "metadata": {},
   "outputs": [],
   "source": [
    "def run(MAX_DEPTH, N_ESTIMATORS):\n",
    "    results = []\n",
    "    \n",
    "    for max_depth in MAX_DEPTH:\n",
    "        print('max_depth =', max_depth)\n",
    "        for n_estimators in N_ESTIMATORS:\n",
    "            print('n_estimators =', n_estimators)\n",
    "#             train_pred_xgb = np.zeros((X_train_xgb.shape[0], n_classes)) # (num_of_train_images, n_classes=17)\n",
    "            y_val_pred = np.zeros((X_val_xgb.shape[0], n_classes)) # (num_of_val_images, n_classes=17)\n",
    "            y_test_pred = np.zeros((X_test_xgb.shape[0], n_classes)) # (num_of_test_images, n_classes=17)\n",
    "\n",
    "            for i in tqdm(range(n_classes), miniters=1, leave=False): \n",
    "#                 print(\"i =\", i, labels[i])\n",
    "                model = xgb.XGBClassifier(max_depth=max_depth, learning_rate=0.1, n_estimators=n_estimators, \\\n",
    "                                          objective='binary:logistic', n_jobs=-1, \\\n",
    "                                          gamma=0, min_child_weight=1, max_delta_step=0, \\\n",
    "                                          subsample=1, colsample_bytree=1, colsample_bylevel=1, \\\n",
    "                                          reg_alpha=0, reg_lambda=1, scale_pos_weight=1, \\\n",
    "                                          base_score=0.5, seed=random_seed, \\\n",
    "                                          use_label_encoder=False, eval_metric='error', \\\n",
    "                                         )\n",
    "\n",
    "                model.fit(X_train_xgb, y_train_xgb[:, i])\n",
    "        \n",
    "                y_val_pred[:, i] = model.predict_proba(X_val_xgb)[:,1] # prediction on test set\n",
    "                y_test_pred[:, i] = model.predict_proba(X_test_xgb)[:,1] # prediction on test set\n",
    "\n",
    "            val_score = calc_acc(y_val, y_val_pred, labels)\n",
    "            test_score = calc_acc(y_test, y_test_pred, labels)\n",
    "            print(\"val_f2_score = {} test_f2_score = {}\".format(round(val_score, 3), round(test_score, 3)))\n",
    "\n",
    "            results.append({'max_depth': max_depth, 'n_estimators': n_estimators, \\\n",
    "                            'val_f2_score': val_score, 'test_f2_score': test_score})\n",
    "                \n",
    "    return results"
   ]
  },
  {
   "cell_type": "code",
   "execution_count": 9,
   "id": "49a7df15",
   "metadata": {},
   "outputs": [],
   "source": [
    "# Hyperparameter grid\n",
    "MAX_DEPTH = [2, 5, 10]\n",
    "N_ESTIMATORS = [100, 200, 500]\n",
    "\n",
    "# FOR CODE TEST ONLY\n",
    "# MAX_DEPTH = [5, 10]\n",
    "# N_ESTIMATORS = [100]"
   ]
  },
  {
   "cell_type": "code",
   "execution_count": 10,
   "id": "e748aafc",
   "metadata": {},
   "outputs": [
    {
     "name": "stderr",
     "output_type": "stream",
     "text": [
      "\r",
      "  0%|          | 0/17 [00:00<?, ?it/s]"
     ]
    },
    {
     "name": "stdout",
     "output_type": "stream",
     "text": [
      "max_depth = 2\n",
      "n_estimators = 100\n"
     ]
    },
    {
     "name": "stderr",
     "output_type": "stream",
     "text": [
      "/home/jihoon/anaconda3/envs/tf38/lib/python3.8/site-packages/xgboost/data.py:112: UserWarning: Use subset (sliced data) of np.ndarray is not recommended because it will generate extra copies and increase memory consumption\n",
      "  warnings.warn(\n",
      "  0%|          | 0/17 [00:00<?, ?it/s]         /home/jihoon/anaconda3/envs/tf38/lib/python3.8/site-packages/xgboost/data.py:112: UserWarning: Use subset (sliced data) of np.ndarray is not recommended because it will generate extra copies and increase memory consumption\n",
      "  warnings.warn(\n"
     ]
    },
    {
     "name": "stdout",
     "output_type": "stream",
     "text": [
      "val_f2_score = 0.851 test_f2_score = 0.852\n",
      "n_estimators = 200\n"
     ]
    },
    {
     "name": "stderr",
     "output_type": "stream",
     "text": [
      "  0%|          | 0/17 [00:00<?, ?it/s]         /home/jihoon/anaconda3/envs/tf38/lib/python3.8/site-packages/xgboost/data.py:112: UserWarning: Use subset (sliced data) of np.ndarray is not recommended because it will generate extra copies and increase memory consumption\n",
      "  warnings.warn(\n"
     ]
    },
    {
     "name": "stdout",
     "output_type": "stream",
     "text": [
      "val_f2_score = 0.859 test_f2_score = 0.86\n",
      "n_estimators = 500\n"
     ]
    },
    {
     "name": "stderr",
     "output_type": "stream",
     "text": [
      "  0%|          | 0/17 [00:00<?, ?it/s]         /home/jihoon/anaconda3/envs/tf38/lib/python3.8/site-packages/xgboost/data.py:112: UserWarning: Use subset (sliced data) of np.ndarray is not recommended because it will generate extra copies and increase memory consumption\n",
      "  warnings.warn(\n"
     ]
    },
    {
     "name": "stdout",
     "output_type": "stream",
     "text": [
      "val_f2_score = 0.866 test_f2_score = 0.867\n",
      "max_depth = 5\n",
      "n_estimators = 100\n"
     ]
    },
    {
     "name": "stderr",
     "output_type": "stream",
     "text": [
      "  0%|          | 0/17 [00:00<?, ?it/s]         /home/jihoon/anaconda3/envs/tf38/lib/python3.8/site-packages/xgboost/data.py:112: UserWarning: Use subset (sliced data) of np.ndarray is not recommended because it will generate extra copies and increase memory consumption\n",
      "  warnings.warn(\n"
     ]
    },
    {
     "name": "stdout",
     "output_type": "stream",
     "text": [
      "val_f2_score = 0.868 test_f2_score = 0.868\n",
      "n_estimators = 200\n"
     ]
    },
    {
     "name": "stderr",
     "output_type": "stream",
     "text": [
      "  0%|          | 0/17 [00:00<?, ?it/s]         /home/jihoon/anaconda3/envs/tf38/lib/python3.8/site-packages/xgboost/data.py:112: UserWarning: Use subset (sliced data) of np.ndarray is not recommended because it will generate extra copies and increase memory consumption\n",
      "  warnings.warn(\n"
     ]
    },
    {
     "name": "stdout",
     "output_type": "stream",
     "text": [
      "val_f2_score = 0.869 test_f2_score = 0.87\n",
      "n_estimators = 500\n"
     ]
    },
    {
     "name": "stderr",
     "output_type": "stream",
     "text": [
      "  0%|          | 0/17 [00:00<?, ?it/s]         /home/jihoon/anaconda3/envs/tf38/lib/python3.8/site-packages/xgboost/data.py:112: UserWarning: Use subset (sliced data) of np.ndarray is not recommended because it will generate extra copies and increase memory consumption\n",
      "  warnings.warn(\n"
     ]
    },
    {
     "name": "stdout",
     "output_type": "stream",
     "text": [
      "val_f2_score = 0.866 test_f2_score = 0.869\n",
      "max_depth = 10\n",
      "n_estimators = 100\n"
     ]
    },
    {
     "name": "stderr",
     "output_type": "stream",
     "text": [
      "  0%|          | 0/17 [00:00<?, ?it/s]         /home/jihoon/anaconda3/envs/tf38/lib/python3.8/site-packages/xgboost/data.py:112: UserWarning: Use subset (sliced data) of np.ndarray is not recommended because it will generate extra copies and increase memory consumption\n",
      "  warnings.warn(\n"
     ]
    },
    {
     "name": "stdout",
     "output_type": "stream",
     "text": [
      "val_f2_score = 0.864 test_f2_score = 0.866\n",
      "n_estimators = 200\n"
     ]
    },
    {
     "name": "stderr",
     "output_type": "stream",
     "text": [
      "  0%|          | 0/17 [00:00<?, ?it/s]         /home/jihoon/anaconda3/envs/tf38/lib/python3.8/site-packages/xgboost/data.py:112: UserWarning: Use subset (sliced data) of np.ndarray is not recommended because it will generate extra copies and increase memory consumption\n",
      "  warnings.warn(\n"
     ]
    },
    {
     "name": "stdout",
     "output_type": "stream",
     "text": [
      "val_f2_score = 0.86 test_f2_score = 0.86\n",
      "n_estimators = 500\n"
     ]
    },
    {
     "name": "stderr",
     "output_type": "stream",
     "text": [
      "                                               "
     ]
    },
    {
     "name": "stdout",
     "output_type": "stream",
     "text": [
      "val_f2_score = 0.852 test_f2_score = 0.852\n"
     ]
    },
    {
     "name": "stderr",
     "output_type": "stream",
     "text": [
      "\r"
     ]
    }
   ],
   "source": [
    "results = run(MAX_DEPTH, N_ESTIMATORS)"
   ]
  },
  {
   "cell_type": "code",
   "execution_count": 14,
   "id": "877584ca",
   "metadata": {},
   "outputs": [
    {
     "data": {
      "text/html": [
       "<div>\n",
       "<style scoped>\n",
       "    .dataframe tbody tr th:only-of-type {\n",
       "        vertical-align: middle;\n",
       "    }\n",
       "\n",
       "    .dataframe tbody tr th {\n",
       "        vertical-align: top;\n",
       "    }\n",
       "\n",
       "    .dataframe thead th {\n",
       "        text-align: right;\n",
       "    }\n",
       "</style>\n",
       "<table border=\"1\" class=\"dataframe\">\n",
       "  <thead>\n",
       "    <tr style=\"text-align: right;\">\n",
       "      <th></th>\n",
       "      <th>max_depth</th>\n",
       "      <th>n_estimators</th>\n",
       "      <th>val_f2_score</th>\n",
       "      <th>test_f2_score</th>\n",
       "    </tr>\n",
       "  </thead>\n",
       "  <tbody>\n",
       "    <tr>\n",
       "      <th>4</th>\n",
       "      <td>5</td>\n",
       "      <td>200</td>\n",
       "      <td>0.868604</td>\n",
       "      <td>0.870258</td>\n",
       "    </tr>\n",
       "    <tr>\n",
       "      <th>3</th>\n",
       "      <td>5</td>\n",
       "      <td>100</td>\n",
       "      <td>0.867693</td>\n",
       "      <td>0.867988</td>\n",
       "    </tr>\n",
       "    <tr>\n",
       "      <th>5</th>\n",
       "      <td>5</td>\n",
       "      <td>500</td>\n",
       "      <td>0.865640</td>\n",
       "      <td>0.868870</td>\n",
       "    </tr>\n",
       "    <tr>\n",
       "      <th>2</th>\n",
       "      <td>2</td>\n",
       "      <td>500</td>\n",
       "      <td>0.865577</td>\n",
       "      <td>0.866762</td>\n",
       "    </tr>\n",
       "    <tr>\n",
       "      <th>6</th>\n",
       "      <td>10</td>\n",
       "      <td>100</td>\n",
       "      <td>0.864125</td>\n",
       "      <td>0.865684</td>\n",
       "    </tr>\n",
       "    <tr>\n",
       "      <th>7</th>\n",
       "      <td>10</td>\n",
       "      <td>200</td>\n",
       "      <td>0.860126</td>\n",
       "      <td>0.860457</td>\n",
       "    </tr>\n",
       "    <tr>\n",
       "      <th>1</th>\n",
       "      <td>2</td>\n",
       "      <td>200</td>\n",
       "      <td>0.859342</td>\n",
       "      <td>0.859791</td>\n",
       "    </tr>\n",
       "    <tr>\n",
       "      <th>8</th>\n",
       "      <td>10</td>\n",
       "      <td>500</td>\n",
       "      <td>0.851707</td>\n",
       "      <td>0.852182</td>\n",
       "    </tr>\n",
       "    <tr>\n",
       "      <th>0</th>\n",
       "      <td>2</td>\n",
       "      <td>100</td>\n",
       "      <td>0.850952</td>\n",
       "      <td>0.852284</td>\n",
       "    </tr>\n",
       "  </tbody>\n",
       "</table>\n",
       "</div>"
      ],
      "text/plain": [
       "   max_depth  n_estimators  val_f2_score  test_f2_score\n",
       "4          5           200      0.868604       0.870258\n",
       "3          5           100      0.867693       0.867988\n",
       "5          5           500      0.865640       0.868870\n",
       "2          2           500      0.865577       0.866762\n",
       "6         10           100      0.864125       0.865684\n",
       "7         10           200      0.860126       0.860457\n",
       "1          2           200      0.859342       0.859791\n",
       "8         10           500      0.851707       0.852182\n",
       "0          2           100      0.850952       0.852284"
      ]
     },
     "execution_count": 14,
     "metadata": {},
     "output_type": "execute_result"
    }
   ],
   "source": [
    "df_results = pd.DataFrame(results)\n",
    "df_results.sort_values('val_f2_score', ascending=False)"
   ]
  },
  {
   "cell_type": "code",
   "execution_count": 16,
   "id": "5100bf41",
   "metadata": {},
   "outputs": [],
   "source": [
    "df_results.to_csv('hyperparameter_search_XGBoost.csv', index=False)"
   ]
  },
  {
   "cell_type": "code",
   "execution_count": null,
   "id": "edf6d363",
   "metadata": {},
   "outputs": [],
   "source": []
  }
 ],
 "metadata": {
  "kernelspec": {
   "display_name": "Python 3",
   "language": "python",
   "name": "python3"
  },
  "language_info": {
   "codemirror_mode": {
    "name": "ipython",
    "version": 3
   },
   "file_extension": ".py",
   "mimetype": "text/x-python",
   "name": "python",
   "nbconvert_exporter": "python",
   "pygments_lexer": "ipython3",
   "version": "3.8.8"
  }
 },
 "nbformat": 4,
 "nbformat_minor": 5
}
