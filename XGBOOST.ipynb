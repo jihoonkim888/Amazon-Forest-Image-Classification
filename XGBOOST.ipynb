{
 "cells": [
  {
   "cell_type": "code",
   "execution_count": 1,
   "metadata": {},
   "outputs": [],
   "source": [
    "import numpy as np\n",
    "import os\n",
    "import pandas as pd\n",
    "import random\n",
    "from tqdm import tqdm\n",
    "import xgboost as xgb\n",
    "import scipy\n",
    "from sklearn.metrics import fbeta_score\n",
    "from PIL import Image"
   ]
  },
  {
   "cell_type": "code",
   "execution_count": 2,
   "metadata": {},
   "outputs": [],
   "source": [
    "# Set the seed \n",
    "random_seed = 1\n",
    "random.seed(random_seed)\n",
    "np.random.seed(random_seed)"
   ]
  },
  {
   "cell_type": "code",
   "execution_count": 3,
   "metadata": {},
   "outputs": [],
   "source": [
    "ROOT_PATH = 'dataset'\n",
    "TRAIN_PATH = ROOT_PATH + '/' + 'train_file' + '/'\n",
    "TEST_PATH = ROOT_PATH + '/' + 'test_file' + '/'\n",
    "\n",
    "TRAIN_CSV_PATH = TRAIN_PATH + 'train_label.csv'\n",
    "TEST_CSV_PATH = TEST_PATH + 'test_label.csv'\n",
    "df_train = pd.read_csv(TRAIN_CSV_PATH)\n",
    "df_test = pd.read_csv(TEST_CSV_PATH)"
   ]
  },
  {
   "cell_type": "code",
   "execution_count": 4,
   "metadata": {},
   "outputs": [],
   "source": [
    "# Function to extract the image features\n",
    "def extract_features(df, data_path):\n",
    "    im_features = df.copy()\n",
    "\n",
    "    N = len(im_features.image_name.values)\n",
    "\n",
    "    r_mean = np.zeros(N)\n",
    "    g_mean = np.zeros(N)\n",
    "    b_mean = np.zeros(N)\n",
    "\n",
    "    r_std = np.zeros(N)\n",
    "    g_std = np.zeros(N)\n",
    "    b_std = np.zeros(N)\n",
    "\n",
    "    r_max = np.zeros(N)\n",
    "    g_max = np.zeros(N)\n",
    "    b_max = np.zeros(N)\n",
    "\n",
    "    r_min = np.zeros(N)\n",
    "    g_min = np.zeros(N)\n",
    "    b_min = np.zeros(N)\n",
    "\n",
    "    r_kurtosis = np.zeros(N)\n",
    "    g_kurtosis = np.zeros(N)\n",
    "    b_kurtosis = np.zeros(N)\n",
    "    \n",
    "    r_skewness = np.zeros(N)\n",
    "    g_skewness = np.zeros(N)\n",
    "    b_skewness = np.zeros(N)\n",
    "\n",
    "    for i, image_name in enumerate(tqdm(im_features.image_name.values, miniters=1000)): \n",
    "        im = Image.open(data_path + image_name)\n",
    "        im = np.array(im)[:,:,:3]\n",
    "\n",
    "        r = im[:,:,0].ravel()\n",
    "        g = im[:,:,1].ravel()\n",
    "        b = im[:,:,2].ravel()\n",
    "        \n",
    "        r_mean[i] = np.mean(r)\n",
    "        g_mean[i] = np.mean(g)\n",
    "        b_mean[i] = np.mean(b)\n",
    "\n",
    "        r_std[i] = np.std(r)\n",
    "        g_std[i] = np.std(g)\n",
    "        b_std[i] = np.std(b)\n",
    "\n",
    "        r_max[i] = np.max(r)\n",
    "        g_max[i] = np.max(g)\n",
    "        b_max[i] = np.max(b)\n",
    "\n",
    "        r_min[i] = np.min(r)\n",
    "        g_min[i] = np.min(g)\n",
    "        b_min[i] = np.min(b)\n",
    "\n",
    "        r_kurtosis[i] = scipy.stats.kurtosis(r)\n",
    "        g_kurtosis[i] = scipy.stats.kurtosis(g)\n",
    "        b_kurtosis[i] = scipy.stats.kurtosis(b)\n",
    "        \n",
    "        r_skewness[i] = scipy.stats.skew(r)\n",
    "        g_skewness[i] = scipy.stats.skew(g)\n",
    "        b_skewness[i] = scipy.stats.skew(b)\n",
    "\n",
    "\n",
    "    im_features['r_mean'] = r_mean\n",
    "    im_features['g_mean'] = g_mean\n",
    "    im_features['b_mean'] = b_mean\n",
    "\n",
    "    im_features['rgb_mean_mean'] = (r_mean + g_mean + b_mean)/3.0\n",
    "\n",
    "    im_features['r_std'] = r_std\n",
    "    im_features['g_std'] = g_std\n",
    "    im_features['b_std'] = b_std\n",
    "\n",
    "    im_features['rgb_mean_std'] = (r_std + g_std + b_std)/3.0\n",
    "\n",
    "    im_features['r_max'] = r_max\n",
    "    im_features['g_max'] = g_max\n",
    "    im_features['b_max'] = b_max\n",
    "\n",
    "    im_features['rgb_mean_max'] = (r_max + r_max + b_max)/3.0\n",
    "\n",
    "    im_features['r_min'] = r_min\n",
    "    im_features['g_min'] = g_min\n",
    "    im_features['b_min'] = b_min\n",
    "\n",
    "    im_features['rgb_mean_min'] = (r_min + g_min + b_min)/3.0\n",
    "\n",
    "    im_features['r_range'] = r_max - r_min\n",
    "    im_features['g_range'] = g_max - g_min\n",
    "    im_features['b_range'] = b_max - b_min\n",
    "\n",
    "    im_features['r_kurtosis'] = r_kurtosis\n",
    "    im_features['g_kurtosis'] = g_kurtosis\n",
    "    im_features['b_kurtosis'] = b_kurtosis\n",
    "    \n",
    "    im_features['r_skewness'] = r_skewness\n",
    "    im_features['g_skewness'] = g_skewness\n",
    "    im_features['b_skewness'] = b_skewness\n",
    "    \n",
    "    return im_features"
   ]
  },
  {
   "cell_type": "code",
   "execution_count": 5,
   "metadata": {},
   "outputs": [],
   "source": [
    "# # Extract features\n",
    "# print('Extracting train features')\n",
    "# train_features = extract_features(df_train, TRAIN_PATH)\n",
    "# print('Extracting test features')\n",
    "# test_features = extract_features(df_test, TEST_PATH)"
   ]
  },
  {
   "cell_type": "code",
   "execution_count": 6,
   "metadata": {},
   "outputs": [],
   "source": [
    "# # Pickle the data\n",
    "# import pickle\n",
    "\n",
    "# train_feat = open('train_features_xgb.pickle', 'wb')\n",
    "# pickle.dump(train_features, train_feat, protocol=4)\n",
    "# train_feat.close()\n",
    "\n",
    "# test_feat = open('test_features_xgb.pickle', 'wb')\n",
    "# pickle.dump(test_features, test_feat, protocol=4)\n",
    "# test_feat.close()"
   ]
  },
  {
   "cell_type": "code",
   "execution_count": 7,
   "metadata": {},
   "outputs": [],
   "source": [
    "# Load the pickled features:\n",
    "import pickle\n",
    "\n",
    "pickle_XGtrain = open('train_features_xgb.pickle', 'rb')\n",
    "train_features = pickle.load(pickle_XGtrain)\n",
    "\n",
    "pickle_yGtrain = open('test_features_xgb.pickle', 'rb')\n",
    "test_features = pickle.load(pickle_yGtrain)"
   ]
  },
  {
   "cell_type": "code",
   "execution_count": 8,
   "metadata": {},
   "outputs": [
    {
     "data": {
      "text/html": [
       "<div>\n",
       "<style scoped>\n",
       "    .dataframe tbody tr th:only-of-type {\n",
       "        vertical-align: middle;\n",
       "    }\n",
       "\n",
       "    .dataframe tbody tr th {\n",
       "        vertical-align: top;\n",
       "    }\n",
       "\n",
       "    .dataframe thead th {\n",
       "        text-align: right;\n",
       "    }\n",
       "</style>\n",
       "<table border=\"1\" class=\"dataframe\">\n",
       "  <thead>\n",
       "    <tr style=\"text-align: right;\">\n",
       "      <th></th>\n",
       "      <th>image_name</th>\n",
       "      <th>tags</th>\n",
       "      <th>r_mean</th>\n",
       "      <th>g_mean</th>\n",
       "      <th>b_mean</th>\n",
       "      <th>rgb_mean_mean</th>\n",
       "      <th>r_std</th>\n",
       "      <th>g_std</th>\n",
       "      <th>b_std</th>\n",
       "      <th>rgb_mean_std</th>\n",
       "      <th>...</th>\n",
       "      <th>rgb_mean_min</th>\n",
       "      <th>r_range</th>\n",
       "      <th>g_range</th>\n",
       "      <th>b_range</th>\n",
       "      <th>r_kurtosis</th>\n",
       "      <th>g_kurtosis</th>\n",
       "      <th>b_kurtosis</th>\n",
       "      <th>r_skewness</th>\n",
       "      <th>g_skewness</th>\n",
       "      <th>b_skewness</th>\n",
       "    </tr>\n",
       "  </thead>\n",
       "  <tbody>\n",
       "    <tr>\n",
       "      <th>0</th>\n",
       "      <td>train_3577.jpg</td>\n",
       "      <td>haze primary</td>\n",
       "      <td>148.766541</td>\n",
       "      <td>139.191345</td>\n",
       "      <td>139.831360</td>\n",
       "      <td>142.596415</td>\n",
       "      <td>6.518982</td>\n",
       "      <td>5.068980</td>\n",
       "      <td>4.251461</td>\n",
       "      <td>5.279808</td>\n",
       "      <td>...</td>\n",
       "      <td>94.333333</td>\n",
       "      <td>78.0</td>\n",
       "      <td>60.0</td>\n",
       "      <td>53.0</td>\n",
       "      <td>1.624781</td>\n",
       "      <td>1.295214</td>\n",
       "      <td>1.887434</td>\n",
       "      <td>-0.751895</td>\n",
       "      <td>-0.690477</td>\n",
       "      <td>-0.733745</td>\n",
       "    </tr>\n",
       "    <tr>\n",
       "      <th>1</th>\n",
       "      <td>train_10327.jpg</td>\n",
       "      <td>clear primary</td>\n",
       "      <td>220.517136</td>\n",
       "      <td>203.796860</td>\n",
       "      <td>217.190964</td>\n",
       "      <td>213.834986</td>\n",
       "      <td>3.921799</td>\n",
       "      <td>3.366178</td>\n",
       "      <td>2.795377</td>\n",
       "      <td>3.361118</td>\n",
       "      <td>...</td>\n",
       "      <td>196.666667</td>\n",
       "      <td>38.0</td>\n",
       "      <td>28.0</td>\n",
       "      <td>30.0</td>\n",
       "      <td>0.656120</td>\n",
       "      <td>0.185518</td>\n",
       "      <td>0.505991</td>\n",
       "      <td>-0.314143</td>\n",
       "      <td>-0.056736</td>\n",
       "      <td>-0.150792</td>\n",
       "    </tr>\n",
       "    <tr>\n",
       "      <th>2</th>\n",
       "      <td>train_1243.jpg</td>\n",
       "      <td>clear primary water</td>\n",
       "      <td>204.231445</td>\n",
       "      <td>194.632141</td>\n",
       "      <td>210.987869</td>\n",
       "      <td>203.283819</td>\n",
       "      <td>12.544279</td>\n",
       "      <td>10.132796</td>\n",
       "      <td>6.051904</td>\n",
       "      <td>9.576326</td>\n",
       "      <td>...</td>\n",
       "      <td>129.666667</td>\n",
       "      <td>128.0</td>\n",
       "      <td>95.0</td>\n",
       "      <td>75.0</td>\n",
       "      <td>2.201598</td>\n",
       "      <td>1.264594</td>\n",
       "      <td>3.308432</td>\n",
       "      <td>-0.843753</td>\n",
       "      <td>-0.572600</td>\n",
       "      <td>-0.930052</td>\n",
       "    </tr>\n",
       "    <tr>\n",
       "      <th>3</th>\n",
       "      <td>train_17066.jpg</td>\n",
       "      <td>clear primary</td>\n",
       "      <td>211.725586</td>\n",
       "      <td>196.971878</td>\n",
       "      <td>199.204102</td>\n",
       "      <td>202.633855</td>\n",
       "      <td>6.247410</td>\n",
       "      <td>5.451912</td>\n",
       "      <td>3.730528</td>\n",
       "      <td>5.143283</td>\n",
       "      <td>...</td>\n",
       "      <td>170.000000</td>\n",
       "      <td>66.0</td>\n",
       "      <td>58.0</td>\n",
       "      <td>40.0</td>\n",
       "      <td>0.886477</td>\n",
       "      <td>0.548840</td>\n",
       "      <td>0.906253</td>\n",
       "      <td>-0.039352</td>\n",
       "      <td>0.155083</td>\n",
       "      <td>-0.116051</td>\n",
       "    </tr>\n",
       "    <tr>\n",
       "      <th>4</th>\n",
       "      <td>train_15959.jpg</td>\n",
       "      <td>clear primary</td>\n",
       "      <td>222.835907</td>\n",
       "      <td>211.518372</td>\n",
       "      <td>222.824738</td>\n",
       "      <td>219.059672</td>\n",
       "      <td>8.378670</td>\n",
       "      <td>7.839344</td>\n",
       "      <td>4.539750</td>\n",
       "      <td>6.919255</td>\n",
       "      <td>...</td>\n",
       "      <td>189.000000</td>\n",
       "      <td>67.0</td>\n",
       "      <td>57.0</td>\n",
       "      <td>41.0</td>\n",
       "      <td>0.058687</td>\n",
       "      <td>-0.042396</td>\n",
       "      <td>0.157615</td>\n",
       "      <td>0.217154</td>\n",
       "      <td>0.269355</td>\n",
       "      <td>0.103681</td>\n",
       "    </tr>\n",
       "    <tr>\n",
       "      <th>...</th>\n",
       "      <td>...</td>\n",
       "      <td>...</td>\n",
       "      <td>...</td>\n",
       "      <td>...</td>\n",
       "      <td>...</td>\n",
       "      <td>...</td>\n",
       "      <td>...</td>\n",
       "      <td>...</td>\n",
       "      <td>...</td>\n",
       "      <td>...</td>\n",
       "      <td>...</td>\n",
       "      <td>...</td>\n",
       "      <td>...</td>\n",
       "      <td>...</td>\n",
       "      <td>...</td>\n",
       "      <td>...</td>\n",
       "      <td>...</td>\n",
       "      <td>...</td>\n",
       "      <td>...</td>\n",
       "      <td>...</td>\n",
       "      <td>...</td>\n",
       "    </tr>\n",
       "    <tr>\n",
       "      <th>32378</th>\n",
       "      <td>train_7813.jpg</td>\n",
       "      <td>agriculture clear primary</td>\n",
       "      <td>209.221756</td>\n",
       "      <td>197.285767</td>\n",
       "      <td>210.975830</td>\n",
       "      <td>205.827784</td>\n",
       "      <td>11.826805</td>\n",
       "      <td>8.418947</td>\n",
       "      <td>6.459005</td>\n",
       "      <td>8.901586</td>\n",
       "      <td>...</td>\n",
       "      <td>101.666667</td>\n",
       "      <td>159.0</td>\n",
       "      <td>116.0</td>\n",
       "      <td>104.0</td>\n",
       "      <td>23.282306</td>\n",
       "      <td>14.473558</td>\n",
       "      <td>15.178514</td>\n",
       "      <td>-3.836106</td>\n",
       "      <td>-2.764308</td>\n",
       "      <td>-2.642729</td>\n",
       "    </tr>\n",
       "    <tr>\n",
       "      <th>32379</th>\n",
       "      <td>train_32511.jpg</td>\n",
       "      <td>clear primary</td>\n",
       "      <td>210.765640</td>\n",
       "      <td>206.845963</td>\n",
       "      <td>214.733612</td>\n",
       "      <td>210.781738</td>\n",
       "      <td>4.872695</td>\n",
       "      <td>4.387733</td>\n",
       "      <td>3.425858</td>\n",
       "      <td>4.228762</td>\n",
       "      <td>...</td>\n",
       "      <td>184.666667</td>\n",
       "      <td>52.0</td>\n",
       "      <td>45.0</td>\n",
       "      <td>33.0</td>\n",
       "      <td>0.663791</td>\n",
       "      <td>0.570556</td>\n",
       "      <td>0.455217</td>\n",
       "      <td>-0.258948</td>\n",
       "      <td>-0.195252</td>\n",
       "      <td>-0.081520</td>\n",
       "    </tr>\n",
       "    <tr>\n",
       "      <th>32380</th>\n",
       "      <td>train_5192.jpg</td>\n",
       "      <td>partly_cloudy primary</td>\n",
       "      <td>201.624176</td>\n",
       "      <td>186.742889</td>\n",
       "      <td>190.072342</td>\n",
       "      <td>192.813136</td>\n",
       "      <td>17.593000</td>\n",
       "      <td>16.093506</td>\n",
       "      <td>15.091996</td>\n",
       "      <td>16.259501</td>\n",
       "      <td>...</td>\n",
       "      <td>110.333333</td>\n",
       "      <td>128.0</td>\n",
       "      <td>117.0</td>\n",
       "      <td>113.0</td>\n",
       "      <td>4.469777</td>\n",
       "      <td>4.516515</td>\n",
       "      <td>5.373764</td>\n",
       "      <td>-1.873831</td>\n",
       "      <td>-1.874576</td>\n",
       "      <td>-2.188219</td>\n",
       "    </tr>\n",
       "    <tr>\n",
       "      <th>32381</th>\n",
       "      <td>train_12172.jpg</td>\n",
       "      <td>agriculture clear cultivation habitation prima...</td>\n",
       "      <td>193.127960</td>\n",
       "      <td>179.296692</td>\n",
       "      <td>191.246964</td>\n",
       "      <td>187.890539</td>\n",
       "      <td>10.517030</td>\n",
       "      <td>7.206180</td>\n",
       "      <td>5.668010</td>\n",
       "      <td>7.797074</td>\n",
       "      <td>...</td>\n",
       "      <td>58.666667</td>\n",
       "      <td>180.0</td>\n",
       "      <td>150.0</td>\n",
       "      <td>131.0</td>\n",
       "      <td>22.681995</td>\n",
       "      <td>32.654662</td>\n",
       "      <td>59.961953</td>\n",
       "      <td>-3.444317</td>\n",
       "      <td>-3.446622</td>\n",
       "      <td>-4.921287</td>\n",
       "    </tr>\n",
       "    <tr>\n",
       "      <th>32382</th>\n",
       "      <td>train_33003.jpg</td>\n",
       "      <td>clear primary</td>\n",
       "      <td>209.308685</td>\n",
       "      <td>206.195572</td>\n",
       "      <td>215.342728</td>\n",
       "      <td>210.282328</td>\n",
       "      <td>5.695598</td>\n",
       "      <td>5.159375</td>\n",
       "      <td>4.149282</td>\n",
       "      <td>5.001418</td>\n",
       "      <td>...</td>\n",
       "      <td>178.333333</td>\n",
       "      <td>66.0</td>\n",
       "      <td>52.0</td>\n",
       "      <td>53.0</td>\n",
       "      <td>1.937349</td>\n",
       "      <td>0.903708</td>\n",
       "      <td>1.198978</td>\n",
       "      <td>-0.360614</td>\n",
       "      <td>-0.088775</td>\n",
       "      <td>-0.164545</td>\n",
       "    </tr>\n",
       "  </tbody>\n",
       "</table>\n",
       "<p>32383 rows × 27 columns</p>\n",
       "</div>"
      ],
      "text/plain": [
       "            image_name                                               tags  \\\n",
       "0       train_3577.jpg                                       haze primary   \n",
       "1      train_10327.jpg                                      clear primary   \n",
       "2       train_1243.jpg                                clear primary water   \n",
       "3      train_17066.jpg                                      clear primary   \n",
       "4      train_15959.jpg                                      clear primary   \n",
       "...                ...                                                ...   \n",
       "32378   train_7813.jpg                          agriculture clear primary   \n",
       "32379  train_32511.jpg                                      clear primary   \n",
       "32380   train_5192.jpg                              partly_cloudy primary   \n",
       "32381  train_12172.jpg  agriculture clear cultivation habitation prima...   \n",
       "32382  train_33003.jpg                                      clear primary   \n",
       "\n",
       "           r_mean      g_mean      b_mean  rgb_mean_mean      r_std  \\\n",
       "0      148.766541  139.191345  139.831360     142.596415   6.518982   \n",
       "1      220.517136  203.796860  217.190964     213.834986   3.921799   \n",
       "2      204.231445  194.632141  210.987869     203.283819  12.544279   \n",
       "3      211.725586  196.971878  199.204102     202.633855   6.247410   \n",
       "4      222.835907  211.518372  222.824738     219.059672   8.378670   \n",
       "...           ...         ...         ...            ...        ...   \n",
       "32378  209.221756  197.285767  210.975830     205.827784  11.826805   \n",
       "32379  210.765640  206.845963  214.733612     210.781738   4.872695   \n",
       "32380  201.624176  186.742889  190.072342     192.813136  17.593000   \n",
       "32381  193.127960  179.296692  191.246964     187.890539  10.517030   \n",
       "32382  209.308685  206.195572  215.342728     210.282328   5.695598   \n",
       "\n",
       "           g_std      b_std  rgb_mean_std  ...  rgb_mean_min  r_range  \\\n",
       "0       5.068980   4.251461      5.279808  ...     94.333333     78.0   \n",
       "1       3.366178   2.795377      3.361118  ...    196.666667     38.0   \n",
       "2      10.132796   6.051904      9.576326  ...    129.666667    128.0   \n",
       "3       5.451912   3.730528      5.143283  ...    170.000000     66.0   \n",
       "4       7.839344   4.539750      6.919255  ...    189.000000     67.0   \n",
       "...          ...        ...           ...  ...           ...      ...   \n",
       "32378   8.418947   6.459005      8.901586  ...    101.666667    159.0   \n",
       "32379   4.387733   3.425858      4.228762  ...    184.666667     52.0   \n",
       "32380  16.093506  15.091996     16.259501  ...    110.333333    128.0   \n",
       "32381   7.206180   5.668010      7.797074  ...     58.666667    180.0   \n",
       "32382   5.159375   4.149282      5.001418  ...    178.333333     66.0   \n",
       "\n",
       "       g_range  b_range  r_kurtosis  g_kurtosis  b_kurtosis  r_skewness  \\\n",
       "0         60.0     53.0    1.624781    1.295214    1.887434   -0.751895   \n",
       "1         28.0     30.0    0.656120    0.185518    0.505991   -0.314143   \n",
       "2         95.0     75.0    2.201598    1.264594    3.308432   -0.843753   \n",
       "3         58.0     40.0    0.886477    0.548840    0.906253   -0.039352   \n",
       "4         57.0     41.0    0.058687   -0.042396    0.157615    0.217154   \n",
       "...        ...      ...         ...         ...         ...         ...   \n",
       "32378    116.0    104.0   23.282306   14.473558   15.178514   -3.836106   \n",
       "32379     45.0     33.0    0.663791    0.570556    0.455217   -0.258948   \n",
       "32380    117.0    113.0    4.469777    4.516515    5.373764   -1.873831   \n",
       "32381    150.0    131.0   22.681995   32.654662   59.961953   -3.444317   \n",
       "32382     52.0     53.0    1.937349    0.903708    1.198978   -0.360614   \n",
       "\n",
       "       g_skewness  b_skewness  \n",
       "0       -0.690477   -0.733745  \n",
       "1       -0.056736   -0.150792  \n",
       "2       -0.572600   -0.930052  \n",
       "3        0.155083   -0.116051  \n",
       "4        0.269355    0.103681  \n",
       "...           ...         ...  \n",
       "32378   -2.764308   -2.642729  \n",
       "32379   -0.195252   -0.081520  \n",
       "32380   -1.874576   -2.188219  \n",
       "32381   -3.446622   -4.921287  \n",
       "32382   -0.088775   -0.164545  \n",
       "\n",
       "[32383 rows x 27 columns]"
      ]
     },
     "execution_count": 8,
     "metadata": {},
     "output_type": "execute_result"
    }
   ],
   "source": [
    "train_features"
   ]
  },
  {
   "cell_type": "code",
   "execution_count": 9,
   "metadata": {},
   "outputs": [
    {
     "name": "stdout",
     "output_type": "stream",
     "text": [
      "(32383, 27)\n",
      "(8096, 27)\n"
     ]
    }
   ],
   "source": [
    "print(train_features.shape)\n",
    "print(test_features.shape)"
   ]
  },
  {
   "cell_type": "code",
   "execution_count": 10,
   "metadata": {},
   "outputs": [
    {
     "data": {
      "text/plain": [
       "False"
      ]
     },
     "execution_count": 10,
     "metadata": {},
     "output_type": "execute_result"
    }
   ],
   "source": [
    "test_features.isnull().any().any()"
   ]
  },
  {
   "cell_type": "code",
   "execution_count": 11,
   "metadata": {},
   "outputs": [],
   "source": [
    "# Prepare train data\n",
    "X_train = np.array(train_features.drop(['image_name', 'tags'], axis=1))\n",
    "y_train = []\n",
    "\n",
    "flatten = lambda l: [item for sublist in l for item in sublist]\n",
    "labels = np.array(list(set(flatten([l.split(' ') for l in train_features['tags'].values]))))\n",
    "\n",
    "label_map = {l: i for i, l in enumerate(labels)}\n",
    "inv_label_map = {i: l for l, i in label_map.items()}"
   ]
  },
  {
   "cell_type": "code",
   "execution_count": 12,
   "metadata": {},
   "outputs": [
    {
     "data": {
      "text/plain": [
       "{'haze': 0,\n",
       " 'cultivation': 1,\n",
       " 'artisinal_mine': 2,\n",
       " 'clear': 3,\n",
       " 'slash_burn': 4,\n",
       " 'water': 5,\n",
       " 'agriculture': 6,\n",
       " 'conventional_mine': 7,\n",
       " 'road': 8,\n",
       " 'primary': 9,\n",
       " 'cloudy': 10,\n",
       " 'partly_cloudy': 11,\n",
       " 'bare_ground': 12,\n",
       " 'blow_down': 13,\n",
       " 'habitation': 14,\n",
       " 'blooming': 15,\n",
       " 'selective_logging': 16}"
      ]
     },
     "execution_count": 12,
     "metadata": {},
     "output_type": "execute_result"
    }
   ],
   "source": [
    "label_map"
   ]
  },
  {
   "cell_type": "code",
   "execution_count": 13,
   "metadata": {},
   "outputs": [
    {
     "data": {
      "text/plain": [
       "'haze primary'"
      ]
     },
     "execution_count": 13,
     "metadata": {},
     "output_type": "execute_result"
    }
   ],
   "source": [
    "df_train.tags.values[0]"
   ]
  },
  {
   "cell_type": "code",
   "execution_count": 14,
   "metadata": {},
   "outputs": [
    {
     "name": "stderr",
     "output_type": "stream",
     "text": [
      "100%|██████████| 32383/32383 [00:00<00:00, 249287.69it/s]\n"
     ]
    }
   ],
   "source": [
    "# Create a bag of words for train\n",
    "for tags in tqdm(df_train.tags.values, miniters=1000):\n",
    "    targets = np.zeros(17)\n",
    "    for t in tags.split(' '):\n",
    "        targets[label_map[t]] = 1 \n",
    "    y_train.append(targets)\n",
    "    \n",
    "y_train = np.array(y_train, np.uint8) # float to int"
   ]
  },
  {
   "cell_type": "code",
   "execution_count": 15,
   "metadata": {},
   "outputs": [],
   "source": [
    "n_classes = y_train.shape[1] # 17 classes in total\n",
    "\n",
    "#Create X_test dataset\n",
    "X_test = np.array(test_features.drop(['image_name', 'tags'], axis=1))\n"
   ]
  },
  {
   "cell_type": "code",
   "execution_count": 16,
   "metadata": {},
   "outputs": [],
   "source": [
    "# Train and predict with one-vs-all strategy\n",
    "train_pred = np.zeros((X_train.shape[0], n_classes)) # (num_of_train_images, n_classes=17)\n",
    "y_pred = np.zeros((X_test.shape[0], n_classes)) # (num_of_test_images, n_classes=17)"
   ]
  },
  {
   "cell_type": "code",
   "execution_count": 17,
   "metadata": {},
   "outputs": [
    {
     "data": {
      "text/plain": [
       "array([[ 1.48766541e+02,  1.39191345e+02,  1.39831360e+02, ...,\n",
       "        -7.51894636e-01, -6.90477450e-01, -7.33745371e-01],\n",
       "       [ 2.20517136e+02,  2.03796860e+02,  2.17190964e+02, ...,\n",
       "        -3.14143378e-01, -5.67362195e-02, -1.50791580e-01],\n",
       "       [ 2.04231445e+02,  1.94632141e+02,  2.10987869e+02, ...,\n",
       "        -8.43753262e-01, -5.72600353e-01, -9.30051760e-01],\n",
       "       ...,\n",
       "       [ 2.01624176e+02,  1.86742889e+02,  1.90072342e+02, ...,\n",
       "        -1.87383127e+00, -1.87457569e+00, -2.18821940e+00],\n",
       "       [ 1.93127960e+02,  1.79296692e+02,  1.91246964e+02, ...,\n",
       "        -3.44431730e+00, -3.44662165e+00, -4.92128734e+00],\n",
       "       [ 2.09308685e+02,  2.06195572e+02,  2.15342728e+02, ...,\n",
       "        -3.60614349e-01, -8.87750441e-02, -1.64545360e-01]])"
      ]
     },
     "execution_count": 17,
     "metadata": {},
     "output_type": "execute_result"
    }
   ],
   "source": [
    "X_train"
   ]
  },
  {
   "cell_type": "code",
   "execution_count": 18,
   "metadata": {
    "scrolled": true
   },
   "outputs": [
    {
     "name": "stderr",
     "output_type": "stream",
     "text": [
      "  0%|          | 0/17 [00:00<?, ?it/s]/Users/jihoon/anaconda3/envs/tf/lib/python3.6/site-packages/xgboost/data.py:115: UserWarning: Use subset (sliced data) of np.ndarray is not recommended because it will generate extra copies and increase memory consumption\n",
      "  \"memory consumption\")\n"
     ]
    },
    {
     "name": "stdout",
     "output_type": "stream",
     "text": [
      "class_i = 0 haze\n"
     ]
    },
    {
     "name": "stderr",
     "output_type": "stream",
     "text": [
      "\r",
      "  6%|▌         | 1/17 [00:03<01:03,  3.96s/it]"
     ]
    },
    {
     "name": "stdout",
     "output_type": "stream",
     "text": [
      "class_i = 1 cultivation\n"
     ]
    },
    {
     "name": "stderr",
     "output_type": "stream",
     "text": [
      "\r",
      " 12%|█▏        | 2/17 [00:07<00:59,  3.96s/it]"
     ]
    },
    {
     "name": "stdout",
     "output_type": "stream",
     "text": [
      "class_i = 2 artisinal_mine\n"
     ]
    },
    {
     "name": "stderr",
     "output_type": "stream",
     "text": [
      "\r",
      " 18%|█▊        | 3/17 [00:11<00:50,  3.59s/it]"
     ]
    },
    {
     "name": "stdout",
     "output_type": "stream",
     "text": [
      "class_i = 3 clear\n"
     ]
    },
    {
     "name": "stderr",
     "output_type": "stream",
     "text": [
      "\r",
      " 24%|██▎       | 4/17 [00:15<00:51,  3.98s/it]"
     ]
    },
    {
     "name": "stdout",
     "output_type": "stream",
     "text": [
      "class_i = 4 slash_burn\n"
     ]
    },
    {
     "name": "stderr",
     "output_type": "stream",
     "text": [
      "\r",
      " 29%|██▉       | 5/17 [00:18<00:44,  3.69s/it]"
     ]
    },
    {
     "name": "stdout",
     "output_type": "stream",
     "text": [
      "class_i = 5 water\n"
     ]
    },
    {
     "name": "stderr",
     "output_type": "stream",
     "text": [
      "\r",
      " 35%|███▌      | 6/17 [00:22<00:41,  3.79s/it]"
     ]
    },
    {
     "name": "stdout",
     "output_type": "stream",
     "text": [
      "class_i = 6 agriculture\n"
     ]
    },
    {
     "name": "stderr",
     "output_type": "stream",
     "text": [
      "\r",
      " 41%|████      | 7/17 [00:26<00:38,  3.86s/it]"
     ]
    },
    {
     "name": "stdout",
     "output_type": "stream",
     "text": [
      "class_i = 7 conventional_mine\n"
     ]
    },
    {
     "name": "stderr",
     "output_type": "stream",
     "text": [
      "\r",
      " 47%|████▋     | 8/17 [00:29<00:31,  3.55s/it]"
     ]
    },
    {
     "name": "stdout",
     "output_type": "stream",
     "text": [
      "class_i = 8 road\n"
     ]
    },
    {
     "name": "stderr",
     "output_type": "stream",
     "text": [
      "\r",
      " 53%|█████▎    | 9/17 [00:33<00:30,  3.76s/it]"
     ]
    },
    {
     "name": "stdout",
     "output_type": "stream",
     "text": [
      "class_i = 9 primary\n"
     ]
    },
    {
     "name": "stderr",
     "output_type": "stream",
     "text": [
      "\r",
      " 59%|█████▉    | 10/17 [00:38<00:27,  3.90s/it]"
     ]
    },
    {
     "name": "stdout",
     "output_type": "stream",
     "text": [
      "class_i = 10 cloudy\n"
     ]
    },
    {
     "name": "stderr",
     "output_type": "stream",
     "text": [
      "\r",
      " 65%|██████▍   | 11/17 [00:42<00:23,  3.93s/it]"
     ]
    },
    {
     "name": "stdout",
     "output_type": "stream",
     "text": [
      "class_i = 11 partly_cloudy\n"
     ]
    },
    {
     "name": "stderr",
     "output_type": "stream",
     "text": [
      "\r",
      " 71%|███████   | 12/17 [00:45<00:19,  3.88s/it]"
     ]
    },
    {
     "name": "stdout",
     "output_type": "stream",
     "text": [
      "class_i = 12 bare_ground\n"
     ]
    },
    {
     "name": "stderr",
     "output_type": "stream",
     "text": [
      "\r",
      " 76%|███████▋  | 13/17 [00:50<00:16,  4.07s/it]"
     ]
    },
    {
     "name": "stdout",
     "output_type": "stream",
     "text": [
      "class_i = 13 blow_down\n"
     ]
    },
    {
     "name": "stderr",
     "output_type": "stream",
     "text": [
      "\r",
      " 82%|████████▏ | 14/17 [00:53<00:11,  3.81s/it]"
     ]
    },
    {
     "name": "stdout",
     "output_type": "stream",
     "text": [
      "class_i = 14 habitation\n"
     ]
    },
    {
     "name": "stderr",
     "output_type": "stream",
     "text": [
      "\r",
      " 88%|████████▊ | 15/17 [00:57<00:07,  3.76s/it]"
     ]
    },
    {
     "name": "stdout",
     "output_type": "stream",
     "text": [
      "class_i = 15 blooming\n"
     ]
    },
    {
     "name": "stderr",
     "output_type": "stream",
     "text": [
      "\r",
      " 94%|█████████▍| 16/17 [01:00<00:03,  3.57s/it]"
     ]
    },
    {
     "name": "stdout",
     "output_type": "stream",
     "text": [
      "class_i = 16 selective_logging\n"
     ]
    },
    {
     "name": "stderr",
     "output_type": "stream",
     "text": [
      "100%|██████████| 17/17 [01:03<00:00,  3.76s/it]\n"
     ]
    }
   ],
   "source": [
    "for class_i in tqdm(range(n_classes), miniters=1): \n",
    "    print(\"class_i =\", class_i, inv_label_map[class_i])\n",
    "    model = xgb.XGBClassifier(max_depth=5, learning_rate=0.1, n_estimators=100, \\\n",
    "                              objective='binary:logistic', n_jobs=-1, \\\n",
    "                              gamma=0, min_child_weight=1, max_delta_step=0, \\\n",
    "                              subsample=1, colsample_bytree=1, colsample_bylevel=1, \\\n",
    "                              reg_alpha=0, reg_lambda=1, scale_pos_weight=1, \\\n",
    "                              base_score=0.5, seed=random_seed, \\\n",
    "                              use_label_encoder=False, eval_metric='error', \\\n",
    "                             )\n",
    "    \n",
    "    model.fit(X_train, y_train[:, class_i])\n",
    "#     print(\"Fit done!\")\n",
    "    train_pred[:, class_i] = model.predict_proba(X_train)[:,1]\n",
    "#     print(\"Pred on the train set done!\")\n",
    "    y_pred[:, class_i] = model.predict_proba(X_test)[:,1]\n",
    "    "
   ]
  },
  {
   "cell_type": "code",
   "execution_count": 38,
   "metadata": {},
   "outputs": [
    {
     "data": {
      "text/plain": [
       "array([[3.14594188e-04, 1.74364669e-03, 4.86482895e-05, ...,\n",
       "        4.94009582e-04, 3.29386879e-04, 6.52341259e-05],\n",
       "       [9.99807846e-04, 6.01813942e-03, 4.82067007e-05, ...,\n",
       "        3.74843657e-04, 2.02221199e-04, 1.02173020e-04],\n",
       "       [3.43886495e-04, 3.65004092e-01, 6.59632497e-04, ...,\n",
       "        3.30020264e-02, 6.27407245e-03, 7.10797217e-03],\n",
       "       ...,\n",
       "       [1.70503068e-03, 1.54579303e-03, 4.82067007e-05, ...,\n",
       "        9.95754497e-04, 6.86999527e-04, 2.91356147e-04],\n",
       "       [3.86725031e-02, 8.37389496e-04, 1.95599336e-04, ...,\n",
       "        7.69737002e-04, 9.59980898e-05, 2.21029753e-04],\n",
       "       [2.76346487e-04, 1.80411933e-03, 4.77528629e-05, ...,\n",
       "        6.34120021e-04, 1.81099400e-04, 8.96005295e-05]])"
      ]
     },
     "execution_count": 38,
     "metadata": {},
     "output_type": "execute_result"
    }
   ],
   "source": [
    "y_pred"
   ]
  },
  {
   "cell_type": "code",
   "execution_count": 39,
   "metadata": {},
   "outputs": [
    {
     "data": {
      "text/html": [
       "<div>\n",
       "<style scoped>\n",
       "    .dataframe tbody tr th:only-of-type {\n",
       "        vertical-align: middle;\n",
       "    }\n",
       "\n",
       "    .dataframe tbody tr th {\n",
       "        vertical-align: top;\n",
       "    }\n",
       "\n",
       "    .dataframe thead th {\n",
       "        text-align: right;\n",
       "    }\n",
       "</style>\n",
       "<table border=\"1\" class=\"dataframe\">\n",
       "  <thead>\n",
       "    <tr style=\"text-align: right;\">\n",
       "      <th></th>\n",
       "      <th>image_name</th>\n",
       "      <th>tags</th>\n",
       "      <th>pred_tags</th>\n",
       "    </tr>\n",
       "  </thead>\n",
       "  <tbody>\n",
       "    <tr>\n",
       "      <th>0</th>\n",
       "      <td>test_32752.jpg</td>\n",
       "      <td>clear primary</td>\n",
       "      <td>clear primary</td>\n",
       "    </tr>\n",
       "    <tr>\n",
       "      <th>1</th>\n",
       "      <td>test_7767.jpg</td>\n",
       "      <td>clear primary</td>\n",
       "      <td>clear primary</td>\n",
       "    </tr>\n",
       "    <tr>\n",
       "      <th>2</th>\n",
       "      <td>test_4254.jpg</td>\n",
       "      <td>agriculture clear cultivation primary</td>\n",
       "      <td>cultivation clear water agriculture primary</td>\n",
       "    </tr>\n",
       "    <tr>\n",
       "      <th>3</th>\n",
       "      <td>test_23119.jpg</td>\n",
       "      <td>clear primary</td>\n",
       "      <td>clear primary</td>\n",
       "    </tr>\n",
       "    <tr>\n",
       "      <th>4</th>\n",
       "      <td>test_22101.jpg</td>\n",
       "      <td>agriculture clear primary</td>\n",
       "      <td>clear water agriculture road primary</td>\n",
       "    </tr>\n",
       "    <tr>\n",
       "      <th>...</th>\n",
       "      <td>...</td>\n",
       "      <td>...</td>\n",
       "      <td>...</td>\n",
       "    </tr>\n",
       "    <tr>\n",
       "      <th>8091</th>\n",
       "      <td>test_14994.jpg</td>\n",
       "      <td>clear primary</td>\n",
       "      <td>clear primary</td>\n",
       "    </tr>\n",
       "    <tr>\n",
       "      <th>8092</th>\n",
       "      <td>test_12945.jpg</td>\n",
       "      <td>haze primary</td>\n",
       "      <td>clear primary</td>\n",
       "    </tr>\n",
       "    <tr>\n",
       "      <th>8093</th>\n",
       "      <td>test_9238.jpg</td>\n",
       "      <td>clear primary</td>\n",
       "      <td>clear primary</td>\n",
       "    </tr>\n",
       "    <tr>\n",
       "      <th>8094</th>\n",
       "      <td>test_36600.jpg</td>\n",
       "      <td>cloudy</td>\n",
       "      <td>cloudy</td>\n",
       "    </tr>\n",
       "    <tr>\n",
       "      <th>8095</th>\n",
       "      <td>test_3133.jpg</td>\n",
       "      <td>clear primary</td>\n",
       "      <td>clear primary</td>\n",
       "    </tr>\n",
       "  </tbody>\n",
       "</table>\n",
       "<p>8096 rows × 3 columns</p>\n",
       "</div>"
      ],
      "text/plain": [
       "          image_name                                   tags  \\\n",
       "0     test_32752.jpg                          clear primary   \n",
       "1      test_7767.jpg                          clear primary   \n",
       "2      test_4254.jpg  agriculture clear cultivation primary   \n",
       "3     test_23119.jpg                          clear primary   \n",
       "4     test_22101.jpg              agriculture clear primary   \n",
       "...              ...                                    ...   \n",
       "8091  test_14994.jpg                          clear primary   \n",
       "8092  test_12945.jpg                           haze primary   \n",
       "8093   test_9238.jpg                          clear primary   \n",
       "8094  test_36600.jpg                                 cloudy   \n",
       "8095   test_3133.jpg                          clear primary   \n",
       "\n",
       "                                        pred_tags  \n",
       "0                                   clear primary  \n",
       "1                                   clear primary  \n",
       "2     cultivation clear water agriculture primary  \n",
       "3                                   clear primary  \n",
       "4            clear water agriculture road primary  \n",
       "...                                           ...  \n",
       "8091                                clear primary  \n",
       "8092                                clear primary  \n",
       "8093                                clear primary  \n",
       "8094                                       cloudy  \n",
       "8095                                clear primary  \n",
       "\n",
       "[8096 rows x 3 columns]"
      ]
     },
     "execution_count": 39,
     "metadata": {},
     "output_type": "execute_result"
    }
   ],
   "source": [
    "df_test"
   ]
  },
  {
   "cell_type": "code",
   "execution_count": 59,
   "metadata": {},
   "outputs": [],
   "source": [
    "from sklearn.metrics import fbeta_score\n",
    "from sklearn.preprocessing import MultiLabelBinarizer\n",
    "\n",
    "THRES = 0.2\n",
    "\n",
    "def calc_acc(y_pred, df_test):\n",
    "    \n",
    "    result = np.array(y_pred)\n",
    "    result = pd.DataFrame(result, columns=labels)\n",
    "    preds = []\n",
    "    for i in range(result.shape[0]):\n",
    "        a = result.iloc[[i]]\n",
    "        a = a.apply(lambda x: x > THRES, axis=1)\n",
    "        a = a.transpose()\n",
    "        a = a.loc[a[i] == True]\n",
    "        preds.append(' '.join(list(a.index)))\n",
    "        \n",
    "    df_test['pred_tags'] = preds\n",
    "    test = df_test['tags'].apply(lambda x: x.split(' '))\n",
    "    pred = df_test['pred_tags'].apply(lambda x: x.split(' '))\n",
    "    \n",
    "    mlb = MultiLabelBinarizer()\n",
    "    test = mlb.fit_transform(test)\n",
    "    pred = mlb.transform(pred)\n",
    "    score = fbeta_score(test, pred, beta=2, average='weighted')\n",
    "    return score"
   ]
  },
  {
   "cell_type": "code",
   "execution_count": 60,
   "metadata": {},
   "outputs": [
    {
     "name": "stdout",
     "output_type": "stream",
     "text": [
      "0.8715810746920959\n"
     ]
    }
   ],
   "source": [
    "print(calc_acc(y_pred, df_test))"
   ]
  },
  {
   "cell_type": "code",
   "execution_count": 31,
   "metadata": {},
   "outputs": [
    {
     "data": {
      "text/html": [
       "<div>\n",
       "<style scoped>\n",
       "    .dataframe tbody tr th:only-of-type {\n",
       "        vertical-align: middle;\n",
       "    }\n",
       "\n",
       "    .dataframe tbody tr th {\n",
       "        vertical-align: top;\n",
       "    }\n",
       "\n",
       "    .dataframe thead th {\n",
       "        text-align: right;\n",
       "    }\n",
       "</style>\n",
       "<table border=\"1\" class=\"dataframe\">\n",
       "  <thead>\n",
       "    <tr style=\"text-align: right;\">\n",
       "      <th></th>\n",
       "      <th>haze</th>\n",
       "      <th>cultivation</th>\n",
       "      <th>artisinal_mine</th>\n",
       "      <th>clear</th>\n",
       "      <th>slash_burn</th>\n",
       "      <th>water</th>\n",
       "      <th>agriculture</th>\n",
       "      <th>conventional_mine</th>\n",
       "      <th>road</th>\n",
       "      <th>primary</th>\n",
       "      <th>cloudy</th>\n",
       "      <th>partly_cloudy</th>\n",
       "      <th>bare_ground</th>\n",
       "      <th>blow_down</th>\n",
       "      <th>habitation</th>\n",
       "      <th>blooming</th>\n",
       "      <th>selective_logging</th>\n",
       "    </tr>\n",
       "  </thead>\n",
       "  <tbody>\n",
       "    <tr>\n",
       "      <th>0</th>\n",
       "      <td>0.000315</td>\n",
       "      <td>0.001744</td>\n",
       "      <td>0.000049</td>\n",
       "      <td>0.998341</td>\n",
       "      <td>0.000114</td>\n",
       "      <td>0.008357</td>\n",
       "      <td>0.002974</td>\n",
       "      <td>0.000073</td>\n",
       "      <td>0.005614</td>\n",
       "      <td>0.999667</td>\n",
       "      <td>0.000224</td>\n",
       "      <td>0.001345</td>\n",
       "      <td>0.000403</td>\n",
       "      <td>0.000142</td>\n",
       "      <td>0.000494</td>\n",
       "      <td>0.000329</td>\n",
       "      <td>0.000065</td>\n",
       "    </tr>\n",
       "    <tr>\n",
       "      <th>1</th>\n",
       "      <td>0.001000</td>\n",
       "      <td>0.006018</td>\n",
       "      <td>0.000048</td>\n",
       "      <td>0.995323</td>\n",
       "      <td>0.000091</td>\n",
       "      <td>0.038274</td>\n",
       "      <td>0.009449</td>\n",
       "      <td>0.000076</td>\n",
       "      <td>0.010772</td>\n",
       "      <td>0.999574</td>\n",
       "      <td>0.000248</td>\n",
       "      <td>0.000468</td>\n",
       "      <td>0.000415</td>\n",
       "      <td>0.000097</td>\n",
       "      <td>0.000375</td>\n",
       "      <td>0.000202</td>\n",
       "      <td>0.000102</td>\n",
       "    </tr>\n",
       "    <tr>\n",
       "      <th>2</th>\n",
       "      <td>0.000344</td>\n",
       "      <td>0.365004</td>\n",
       "      <td>0.000660</td>\n",
       "      <td>0.890882</td>\n",
       "      <td>0.017153</td>\n",
       "      <td>0.228518</td>\n",
       "      <td>0.668510</td>\n",
       "      <td>0.000398</td>\n",
       "      <td>0.081552</td>\n",
       "      <td>0.999589</td>\n",
       "      <td>0.000235</td>\n",
       "      <td>0.067683</td>\n",
       "      <td>0.013973</td>\n",
       "      <td>0.002031</td>\n",
       "      <td>0.033002</td>\n",
       "      <td>0.006274</td>\n",
       "      <td>0.007108</td>\n",
       "    </tr>\n",
       "    <tr>\n",
       "      <th>3</th>\n",
       "      <td>0.000252</td>\n",
       "      <td>0.001513</td>\n",
       "      <td>0.000054</td>\n",
       "      <td>0.998472</td>\n",
       "      <td>0.000109</td>\n",
       "      <td>0.007021</td>\n",
       "      <td>0.002784</td>\n",
       "      <td>0.000063</td>\n",
       "      <td>0.005056</td>\n",
       "      <td>0.999427</td>\n",
       "      <td>0.000169</td>\n",
       "      <td>0.000546</td>\n",
       "      <td>0.000307</td>\n",
       "      <td>0.000221</td>\n",
       "      <td>0.000577</td>\n",
       "      <td>0.002860</td>\n",
       "      <td>0.000194</td>\n",
       "    </tr>\n",
       "    <tr>\n",
       "      <th>4</th>\n",
       "      <td>0.002394</td>\n",
       "      <td>0.085349</td>\n",
       "      <td>0.000495</td>\n",
       "      <td>0.978246</td>\n",
       "      <td>0.001995</td>\n",
       "      <td>0.512305</td>\n",
       "      <td>0.777353</td>\n",
       "      <td>0.006535</td>\n",
       "      <td>0.541024</td>\n",
       "      <td>0.992847</td>\n",
       "      <td>0.000484</td>\n",
       "      <td>0.013906</td>\n",
       "      <td>0.083064</td>\n",
       "      <td>0.000224</td>\n",
       "      <td>0.057571</td>\n",
       "      <td>0.000507</td>\n",
       "      <td>0.000713</td>\n",
       "    </tr>\n",
       "  </tbody>\n",
       "</table>\n",
       "</div>"
      ],
      "text/plain": [
       "       haze  cultivation  artisinal_mine     clear  slash_burn     water  \\\n",
       "0  0.000315     0.001744        0.000049  0.998341    0.000114  0.008357   \n",
       "1  0.001000     0.006018        0.000048  0.995323    0.000091  0.038274   \n",
       "2  0.000344     0.365004        0.000660  0.890882    0.017153  0.228518   \n",
       "3  0.000252     0.001513        0.000054  0.998472    0.000109  0.007021   \n",
       "4  0.002394     0.085349        0.000495  0.978246    0.001995  0.512305   \n",
       "\n",
       "   agriculture  conventional_mine      road   primary    cloudy  \\\n",
       "0     0.002974           0.000073  0.005614  0.999667  0.000224   \n",
       "1     0.009449           0.000076  0.010772  0.999574  0.000248   \n",
       "2     0.668510           0.000398  0.081552  0.999589  0.000235   \n",
       "3     0.002784           0.000063  0.005056  0.999427  0.000169   \n",
       "4     0.777353           0.006535  0.541024  0.992847  0.000484   \n",
       "\n",
       "   partly_cloudy  bare_ground  blow_down  habitation  blooming  \\\n",
       "0       0.001345     0.000403   0.000142    0.000494  0.000329   \n",
       "1       0.000468     0.000415   0.000097    0.000375  0.000202   \n",
       "2       0.067683     0.013973   0.002031    0.033002  0.006274   \n",
       "3       0.000546     0.000307   0.000221    0.000577  0.002860   \n",
       "4       0.013906     0.083064   0.000224    0.057571  0.000507   \n",
       "\n",
       "   selective_logging  \n",
       "0           0.000065  \n",
       "1           0.000102  \n",
       "2           0.007108  \n",
       "3           0.000194  \n",
       "4           0.000713  "
      ]
     },
     "execution_count": 31,
     "metadata": {},
     "output_type": "execute_result"
    }
   ],
   "source": [
    "xg_results = pd.DataFrame(y_pred, columns=labels)\n",
    "xg_results.head()"
   ]
  },
  {
   "cell_type": "code",
   "execution_count": 32,
   "metadata": {
    "scrolled": true
   },
   "outputs": [
    {
     "data": {
      "text/plain": [
       "array([[3.14594188e-04, 1.74364669e-03, 4.86482895e-05, ...,\n",
       "        4.94009582e-04, 3.29386879e-04, 6.52341259e-05],\n",
       "       [9.99807846e-04, 6.01813942e-03, 4.82067007e-05, ...,\n",
       "        3.74843657e-04, 2.02221199e-04, 1.02173020e-04],\n",
       "       [3.43886495e-04, 3.65004092e-01, 6.59632497e-04, ...,\n",
       "        3.30020264e-02, 6.27407245e-03, 7.10797217e-03],\n",
       "       ...,\n",
       "       [1.70503068e-03, 1.54579303e-03, 4.82067007e-05, ...,\n",
       "        9.95754497e-04, 6.86999527e-04, 2.91356147e-04],\n",
       "       [3.86725031e-02, 8.37389496e-04, 1.95599336e-04, ...,\n",
       "        7.69737002e-04, 9.59980898e-05, 2.21029753e-04],\n",
       "       [2.76346487e-04, 1.80411933e-03, 4.77528629e-05, ...,\n",
       "        6.34120021e-04, 1.81099400e-04, 8.96005295e-05]])"
      ]
     },
     "execution_count": 32,
     "metadata": {},
     "output_type": "execute_result"
    }
   ],
   "source": [
    "y_pred"
   ]
  },
  {
   "cell_type": "code",
   "execution_count": 22,
   "metadata": {},
   "outputs": [
    {
     "data": {
      "text/html": [
       "<div>\n",
       "<style scoped>\n",
       "    .dataframe tbody tr th:only-of-type {\n",
       "        vertical-align: middle;\n",
       "    }\n",
       "\n",
       "    .dataframe tbody tr th {\n",
       "        vertical-align: top;\n",
       "    }\n",
       "\n",
       "    .dataframe thead th {\n",
       "        text-align: right;\n",
       "    }\n",
       "</style>\n",
       "<table border=\"1\" class=\"dataframe\">\n",
       "  <thead>\n",
       "    <tr style=\"text-align: right;\">\n",
       "      <th></th>\n",
       "      <th>haze</th>\n",
       "      <th>cultivation</th>\n",
       "      <th>artisinal_mine</th>\n",
       "      <th>clear</th>\n",
       "      <th>slash_burn</th>\n",
       "      <th>water</th>\n",
       "      <th>agriculture</th>\n",
       "      <th>conventional_mine</th>\n",
       "      <th>road</th>\n",
       "      <th>primary</th>\n",
       "      <th>cloudy</th>\n",
       "      <th>partly_cloudy</th>\n",
       "      <th>bare_ground</th>\n",
       "      <th>blow_down</th>\n",
       "      <th>habitation</th>\n",
       "      <th>blooming</th>\n",
       "      <th>selective_logging</th>\n",
       "    </tr>\n",
       "  </thead>\n",
       "  <tbody>\n",
       "    <tr>\n",
       "      <th>0</th>\n",
       "      <td>0.537098</td>\n",
       "      <td>0.159694</td>\n",
       "      <td>0.000081</td>\n",
       "      <td>0.243691</td>\n",
       "      <td>0.000354</td>\n",
       "      <td>0.134333</td>\n",
       "      <td>0.568630</td>\n",
       "      <td>0.000102</td>\n",
       "      <td>0.243954</td>\n",
       "      <td>0.980574</td>\n",
       "      <td>0.010660</td>\n",
       "      <td>0.110202</td>\n",
       "      <td>0.002239</td>\n",
       "      <td>0.000582</td>\n",
       "      <td>0.156625</td>\n",
       "      <td>0.000263</td>\n",
       "      <td>0.004613</td>\n",
       "    </tr>\n",
       "    <tr>\n",
       "      <th>1</th>\n",
       "      <td>0.000440</td>\n",
       "      <td>0.002222</td>\n",
       "      <td>0.000054</td>\n",
       "      <td>0.996312</td>\n",
       "      <td>0.000232</td>\n",
       "      <td>0.006140</td>\n",
       "      <td>0.003109</td>\n",
       "      <td>0.000064</td>\n",
       "      <td>0.003406</td>\n",
       "      <td>0.999122</td>\n",
       "      <td>0.001018</td>\n",
       "      <td>0.000415</td>\n",
       "      <td>0.000351</td>\n",
       "      <td>0.000179</td>\n",
       "      <td>0.000348</td>\n",
       "      <td>0.000867</td>\n",
       "      <td>0.000405</td>\n",
       "    </tr>\n",
       "    <tr>\n",
       "      <th>2</th>\n",
       "      <td>0.000384</td>\n",
       "      <td>0.172788</td>\n",
       "      <td>0.000069</td>\n",
       "      <td>0.983728</td>\n",
       "      <td>0.019704</td>\n",
       "      <td>0.192996</td>\n",
       "      <td>0.491435</td>\n",
       "      <td>0.000225</td>\n",
       "      <td>0.285623</td>\n",
       "      <td>0.999617</td>\n",
       "      <td>0.000185</td>\n",
       "      <td>0.015980</td>\n",
       "      <td>0.021317</td>\n",
       "      <td>0.026234</td>\n",
       "      <td>0.065269</td>\n",
       "      <td>0.022148</td>\n",
       "      <td>0.084303</td>\n",
       "    </tr>\n",
       "    <tr>\n",
       "      <th>3</th>\n",
       "      <td>0.000233</td>\n",
       "      <td>0.003633</td>\n",
       "      <td>0.000046</td>\n",
       "      <td>0.997905</td>\n",
       "      <td>0.000109</td>\n",
       "      <td>0.025750</td>\n",
       "      <td>0.009913</td>\n",
       "      <td>0.000076</td>\n",
       "      <td>0.005932</td>\n",
       "      <td>0.999667</td>\n",
       "      <td>0.000151</td>\n",
       "      <td>0.000568</td>\n",
       "      <td>0.000342</td>\n",
       "      <td>0.001881</td>\n",
       "      <td>0.002179</td>\n",
       "      <td>0.001709</td>\n",
       "      <td>0.000104</td>\n",
       "    </tr>\n",
       "    <tr>\n",
       "      <th>4</th>\n",
       "      <td>0.000351</td>\n",
       "      <td>0.005659</td>\n",
       "      <td>0.000054</td>\n",
       "      <td>0.998829</td>\n",
       "      <td>0.000296</td>\n",
       "      <td>0.028705</td>\n",
       "      <td>0.005670</td>\n",
       "      <td>0.000063</td>\n",
       "      <td>0.004608</td>\n",
       "      <td>0.999393</td>\n",
       "      <td>0.000174</td>\n",
       "      <td>0.001292</td>\n",
       "      <td>0.000979</td>\n",
       "      <td>0.000448</td>\n",
       "      <td>0.000525</td>\n",
       "      <td>0.001119</td>\n",
       "      <td>0.000194</td>\n",
       "    </tr>\n",
       "    <tr>\n",
       "      <th>5</th>\n",
       "      <td>0.000871</td>\n",
       "      <td>0.046233</td>\n",
       "      <td>0.000120</td>\n",
       "      <td>0.064405</td>\n",
       "      <td>0.001856</td>\n",
       "      <td>0.109918</td>\n",
       "      <td>0.043219</td>\n",
       "      <td>0.000270</td>\n",
       "      <td>0.095922</td>\n",
       "      <td>0.999540</td>\n",
       "      <td>0.000299</td>\n",
       "      <td>0.927209</td>\n",
       "      <td>0.005650</td>\n",
       "      <td>0.001139</td>\n",
       "      <td>0.006057</td>\n",
       "      <td>0.011737</td>\n",
       "      <td>0.028095</td>\n",
       "    </tr>\n",
       "    <tr>\n",
       "      <th>6</th>\n",
       "      <td>0.002392</td>\n",
       "      <td>0.182307</td>\n",
       "      <td>0.000061</td>\n",
       "      <td>0.734244</td>\n",
       "      <td>0.003507</td>\n",
       "      <td>0.135172</td>\n",
       "      <td>0.236053</td>\n",
       "      <td>0.000172</td>\n",
       "      <td>0.144552</td>\n",
       "      <td>0.997012</td>\n",
       "      <td>0.000181</td>\n",
       "      <td>0.207602</td>\n",
       "      <td>0.009302</td>\n",
       "      <td>0.004540</td>\n",
       "      <td>0.034107</td>\n",
       "      <td>0.008751</td>\n",
       "      <td>0.029138</td>\n",
       "    </tr>\n",
       "    <tr>\n",
       "      <th>7</th>\n",
       "      <td>0.000232</td>\n",
       "      <td>0.001595</td>\n",
       "      <td>0.000054</td>\n",
       "      <td>0.998593</td>\n",
       "      <td>0.000154</td>\n",
       "      <td>0.010229</td>\n",
       "      <td>0.003089</td>\n",
       "      <td>0.000063</td>\n",
       "      <td>0.003839</td>\n",
       "      <td>0.999478</td>\n",
       "      <td>0.000225</td>\n",
       "      <td>0.000417</td>\n",
       "      <td>0.000353</td>\n",
       "      <td>0.000239</td>\n",
       "      <td>0.000541</td>\n",
       "      <td>0.001356</td>\n",
       "      <td>0.000151</td>\n",
       "    </tr>\n",
       "    <tr>\n",
       "      <th>8</th>\n",
       "      <td>0.032685</td>\n",
       "      <td>0.001973</td>\n",
       "      <td>0.000048</td>\n",
       "      <td>0.946485</td>\n",
       "      <td>0.000116</td>\n",
       "      <td>0.024188</td>\n",
       "      <td>0.005117</td>\n",
       "      <td>0.000086</td>\n",
       "      <td>0.004193</td>\n",
       "      <td>0.996651</td>\n",
       "      <td>0.002013</td>\n",
       "      <td>0.000235</td>\n",
       "      <td>0.000570</td>\n",
       "      <td>0.000218</td>\n",
       "      <td>0.000630</td>\n",
       "      <td>0.000845</td>\n",
       "      <td>0.000773</td>\n",
       "    </tr>\n",
       "    <tr>\n",
       "      <th>9</th>\n",
       "      <td>0.003451</td>\n",
       "      <td>0.038144</td>\n",
       "      <td>0.003852</td>\n",
       "      <td>0.011373</td>\n",
       "      <td>0.000536</td>\n",
       "      <td>0.519069</td>\n",
       "      <td>0.169243</td>\n",
       "      <td>0.004859</td>\n",
       "      <td>0.021172</td>\n",
       "      <td>0.398304</td>\n",
       "      <td>0.360448</td>\n",
       "      <td>0.224775</td>\n",
       "      <td>0.012778</td>\n",
       "      <td>0.000094</td>\n",
       "      <td>0.010437</td>\n",
       "      <td>0.000090</td>\n",
       "      <td>0.000119</td>\n",
       "    </tr>\n",
       "  </tbody>\n",
       "</table>\n",
       "</div>"
      ],
      "text/plain": [
       "       haze  cultivation  artisinal_mine     clear  slash_burn     water  \\\n",
       "0  0.537098     0.159694        0.000081  0.243691    0.000354  0.134333   \n",
       "1  0.000440     0.002222        0.000054  0.996312    0.000232  0.006140   \n",
       "2  0.000384     0.172788        0.000069  0.983728    0.019704  0.192996   \n",
       "3  0.000233     0.003633        0.000046  0.997905    0.000109  0.025750   \n",
       "4  0.000351     0.005659        0.000054  0.998829    0.000296  0.028705   \n",
       "5  0.000871     0.046233        0.000120  0.064405    0.001856  0.109918   \n",
       "6  0.002392     0.182307        0.000061  0.734244    0.003507  0.135172   \n",
       "7  0.000232     0.001595        0.000054  0.998593    0.000154  0.010229   \n",
       "8  0.032685     0.001973        0.000048  0.946485    0.000116  0.024188   \n",
       "9  0.003451     0.038144        0.003852  0.011373    0.000536  0.519069   \n",
       "\n",
       "   agriculture  conventional_mine      road   primary    cloudy  \\\n",
       "0     0.568630           0.000102  0.243954  0.980574  0.010660   \n",
       "1     0.003109           0.000064  0.003406  0.999122  0.001018   \n",
       "2     0.491435           0.000225  0.285623  0.999617  0.000185   \n",
       "3     0.009913           0.000076  0.005932  0.999667  0.000151   \n",
       "4     0.005670           0.000063  0.004608  0.999393  0.000174   \n",
       "5     0.043219           0.000270  0.095922  0.999540  0.000299   \n",
       "6     0.236053           0.000172  0.144552  0.997012  0.000181   \n",
       "7     0.003089           0.000063  0.003839  0.999478  0.000225   \n",
       "8     0.005117           0.000086  0.004193  0.996651  0.002013   \n",
       "9     0.169243           0.004859  0.021172  0.398304  0.360448   \n",
       "\n",
       "   partly_cloudy  bare_ground  blow_down  habitation  blooming  \\\n",
       "0       0.110202     0.002239   0.000582    0.156625  0.000263   \n",
       "1       0.000415     0.000351   0.000179    0.000348  0.000867   \n",
       "2       0.015980     0.021317   0.026234    0.065269  0.022148   \n",
       "3       0.000568     0.000342   0.001881    0.002179  0.001709   \n",
       "4       0.001292     0.000979   0.000448    0.000525  0.001119   \n",
       "5       0.927209     0.005650   0.001139    0.006057  0.011737   \n",
       "6       0.207602     0.009302   0.004540    0.034107  0.008751   \n",
       "7       0.000417     0.000353   0.000239    0.000541  0.001356   \n",
       "8       0.000235     0.000570   0.000218    0.000630  0.000845   \n",
       "9       0.224775     0.012778   0.000094    0.010437  0.000090   \n",
       "\n",
       "   selective_logging  \n",
       "0           0.004613  \n",
       "1           0.000405  \n",
       "2           0.084303  \n",
       "3           0.000104  \n",
       "4           0.000194  \n",
       "5           0.028095  \n",
       "6           0.029138  \n",
       "7           0.000151  \n",
       "8           0.000773  \n",
       "9           0.000119  "
      ]
     },
     "execution_count": 22,
     "metadata": {},
     "output_type": "execute_result"
    }
   ],
   "source": [
    "xg_train_res = pd.DataFrame(train_pred, columns=labels)\n",
    "xg_train_res.head()"
   ]
  },
  {
   "cell_type": "code",
   "execution_count": 23,
   "metadata": {},
   "outputs": [],
   "source": [
    "# xg_results.to_csv('result_xgb_0.3.csv', index=False)"
   ]
  },
  {
   "cell_type": "code",
   "execution_count": 24,
   "metadata": {},
   "outputs": [],
   "source": [
    "#Pickle the result\n",
    "# import pickle\n",
    "res = open('result_xgb_0.5.pickle', 'wb')\n",
    "pickle.dump(xg_results, res, protocol=4)\n",
    "res.close()"
   ]
  },
  {
   "cell_type": "code",
   "execution_count": 25,
   "metadata": {},
   "outputs": [
    {
     "name": "stdout",
     "output_type": "stream",
     "text": [
      "Blow downs:  2\n",
      "conventional_mine:  7\n",
      "selective_logging:  18\n",
      "slash_burn:  1\n",
      "Cultivation:  1529\n"
     ]
    }
   ],
   "source": [
    "#Check predicted rare labels\n",
    "print(\"Blow downs: \",len(xg_results[xg_results['blow_down']>0.2]))\n",
    "print(\"conventional_mine: \",len(xg_results[xg_results['conventional_mine']>0.2]))\n",
    "print(\"selective_logging: \",len(xg_results[xg_results['selective_logging']>0.2]))\n",
    "print(\"slash_burn: \",len(xg_results[xg_results['slash_burn']>0.2]))\n",
    "print(\"Cultivation: \",len(xg_results[xg_results['cultivation']>0.2]))"
   ]
  },
  {
   "cell_type": "code",
   "execution_count": 26,
   "metadata": {},
   "outputs": [],
   "source": [
    "#create prediction flag\n",
    "preds = [' '.join(labels[y_pred_row > 0.2]) for y_pred_row in y_pred]"
   ]
  },
  {
   "cell_type": "code",
   "execution_count": 27,
   "metadata": {},
   "outputs": [
    {
     "data": {
      "text/html": [
       "<div>\n",
       "<style scoped>\n",
       "    .dataframe tbody tr th:only-of-type {\n",
       "        vertical-align: middle;\n",
       "    }\n",
       "\n",
       "    .dataframe tbody tr th {\n",
       "        vertical-align: top;\n",
       "    }\n",
       "\n",
       "    .dataframe thead th {\n",
       "        text-align: right;\n",
       "    }\n",
       "</style>\n",
       "<table border=\"1\" class=\"dataframe\">\n",
       "  <thead>\n",
       "    <tr style=\"text-align: right;\">\n",
       "      <th></th>\n",
       "      <th>image_name</th>\n",
       "      <th>tags</th>\n",
       "    </tr>\n",
       "  </thead>\n",
       "  <tbody>\n",
       "    <tr>\n",
       "      <th>0</th>\n",
       "      <td>test_32752.jpg</td>\n",
       "      <td>clear primary</td>\n",
       "    </tr>\n",
       "    <tr>\n",
       "      <th>1</th>\n",
       "      <td>test_7767.jpg</td>\n",
       "      <td>clear primary</td>\n",
       "    </tr>\n",
       "    <tr>\n",
       "      <th>2</th>\n",
       "      <td>test_4254.jpg</td>\n",
       "      <td>cultivation clear water agriculture primary</td>\n",
       "    </tr>\n",
       "    <tr>\n",
       "      <th>3</th>\n",
       "      <td>test_23119.jpg</td>\n",
       "      <td>clear primary</td>\n",
       "    </tr>\n",
       "    <tr>\n",
       "      <th>4</th>\n",
       "      <td>test_22101.jpg</td>\n",
       "      <td>clear water agriculture road primary</td>\n",
       "    </tr>\n",
       "    <tr>\n",
       "      <th>5</th>\n",
       "      <td>test_26818.jpg</td>\n",
       "      <td>clear primary</td>\n",
       "    </tr>\n",
       "    <tr>\n",
       "      <th>6</th>\n",
       "      <td>test_25502.jpg</td>\n",
       "      <td>cultivation clear water agriculture road prima...</td>\n",
       "    </tr>\n",
       "    <tr>\n",
       "      <th>7</th>\n",
       "      <td>test_35301.jpg</td>\n",
       "      <td>clear water agriculture road primary partly_cl...</td>\n",
       "    </tr>\n",
       "    <tr>\n",
       "      <th>8</th>\n",
       "      <td>test_29796.jpg</td>\n",
       "      <td>cultivation clear agriculture road primary</td>\n",
       "    </tr>\n",
       "    <tr>\n",
       "      <th>9</th>\n",
       "      <td>test_36349.jpg</td>\n",
       "      <td>cultivation clear water agriculture primary</td>\n",
       "    </tr>\n",
       "  </tbody>\n",
       "</table>\n",
       "</div>"
      ],
      "text/plain": [
       "       image_name                                               tags\n",
       "0  test_32752.jpg                                      clear primary\n",
       "1   test_7767.jpg                                      clear primary\n",
       "2   test_4254.jpg        cultivation clear water agriculture primary\n",
       "3  test_23119.jpg                                      clear primary\n",
       "4  test_22101.jpg               clear water agriculture road primary\n",
       "5  test_26818.jpg                                      clear primary\n",
       "6  test_25502.jpg  cultivation clear water agriculture road prima...\n",
       "7  test_35301.jpg  clear water agriculture road primary partly_cl...\n",
       "8  test_29796.jpg         cultivation clear agriculture road primary\n",
       "9  test_36349.jpg        cultivation clear water agriculture primary"
      ]
     },
     "execution_count": 27,
     "metadata": {},
     "output_type": "execute_result"
    }
   ],
   "source": [
    "#Create a  dataframe wiht test images and labels \n",
    "subm = pd.DataFrame()\n",
    "subm['image_name'] = test_features.image_name.values\n",
    "subm['tags'] = preds\n",
    "subm[:10]"
   ]
  },
  {
   "cell_type": "code",
   "execution_count": 28,
   "metadata": {},
   "outputs": [],
   "source": [
    "#Create flags for prediction flags\n",
    "train_preds = [' '.join(labels[y_pred_row > 0.2]) for y_pred_row in train_pred]"
   ]
  },
  {
   "cell_type": "code",
   "execution_count": 29,
   "metadata": {},
   "outputs": [
    {
     "data": {
      "text/html": [
       "<div>\n",
       "<style scoped>\n",
       "    .dataframe tbody tr th:only-of-type {\n",
       "        vertical-align: middle;\n",
       "    }\n",
       "\n",
       "    .dataframe tbody tr th {\n",
       "        vertical-align: top;\n",
       "    }\n",
       "\n",
       "    .dataframe thead th {\n",
       "        text-align: right;\n",
       "    }\n",
       "</style>\n",
       "<table border=\"1\" class=\"dataframe\">\n",
       "  <thead>\n",
       "    <tr style=\"text-align: right;\">\n",
       "      <th></th>\n",
       "      <th>image_name</th>\n",
       "      <th>pred_tags</th>\n",
       "    </tr>\n",
       "  </thead>\n",
       "  <tbody>\n",
       "    <tr>\n",
       "      <th>0</th>\n",
       "      <td>train_3577.jpg</td>\n",
       "      <td>haze clear agriculture road primary</td>\n",
       "    </tr>\n",
       "    <tr>\n",
       "      <th>1</th>\n",
       "      <td>train_10327.jpg</td>\n",
       "      <td>clear primary</td>\n",
       "    </tr>\n",
       "    <tr>\n",
       "      <th>2</th>\n",
       "      <td>train_1243.jpg</td>\n",
       "      <td>clear agriculture road primary</td>\n",
       "    </tr>\n",
       "    <tr>\n",
       "      <th>3</th>\n",
       "      <td>train_17066.jpg</td>\n",
       "      <td>clear primary</td>\n",
       "    </tr>\n",
       "    <tr>\n",
       "      <th>4</th>\n",
       "      <td>train_15959.jpg</td>\n",
       "      <td>clear primary</td>\n",
       "    </tr>\n",
       "    <tr>\n",
       "      <th>5</th>\n",
       "      <td>train_32931.jpg</td>\n",
       "      <td>primary partly_cloudy</td>\n",
       "    </tr>\n",
       "    <tr>\n",
       "      <th>6</th>\n",
       "      <td>train_4151.jpg</td>\n",
       "      <td>clear agriculture primary partly_cloudy</td>\n",
       "    </tr>\n",
       "    <tr>\n",
       "      <th>7</th>\n",
       "      <td>train_37844.jpg</td>\n",
       "      <td>clear primary</td>\n",
       "    </tr>\n",
       "    <tr>\n",
       "      <th>8</th>\n",
       "      <td>train_28283.jpg</td>\n",
       "      <td>clear primary</td>\n",
       "    </tr>\n",
       "    <tr>\n",
       "      <th>9</th>\n",
       "      <td>train_35805.jpg</td>\n",
       "      <td>water primary cloudy partly_cloudy</td>\n",
       "    </tr>\n",
       "  </tbody>\n",
       "</table>\n",
       "</div>"
      ],
      "text/plain": [
       "        image_name                                pred_tags\n",
       "0   train_3577.jpg      haze clear agriculture road primary\n",
       "1  train_10327.jpg                            clear primary\n",
       "2   train_1243.jpg           clear agriculture road primary\n",
       "3  train_17066.jpg                            clear primary\n",
       "4  train_15959.jpg                            clear primary\n",
       "5  train_32931.jpg                    primary partly_cloudy\n",
       "6   train_4151.jpg  clear agriculture primary partly_cloudy\n",
       "7  train_37844.jpg                            clear primary\n",
       "8  train_28283.jpg                            clear primary\n",
       "9  train_35805.jpg       water primary cloudy partly_cloudy"
      ]
     },
     "execution_count": 29,
     "metadata": {},
     "output_type": "execute_result"
    }
   ],
   "source": [
    "#Create a  dataframe wiht train images and labels \n",
    "trainfrm = pd.DataFrame()\n",
    "trainfrm['image_name'] = train_features.image_name.values\n",
    "trainfrm['pred_tags'] = train_preds\n",
    "trainfrm[:10]"
   ]
  },
  {
   "cell_type": "code",
   "execution_count": 30,
   "metadata": {},
   "outputs": [
    {
     "ename": "NameError",
     "evalue": "name 'train' is not defined",
     "output_type": "error",
     "traceback": [
      "\u001b[0;31m---------------------------------------------------------------------------\u001b[0m",
      "\u001b[0;31mNameError\u001b[0m                                 Traceback (most recent call last)",
      "\u001b[0;32m<ipython-input-30-63c5279e7612>\u001b[0m in \u001b[0;36m<module>\u001b[0;34m\u001b[0m\n\u001b[0;32m----> 1\u001b[0;31m \u001b[0mdf_train\u001b[0m\u001b[0;34m=\u001b[0m \u001b[0mtrain\u001b[0m\u001b[0;34m\u001b[0m\u001b[0;34m\u001b[0m\u001b[0m\n\u001b[0m\u001b[1;32m      2\u001b[0m \u001b[0mdf_train\u001b[0m\u001b[0;34m[\u001b[0m\u001b[0;34m:\u001b[0m\u001b[0;36m10\u001b[0m\u001b[0;34m]\u001b[0m\u001b[0;34m\u001b[0m\u001b[0;34m\u001b[0m\u001b[0m\n",
      "\u001b[0;31mNameError\u001b[0m: name 'train' is not defined"
     ]
    }
   ],
   "source": [
    "df_train= train\n",
    "df_train[:10]"
   ]
  },
  {
   "cell_type": "code",
   "execution_count": null,
   "metadata": {},
   "outputs": [],
   "source": [
    "# Join to train_df to get the original \n",
    "df_train=df_train.merge(trainfrm,on='image_name')\n",
    "df_train[:5]"
   ]
  },
  {
   "cell_type": "code",
   "execution_count": null,
   "metadata": {},
   "outputs": [],
   "source": [
    "#Create one hot encoding to compare the predicted and original labels \n",
    "df_train['tags1'] = df_train['tags'].apply(lambda x: x.split(' '))\n",
    "df_train['pred_tags1'] = df_train['pred_tags'].apply(lambda x: x.split(' '))"
   ]
  },
  {
   "cell_type": "code",
   "execution_count": null,
   "metadata": {},
   "outputs": [],
   "source": [
    "df_train_actual=df_train[['image_name','tags1']]\n",
    "df_train_actual[:2]\n"
   ]
  },
  {
   "cell_type": "code",
   "execution_count": null,
   "metadata": {},
   "outputs": [],
   "source": [
    "from sklearn.preprocessing import MultiLabelBinarizer\n",
    "xgbst = MultiLabelBinarizer()\n",
    "\n",
    "actual_results = pd.DataFrame(xgbst.fit_transform(df_train_actual['tags1']),\n",
    "                   columns=xgbst.classes_,\n",
    "                   index=df_train_actual.index)\n",
    "\n",
    "actual_results"
   ]
  },
  {
   "cell_type": "code",
   "execution_count": null,
   "metadata": {},
   "outputs": [],
   "source": [
    "df_train_pred=df_train[['image_name','pred_tags1']]\n",
    "df_train_pred[:2]"
   ]
  },
  {
   "cell_type": "code",
   "execution_count": null,
   "metadata": {},
   "outputs": [],
   "source": [
    "from sklearn.preprocessing import MultiLabelBinarizer\n",
    "xgbst = MultiLabelBinarizer()\n",
    "\n",
    "pred_results = pd.DataFrame(xgbst.fit_transform(df_train_pred['pred_tags1']),\n",
    "                   columns=xgbst.classes_,\n",
    "                   index=df_train_pred.index)\n",
    "\n",
    "pred_results"
   ]
  },
  {
   "cell_type": "code",
   "execution_count": null,
   "metadata": {},
   "outputs": [],
   "source": [
    "#get precision -recall report\n",
    "from sklearn.metrics import classification_report\n",
    "import numpy as np\n",
    "print(classification_report(actual_results, pred_results, target_names=labels))"
   ]
  },
  {
   "cell_type": "code",
   "execution_count": null,
   "metadata": {},
   "outputs": [],
   "source": []
  }
 ],
 "metadata": {
  "kernelspec": {
   "display_name": "Python 3",
   "language": "python",
   "name": "python3"
  },
  "language_info": {
   "codemirror_mode": {
    "name": "ipython",
    "version": 3
   },
   "file_extension": ".py",
   "mimetype": "text/x-python",
   "name": "python",
   "nbconvert_exporter": "python",
   "pygments_lexer": "ipython3",
   "version": "3.6.13"
  }
 },
 "nbformat": 4,
 "nbformat_minor": 4
}
