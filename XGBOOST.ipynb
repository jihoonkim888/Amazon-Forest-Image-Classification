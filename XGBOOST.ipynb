{
 "cells": [
  {
   "cell_type": "code",
   "execution_count": 1,
   "metadata": {},
   "outputs": [],
   "source": [
    "import os\n",
    "import numpy as np\n",
    "import pandas as pd\n",
    "import random\n",
    "from tqdm import tqdm\n",
    "import xgboost as xgb\n",
    "import scipy\n",
    "from sklearn.metrics import fbeta_score\n",
    "from sklearn.preprocessing import MultiLabelBinarizer\n",
    "from sklearn.metrics import classification_report\n",
    "from PIL import Image"
   ]
  },
  {
   "cell_type": "code",
   "execution_count": 2,
   "metadata": {},
   "outputs": [],
   "source": [
    "# Set the seed \n",
    "random_seed = 1\n",
    "random.seed(random_seed)\n",
    "np.random.seed(random_seed)"
   ]
  },
  {
   "cell_type": "code",
   "execution_count": 3,
   "metadata": {},
   "outputs": [],
   "source": [
    "ROOT_PATH = 'dataset-haze-removed'\n",
    "TRAIN_PATH = ROOT_PATH + '/' + 'train_file' + '/'\n",
    "TEST_PATH = ROOT_PATH + '/' + 'test_file' + '/'\n",
    "\n",
    "TRAIN_CSV_PATH = TRAIN_PATH + 'train_label.csv'\n",
    "TEST_CSV_PATH = TEST_PATH + 'test_label.csv'\n",
    "df_train = pd.read_csv(TRAIN_CSV_PATH)\n",
    "df_test = pd.read_csv(TEST_CSV_PATH)"
   ]
  },
  {
   "cell_type": "code",
   "execution_count": 4,
   "metadata": {},
   "outputs": [],
   "source": [
    "# Function to extract the image features\n",
    "def extract_features(df, data_path):\n",
    "    \n",
    "    im_features = df.copy()\n",
    "\n",
    "    N = len(im_features.image_name.values)\n",
    "\n",
    "    r_mean = np.zeros(N)\n",
    "    g_mean = np.zeros(N)\n",
    "    b_mean = np.zeros(N)\n",
    "\n",
    "    r_std = np.zeros(N)\n",
    "    g_std = np.zeros(N)\n",
    "    b_std = np.zeros(N)\n",
    "\n",
    "    r_max = np.zeros(N)\n",
    "    g_max = np.zeros(N)\n",
    "    b_max = np.zeros(N)\n",
    "\n",
    "    r_min = np.zeros(N)\n",
    "    g_min = np.zeros(N)\n",
    "    b_min = np.zeros(N)\n",
    "\n",
    "    r_kurtosis = np.zeros(N)\n",
    "    g_kurtosis = np.zeros(N)\n",
    "    b_kurtosis = np.zeros(N)\n",
    "    \n",
    "    r_skewness = np.zeros(N)\n",
    "    g_skewness = np.zeros(N)\n",
    "    b_skewness = np.zeros(N)\n",
    "\n",
    "    for i, image_name in enumerate(tqdm(im_features.image_name.values, miniters=1000)): \n",
    "        im = Image.open(data_path + image_name)\n",
    "        im = np.array(im)[:,:,:3]\n",
    "\n",
    "        r = im[:,:,0].ravel()\n",
    "        g = im[:,:,1].ravel()\n",
    "        b = im[:,:,2].ravel()\n",
    "        \n",
    "        r_mean[i] = np.mean(r)\n",
    "        g_mean[i] = np.mean(g)\n",
    "        b_mean[i] = np.mean(b)\n",
    "\n",
    "        r_std[i] = np.std(r)\n",
    "        g_std[i] = np.std(g)\n",
    "        b_std[i] = np.std(b)\n",
    "\n",
    "        r_max[i] = np.max(r)\n",
    "        g_max[i] = np.max(g)\n",
    "        b_max[i] = np.max(b)\n",
    "\n",
    "        r_min[i] = np.min(r)\n",
    "        g_min[i] = np.min(g)\n",
    "        b_min[i] = np.min(b)\n",
    "\n",
    "        r_kurtosis[i] = scipy.stats.kurtosis(r)\n",
    "        g_kurtosis[i] = scipy.stats.kurtosis(g)\n",
    "        b_kurtosis[i] = scipy.stats.kurtosis(b)\n",
    "        \n",
    "        r_skewness[i] = scipy.stats.skew(r)\n",
    "        g_skewness[i] = scipy.stats.skew(g)\n",
    "        b_skewness[i] = scipy.stats.skew(b)\n",
    "\n",
    "\n",
    "    im_features['r_mean'] = r_mean\n",
    "    im_features['g_mean'] = g_mean\n",
    "    im_features['b_mean'] = b_mean\n",
    "\n",
    "    im_features['rgb_mean_mean'] = (r_mean + g_mean + b_mean)/3.0\n",
    "\n",
    "    im_features['r_std'] = r_std\n",
    "    im_features['g_std'] = g_std\n",
    "    im_features['b_std'] = b_std\n",
    "\n",
    "    im_features['rgb_mean_std'] = (r_std + g_std + b_std)/3.0\n",
    "\n",
    "    im_features['r_max'] = r_max\n",
    "    im_features['g_max'] = g_max\n",
    "    im_features['b_max'] = b_max\n",
    "\n",
    "    im_features['rgb_mean_max'] = (r_max + r_max + b_max)/3.0\n",
    "\n",
    "    im_features['r_min'] = r_min\n",
    "    im_features['g_min'] = g_min\n",
    "    im_features['b_min'] = b_min\n",
    "\n",
    "    im_features['rgb_mean_min'] = (r_min + g_min + b_min)/3.0\n",
    "\n",
    "    im_features['r_range'] = r_max - r_min\n",
    "    im_features['g_range'] = g_max - g_min\n",
    "    im_features['b_range'] = b_max - b_min\n",
    "\n",
    "    im_features['r_kurtosis'] = r_kurtosis\n",
    "    im_features['g_kurtosis'] = g_kurtosis\n",
    "    im_features['b_kurtosis'] = b_kurtosis\n",
    "    \n",
    "    im_features['r_skewness'] = r_skewness\n",
    "    im_features['g_skewness'] = g_skewness\n",
    "    im_features['b_skewness'] = b_skewness\n",
    "    \n",
    "    return im_features"
   ]
  },
  {
   "cell_type": "code",
   "execution_count": 5,
   "metadata": {},
   "outputs": [
    {
     "name": "stderr",
     "output_type": "stream",
     "text": [
      "\r",
      "  0%|          | 0/32383 [00:00<?, ?it/s]"
     ]
    },
    {
     "name": "stdout",
     "output_type": "stream",
     "text": [
      "Extracting train features\n"
     ]
    },
    {
     "name": "stderr",
     "output_type": "stream",
     "text": [
      "100%|██████████| 32383/32383 [04:11<00:00, 128.66it/s]\n",
      "  0%|          | 0/8096 [00:00<?, ?it/s]"
     ]
    },
    {
     "name": "stdout",
     "output_type": "stream",
     "text": [
      "Extracting test features\n"
     ]
    },
    {
     "name": "stderr",
     "output_type": "stream",
     "text": [
      "100%|██████████| 8096/8096 [01:02<00:00, 128.97it/s]\n"
     ]
    }
   ],
   "source": [
    "# Extract features\n",
    "print('Extracting train features')\n",
    "train_features = extract_features(df_train, TRAIN_PATH)\n",
    "print('Extracting test features')\n",
    "test_features = extract_features(df_test, TEST_PATH)"
   ]
  },
  {
   "cell_type": "code",
   "execution_count": 6,
   "metadata": {},
   "outputs": [],
   "source": [
    "# Pickle the data\n",
    "import pickle\n",
    "\n",
    "train_feat = open('train_features_xgb.pickle', 'wb')\n",
    "pickle.dump(train_features, train_feat, protocol=4)\n",
    "train_feat.close()\n",
    "\n",
    "test_feat = open('test_features_xgb.pickle', 'wb')\n",
    "pickle.dump(test_features, test_feat, protocol=4)\n",
    "test_feat.close()"
   ]
  },
  {
   "cell_type": "code",
   "execution_count": 7,
   "metadata": {},
   "outputs": [],
   "source": [
    "# Load the pickled features:\n",
    "import pickle\n",
    "\n",
    "pickle_XGtrain = open('train_features_xgb.pickle', 'rb')\n",
    "train_features = pickle.load(pickle_XGtrain)\n",
    "\n",
    "pickle_yGtrain = open('test_features_xgb.pickle', 'rb')\n",
    "test_features = pickle.load(pickle_yGtrain)"
   ]
  },
  {
   "cell_type": "code",
   "execution_count": 8,
   "metadata": {},
   "outputs": [
    {
     "data": {
      "text/html": [
       "<div>\n",
       "<style scoped>\n",
       "    .dataframe tbody tr th:only-of-type {\n",
       "        vertical-align: middle;\n",
       "    }\n",
       "\n",
       "    .dataframe tbody tr th {\n",
       "        vertical-align: top;\n",
       "    }\n",
       "\n",
       "    .dataframe thead th {\n",
       "        text-align: right;\n",
       "    }\n",
       "</style>\n",
       "<table border=\"1\" class=\"dataframe\">\n",
       "  <thead>\n",
       "    <tr style=\"text-align: right;\">\n",
       "      <th></th>\n",
       "      <th>image_name</th>\n",
       "      <th>tags</th>\n",
       "      <th>r_mean</th>\n",
       "      <th>g_mean</th>\n",
       "      <th>b_mean</th>\n",
       "      <th>rgb_mean_mean</th>\n",
       "      <th>r_std</th>\n",
       "      <th>g_std</th>\n",
       "      <th>b_std</th>\n",
       "      <th>rgb_mean_std</th>\n",
       "      <th>...</th>\n",
       "      <th>rgb_mean_min</th>\n",
       "      <th>r_range</th>\n",
       "      <th>g_range</th>\n",
       "      <th>b_range</th>\n",
       "      <th>r_kurtosis</th>\n",
       "      <th>g_kurtosis</th>\n",
       "      <th>b_kurtosis</th>\n",
       "      <th>r_skewness</th>\n",
       "      <th>g_skewness</th>\n",
       "      <th>b_skewness</th>\n",
       "    </tr>\n",
       "  </thead>\n",
       "  <tbody>\n",
       "    <tr>\n",
       "      <th>0</th>\n",
       "      <td>train_3577.jpg</td>\n",
       "      <td>haze primary</td>\n",
       "      <td>33.536392</td>\n",
       "      <td>65.431900</td>\n",
       "      <td>62.715378</td>\n",
       "      <td>53.894557</td>\n",
       "      <td>13.784964</td>\n",
       "      <td>11.300903</td>\n",
       "      <td>10.461465</td>\n",
       "      <td>11.849111</td>\n",
       "      <td>...</td>\n",
       "      <td>17.000000</td>\n",
       "      <td>232.0</td>\n",
       "      <td>191.0</td>\n",
       "      <td>184.0</td>\n",
       "      <td>13.050226</td>\n",
       "      <td>9.217388</td>\n",
       "      <td>7.321115</td>\n",
       "      <td>2.087852</td>\n",
       "      <td>1.547085</td>\n",
       "      <td>1.122272</td>\n",
       "    </tr>\n",
       "    <tr>\n",
       "      <th>1</th>\n",
       "      <td>train_10327.jpg</td>\n",
       "      <td>clear primary</td>\n",
       "      <td>11.404053</td>\n",
       "      <td>43.711578</td>\n",
       "      <td>17.701981</td>\n",
       "      <td>24.272537</td>\n",
       "      <td>6.197222</td>\n",
       "      <td>5.888620</td>\n",
       "      <td>4.929450</td>\n",
       "      <td>5.671764</td>\n",
       "      <td>...</td>\n",
       "      <td>8.333333</td>\n",
       "      <td>52.0</td>\n",
       "      <td>50.0</td>\n",
       "      <td>43.0</td>\n",
       "      <td>1.327724</td>\n",
       "      <td>0.314270</td>\n",
       "      <td>0.449883</td>\n",
       "      <td>0.921156</td>\n",
       "      <td>0.416528</td>\n",
       "      <td>0.324070</td>\n",
       "    </tr>\n",
       "    <tr>\n",
       "      <th>2</th>\n",
       "      <td>train_1243.jpg</td>\n",
       "      <td>clear primary water</td>\n",
       "      <td>24.042618</td>\n",
       "      <td>38.042938</td>\n",
       "      <td>13.600906</td>\n",
       "      <td>25.228821</td>\n",
       "      <td>15.389291</td>\n",
       "      <td>12.501424</td>\n",
       "      <td>7.648305</td>\n",
       "      <td>11.846340</td>\n",
       "      <td>...</td>\n",
       "      <td>4.000000</td>\n",
       "      <td>165.0</td>\n",
       "      <td>130.0</td>\n",
       "      <td>100.0</td>\n",
       "      <td>4.774659</td>\n",
       "      <td>2.882907</td>\n",
       "      <td>5.042152</td>\n",
       "      <td>1.489449</td>\n",
       "      <td>1.148245</td>\n",
       "      <td>1.223912</td>\n",
       "    </tr>\n",
       "    <tr>\n",
       "      <th>3</th>\n",
       "      <td>train_17066.jpg</td>\n",
       "      <td>clear primary</td>\n",
       "      <td>18.135345</td>\n",
       "      <td>44.320572</td>\n",
       "      <td>40.276062</td>\n",
       "      <td>34.243993</td>\n",
       "      <td>9.198519</td>\n",
       "      <td>8.602356</td>\n",
       "      <td>7.036161</td>\n",
       "      <td>8.279012</td>\n",
       "      <td>...</td>\n",
       "      <td>11.000000</td>\n",
       "      <td>81.0</td>\n",
       "      <td>86.0</td>\n",
       "      <td>71.0</td>\n",
       "      <td>1.052266</td>\n",
       "      <td>0.494463</td>\n",
       "      <td>0.530144</td>\n",
       "      <td>0.608870</td>\n",
       "      <td>0.297543</td>\n",
       "      <td>0.334936</td>\n",
       "    </tr>\n",
       "    <tr>\n",
       "      <th>4</th>\n",
       "      <td>train_15959.jpg</td>\n",
       "      <td>clear primary</td>\n",
       "      <td>16.630310</td>\n",
       "      <td>32.600525</td>\n",
       "      <td>16.318314</td>\n",
       "      <td>21.849716</td>\n",
       "      <td>9.145231</td>\n",
       "      <td>9.100885</td>\n",
       "      <td>7.284127</td>\n",
       "      <td>8.510081</td>\n",
       "      <td>...</td>\n",
       "      <td>2.666667</td>\n",
       "      <td>68.0</td>\n",
       "      <td>67.0</td>\n",
       "      <td>53.0</td>\n",
       "      <td>-0.095879</td>\n",
       "      <td>-0.217142</td>\n",
       "      <td>-0.185950</td>\n",
       "      <td>0.407414</td>\n",
       "      <td>0.245804</td>\n",
       "      <td>0.199647</td>\n",
       "    </tr>\n",
       "    <tr>\n",
       "      <th>...</th>\n",
       "      <td>...</td>\n",
       "      <td>...</td>\n",
       "      <td>...</td>\n",
       "      <td>...</td>\n",
       "      <td>...</td>\n",
       "      <td>...</td>\n",
       "      <td>...</td>\n",
       "      <td>...</td>\n",
       "      <td>...</td>\n",
       "      <td>...</td>\n",
       "      <td>...</td>\n",
       "      <td>...</td>\n",
       "      <td>...</td>\n",
       "      <td>...</td>\n",
       "      <td>...</td>\n",
       "      <td>...</td>\n",
       "      <td>...</td>\n",
       "      <td>...</td>\n",
       "      <td>...</td>\n",
       "      <td>...</td>\n",
       "      <td>...</td>\n",
       "    </tr>\n",
       "    <tr>\n",
       "      <th>32378</th>\n",
       "      <td>train_7813.jpg</td>\n",
       "      <td>agriculture clear primary</td>\n",
       "      <td>15.477585</td>\n",
       "      <td>30.640793</td>\n",
       "      <td>13.050232</td>\n",
       "      <td>19.722870</td>\n",
       "      <td>13.642089</td>\n",
       "      <td>9.437640</td>\n",
       "      <td>7.496165</td>\n",
       "      <td>10.191964</td>\n",
       "      <td>...</td>\n",
       "      <td>3.333333</td>\n",
       "      <td>187.0</td>\n",
       "      <td>144.0</td>\n",
       "      <td>113.0</td>\n",
       "      <td>31.838679</td>\n",
       "      <td>16.472478</td>\n",
       "      <td>12.185731</td>\n",
       "      <td>4.563234</td>\n",
       "      <td>2.953253</td>\n",
       "      <td>2.238615</td>\n",
       "    </tr>\n",
       "    <tr>\n",
       "      <th>32379</th>\n",
       "      <td>train_32511.jpg</td>\n",
       "      <td>clear primary</td>\n",
       "      <td>24.251404</td>\n",
       "      <td>33.039978</td>\n",
       "      <td>15.311920</td>\n",
       "      <td>24.201101</td>\n",
       "      <td>9.635826</td>\n",
       "      <td>9.055283</td>\n",
       "      <td>7.181655</td>\n",
       "      <td>8.624255</td>\n",
       "      <td>...</td>\n",
       "      <td>1.000000</td>\n",
       "      <td>88.0</td>\n",
       "      <td>93.0</td>\n",
       "      <td>57.0</td>\n",
       "      <td>0.868034</td>\n",
       "      <td>0.713837</td>\n",
       "      <td>0.382141</td>\n",
       "      <td>0.539241</td>\n",
       "      <td>0.451534</td>\n",
       "      <td>0.464247</td>\n",
       "    </tr>\n",
       "    <tr>\n",
       "      <th>32380</th>\n",
       "      <td>train_5192.jpg</td>\n",
       "      <td>partly_cloudy primary</td>\n",
       "      <td>17.912979</td>\n",
       "      <td>38.986435</td>\n",
       "      <td>34.105347</td>\n",
       "      <td>30.334920</td>\n",
       "      <td>16.490701</td>\n",
       "      <td>16.399915</td>\n",
       "      <td>14.978230</td>\n",
       "      <td>15.956282</td>\n",
       "      <td>...</td>\n",
       "      <td>7.333333</td>\n",
       "      <td>138.0</td>\n",
       "      <td>145.0</td>\n",
       "      <td>134.0</td>\n",
       "      <td>9.176509</td>\n",
       "      <td>9.294900</td>\n",
       "      <td>9.163632</td>\n",
       "      <td>2.710161</td>\n",
       "      <td>2.721485</td>\n",
       "      <td>2.686671</td>\n",
       "    </tr>\n",
       "    <tr>\n",
       "      <th>32381</th>\n",
       "      <td>train_12172.jpg</td>\n",
       "      <td>agriculture clear cultivation habitation prima...</td>\n",
       "      <td>19.452423</td>\n",
       "      <td>43.950317</td>\n",
       "      <td>22.351227</td>\n",
       "      <td>28.584656</td>\n",
       "      <td>16.530786</td>\n",
       "      <td>11.430518</td>\n",
       "      <td>9.470354</td>\n",
       "      <td>12.477220</td>\n",
       "      <td>...</td>\n",
       "      <td>6.000000</td>\n",
       "      <td>255.0</td>\n",
       "      <td>237.0</td>\n",
       "      <td>242.0</td>\n",
       "      <td>33.187836</td>\n",
       "      <td>60.916271</td>\n",
       "      <td>96.569428</td>\n",
       "      <td>4.326013</td>\n",
       "      <td>5.017092</td>\n",
       "      <td>6.112610</td>\n",
       "    </tr>\n",
       "    <tr>\n",
       "      <th>32382</th>\n",
       "      <td>train_33003.jpg</td>\n",
       "      <td>clear primary</td>\n",
       "      <td>28.447067</td>\n",
       "      <td>34.751205</td>\n",
       "      <td>16.232727</td>\n",
       "      <td>26.477000</td>\n",
       "      <td>10.732463</td>\n",
       "      <td>10.021719</td>\n",
       "      <td>8.306716</td>\n",
       "      <td>9.686966</td>\n",
       "      <td>...</td>\n",
       "      <td>1.333333</td>\n",
       "      <td>111.0</td>\n",
       "      <td>90.0</td>\n",
       "      <td>76.0</td>\n",
       "      <td>2.100518</td>\n",
       "      <td>0.739280</td>\n",
       "      <td>0.782887</td>\n",
       "      <td>0.687546</td>\n",
       "      <td>0.350953</td>\n",
       "      <td>0.527810</td>\n",
       "    </tr>\n",
       "  </tbody>\n",
       "</table>\n",
       "<p>32383 rows × 27 columns</p>\n",
       "</div>"
      ],
      "text/plain": [
       "            image_name                                               tags  \\\n",
       "0       train_3577.jpg                                       haze primary   \n",
       "1      train_10327.jpg                                      clear primary   \n",
       "2       train_1243.jpg                                clear primary water   \n",
       "3      train_17066.jpg                                      clear primary   \n",
       "4      train_15959.jpg                                      clear primary   \n",
       "...                ...                                                ...   \n",
       "32378   train_7813.jpg                          agriculture clear primary   \n",
       "32379  train_32511.jpg                                      clear primary   \n",
       "32380   train_5192.jpg                              partly_cloudy primary   \n",
       "32381  train_12172.jpg  agriculture clear cultivation habitation prima...   \n",
       "32382  train_33003.jpg                                      clear primary   \n",
       "\n",
       "          r_mean     g_mean     b_mean  rgb_mean_mean      r_std      g_std  \\\n",
       "0      33.536392  65.431900  62.715378      53.894557  13.784964  11.300903   \n",
       "1      11.404053  43.711578  17.701981      24.272537   6.197222   5.888620   \n",
       "2      24.042618  38.042938  13.600906      25.228821  15.389291  12.501424   \n",
       "3      18.135345  44.320572  40.276062      34.243993   9.198519   8.602356   \n",
       "4      16.630310  32.600525  16.318314      21.849716   9.145231   9.100885   \n",
       "...          ...        ...        ...            ...        ...        ...   \n",
       "32378  15.477585  30.640793  13.050232      19.722870  13.642089   9.437640   \n",
       "32379  24.251404  33.039978  15.311920      24.201101   9.635826   9.055283   \n",
       "32380  17.912979  38.986435  34.105347      30.334920  16.490701  16.399915   \n",
       "32381  19.452423  43.950317  22.351227      28.584656  16.530786  11.430518   \n",
       "32382  28.447067  34.751205  16.232727      26.477000  10.732463  10.021719   \n",
       "\n",
       "           b_std  rgb_mean_std  ...  rgb_mean_min  r_range  g_range  b_range  \\\n",
       "0      10.461465     11.849111  ...     17.000000    232.0    191.0    184.0   \n",
       "1       4.929450      5.671764  ...      8.333333     52.0     50.0     43.0   \n",
       "2       7.648305     11.846340  ...      4.000000    165.0    130.0    100.0   \n",
       "3       7.036161      8.279012  ...     11.000000     81.0     86.0     71.0   \n",
       "4       7.284127      8.510081  ...      2.666667     68.0     67.0     53.0   \n",
       "...          ...           ...  ...           ...      ...      ...      ...   \n",
       "32378   7.496165     10.191964  ...      3.333333    187.0    144.0    113.0   \n",
       "32379   7.181655      8.624255  ...      1.000000     88.0     93.0     57.0   \n",
       "32380  14.978230     15.956282  ...      7.333333    138.0    145.0    134.0   \n",
       "32381   9.470354     12.477220  ...      6.000000    255.0    237.0    242.0   \n",
       "32382   8.306716      9.686966  ...      1.333333    111.0     90.0     76.0   \n",
       "\n",
       "       r_kurtosis  g_kurtosis  b_kurtosis  r_skewness  g_skewness  b_skewness  \n",
       "0       13.050226    9.217388    7.321115    2.087852    1.547085    1.122272  \n",
       "1        1.327724    0.314270    0.449883    0.921156    0.416528    0.324070  \n",
       "2        4.774659    2.882907    5.042152    1.489449    1.148245    1.223912  \n",
       "3        1.052266    0.494463    0.530144    0.608870    0.297543    0.334936  \n",
       "4       -0.095879   -0.217142   -0.185950    0.407414    0.245804    0.199647  \n",
       "...           ...         ...         ...         ...         ...         ...  \n",
       "32378   31.838679   16.472478   12.185731    4.563234    2.953253    2.238615  \n",
       "32379    0.868034    0.713837    0.382141    0.539241    0.451534    0.464247  \n",
       "32380    9.176509    9.294900    9.163632    2.710161    2.721485    2.686671  \n",
       "32381   33.187836   60.916271   96.569428    4.326013    5.017092    6.112610  \n",
       "32382    2.100518    0.739280    0.782887    0.687546    0.350953    0.527810  \n",
       "\n",
       "[32383 rows x 27 columns]"
      ]
     },
     "execution_count": 8,
     "metadata": {},
     "output_type": "execute_result"
    }
   ],
   "source": [
    "train_features"
   ]
  },
  {
   "cell_type": "code",
   "execution_count": 9,
   "metadata": {},
   "outputs": [
    {
     "name": "stdout",
     "output_type": "stream",
     "text": [
      "(32383, 27)\n",
      "(8096, 27)\n"
     ]
    }
   ],
   "source": [
    "print(train_features.shape)\n",
    "print(test_features.shape)"
   ]
  },
  {
   "cell_type": "code",
   "execution_count": 11,
   "metadata": {},
   "outputs": [],
   "source": [
    "# Prepare train data\n",
    "X_train = np.array(train_features.drop(['image_name', 'tags'], axis=1))\n",
    "y_train = []\n",
    "\n",
    "flatten = lambda l: [item for sublist in l for item in sublist]\n",
    "labels = np.array(list(set(flatten([l.split(' ') for l in train_features['tags'].values]))))\n",
    "\n",
    "label_map = {l: i for i, l in enumerate(labels)}\n",
    "inv_label_map = {i: l for l, i in label_map.items()}"
   ]
  },
  {
   "cell_type": "code",
   "execution_count": 12,
   "metadata": {},
   "outputs": [
    {
     "data": {
      "text/plain": [
       "{'cloudy': 0,\n",
       " 'agriculture': 1,\n",
       " 'cultivation': 2,\n",
       " 'slash_burn': 3,\n",
       " 'partly_cloudy': 4,\n",
       " 'blow_down': 5,\n",
       " 'selective_logging': 6,\n",
       " 'bare_ground': 7,\n",
       " 'water': 8,\n",
       " 'haze': 9,\n",
       " 'artisinal_mine': 10,\n",
       " 'conventional_mine': 11,\n",
       " 'road': 12,\n",
       " 'habitation': 13,\n",
       " 'blooming': 14,\n",
       " 'clear': 15,\n",
       " 'primary': 16}"
      ]
     },
     "execution_count": 12,
     "metadata": {},
     "output_type": "execute_result"
    }
   ],
   "source": [
    "label_map"
   ]
  },
  {
   "cell_type": "code",
   "execution_count": 13,
   "metadata": {},
   "outputs": [
    {
     "data": {
      "text/plain": [
       "'haze primary'"
      ]
     },
     "execution_count": 13,
     "metadata": {},
     "output_type": "execute_result"
    }
   ],
   "source": [
    "df_train.tags.values[0]"
   ]
  },
  {
   "cell_type": "code",
   "execution_count": 14,
   "metadata": {},
   "outputs": [
    {
     "name": "stderr",
     "output_type": "stream",
     "text": [
      "100%|██████████| 32383/32383 [00:00<00:00, 327250.04it/s]\n"
     ]
    }
   ],
   "source": [
    "# Create a bag of words for train\n",
    "for tags in tqdm(df_train.tags.values, miniters=1000):\n",
    "    targets = np.zeros(17)\n",
    "    for t in tags.split(' '):\n",
    "        targets[label_map[t]] = 1 \n",
    "    y_train.append(targets)\n",
    "    \n",
    "y_train = np.array(y_train, np.uint8) # float to int"
   ]
  },
  {
   "cell_type": "code",
   "execution_count": 15,
   "metadata": {},
   "outputs": [],
   "source": [
    "n_classes = y_train.shape[1] # 17 classes in total\n",
    "\n",
    "#Create X_test dataset\n",
    "X_test = np.array(test_features.drop(['image_name', 'tags'], axis=1))\n"
   ]
  },
  {
   "cell_type": "code",
   "execution_count": 16,
   "metadata": {},
   "outputs": [],
   "source": [
    "# Train and predict with one-vs-all strategy\n",
    "train_pred = np.zeros((X_train.shape[0], n_classes)) # (num_of_train_images, n_classes=17)\n",
    "y_pred = np.zeros((X_test.shape[0], n_classes)) # (num_of_test_images, n_classes=17)"
   ]
  },
  {
   "cell_type": "code",
   "execution_count": 18,
   "metadata": {
    "scrolled": true
   },
   "outputs": [
    {
     "name": "stderr",
     "output_type": "stream",
     "text": [
      "  0%|          | 0/17 [00:00<?, ?it/s]/Users/jihoon/anaconda3/envs/tf/lib/python3.6/site-packages/xgboost/data.py:115: UserWarning: Use subset (sliced data) of np.ndarray is not recommended because it will generate extra copies and increase memory consumption\n",
      "  \"memory consumption\")\n"
     ]
    },
    {
     "name": "stdout",
     "output_type": "stream",
     "text": [
      "class_i = 0 cloudy\n"
     ]
    },
    {
     "name": "stderr",
     "output_type": "stream",
     "text": [
      "\r",
      "  6%|▌         | 1/17 [00:09<02:35,  9.74s/it]"
     ]
    },
    {
     "name": "stdout",
     "output_type": "stream",
     "text": [
      "class_i = 1 agriculture\n"
     ]
    },
    {
     "name": "stderr",
     "output_type": "stream",
     "text": [
      "\r",
      " 12%|█▏        | 2/17 [00:19<02:25,  9.68s/it]"
     ]
    },
    {
     "name": "stdout",
     "output_type": "stream",
     "text": [
      "class_i = 2 cultivation\n"
     ]
    },
    {
     "name": "stderr",
     "output_type": "stream",
     "text": [
      "\r",
      " 18%|█▊        | 3/17 [00:29<02:15,  9.66s/it]"
     ]
    },
    {
     "name": "stdout",
     "output_type": "stream",
     "text": [
      "class_i = 3 slash_burn\n"
     ]
    },
    {
     "name": "stderr",
     "output_type": "stream",
     "text": [
      "\r",
      " 24%|██▎       | 4/17 [00:37<01:58,  9.10s/it]"
     ]
    },
    {
     "name": "stdout",
     "output_type": "stream",
     "text": [
      "class_i = 4 partly_cloudy\n"
     ]
    },
    {
     "name": "stderr",
     "output_type": "stream",
     "text": [
      "\r",
      " 29%|██▉       | 5/17 [00:46<01:51,  9.28s/it]"
     ]
    },
    {
     "name": "stdout",
     "output_type": "stream",
     "text": [
      "class_i = 5 blow_down\n"
     ]
    },
    {
     "name": "stderr",
     "output_type": "stream",
     "text": [
      "\r",
      " 35%|███▌      | 6/17 [00:54<01:35,  8.73s/it]"
     ]
    },
    {
     "name": "stdout",
     "output_type": "stream",
     "text": [
      "class_i = 6 selective_logging\n"
     ]
    },
    {
     "name": "stderr",
     "output_type": "stream",
     "text": [
      "\r",
      " 41%|████      | 7/17 [01:03<01:26,  8.66s/it]"
     ]
    },
    {
     "name": "stdout",
     "output_type": "stream",
     "text": [
      "class_i = 7 bare_ground\n"
     ]
    },
    {
     "name": "stderr",
     "output_type": "stream",
     "text": [
      "\r",
      " 47%|████▋     | 8/17 [01:12<01:19,  8.84s/it]"
     ]
    },
    {
     "name": "stdout",
     "output_type": "stream",
     "text": [
      "class_i = 8 water\n"
     ]
    },
    {
     "name": "stderr",
     "output_type": "stream",
     "text": [
      "\r",
      " 53%|█████▎    | 9/17 [01:22<01:13,  9.13s/it]"
     ]
    },
    {
     "name": "stdout",
     "output_type": "stream",
     "text": [
      "class_i = 9 haze\n"
     ]
    },
    {
     "name": "stderr",
     "output_type": "stream",
     "text": [
      "\r",
      " 59%|█████▉    | 10/17 [01:31<01:05,  9.30s/it]"
     ]
    },
    {
     "name": "stdout",
     "output_type": "stream",
     "text": [
      "class_i = 10 artisinal_mine\n"
     ]
    },
    {
     "name": "stderr",
     "output_type": "stream",
     "text": [
      "\r",
      " 65%|██████▍   | 11/17 [01:39<00:52,  8.78s/it]"
     ]
    },
    {
     "name": "stdout",
     "output_type": "stream",
     "text": [
      "class_i = 11 conventional_mine\n"
     ]
    },
    {
     "name": "stderr",
     "output_type": "stream",
     "text": [
      "\r",
      " 71%|███████   | 12/17 [01:46<00:41,  8.35s/it]"
     ]
    },
    {
     "name": "stdout",
     "output_type": "stream",
     "text": [
      "class_i = 12 road\n"
     ]
    },
    {
     "name": "stderr",
     "output_type": "stream",
     "text": [
      "\r",
      " 76%|███████▋  | 13/17 [01:56<00:34,  8.70s/it]"
     ]
    },
    {
     "name": "stdout",
     "output_type": "stream",
     "text": [
      "class_i = 13 habitation\n"
     ]
    },
    {
     "name": "stderr",
     "output_type": "stream",
     "text": [
      "\r",
      " 82%|████████▏ | 14/17 [02:05<00:26,  8.93s/it]"
     ]
    },
    {
     "name": "stdout",
     "output_type": "stream",
     "text": [
      "class_i = 14 blooming\n"
     ]
    },
    {
     "name": "stderr",
     "output_type": "stream",
     "text": [
      "\r",
      " 88%|████████▊ | 15/17 [02:14<00:17,  8.80s/it]"
     ]
    },
    {
     "name": "stdout",
     "output_type": "stream",
     "text": [
      "class_i = 15 clear\n"
     ]
    },
    {
     "name": "stderr",
     "output_type": "stream",
     "text": [
      "\r",
      " 94%|█████████▍| 16/17 [02:23<00:09,  9.01s/it]"
     ]
    },
    {
     "name": "stdout",
     "output_type": "stream",
     "text": [
      "class_i = 16 primary\n"
     ]
    },
    {
     "name": "stderr",
     "output_type": "stream",
     "text": [
      "100%|██████████| 17/17 [02:32<00:00,  8.99s/it]\n"
     ]
    }
   ],
   "source": [
    "for class_i in tqdm(range(n_classes), miniters=1): \n",
    "    print(\"class_i =\", class_i, inv_label_map[class_i])\n",
    "    model = xgb.XGBClassifier(max_depth=5, learning_rate=0.1, n_estimators=250, \\\n",
    "                              objective='binary:logistic', n_jobs=-1, \\\n",
    "                              gamma=0, min_child_weight=1, max_delta_step=0, \\\n",
    "                              subsample=1, colsample_bytree=1, colsample_bylevel=1, \\\n",
    "                              reg_alpha=0, reg_lambda=1, scale_pos_weight=1, \\\n",
    "                              base_score=0.5, seed=random_seed, \\\n",
    "                              use_label_encoder=False, eval_metric='error', \\\n",
    "                             )\n",
    "    \n",
    "    model.fit(X_train, y_train[:, class_i])\n",
    "    train_pred[:, class_i] = model.predict_proba(X_train)[:,1] # prediction on train set\n",
    "    y_pred[:, class_i] = model.predict_proba(X_test)[:,1] # prediction on test set\n",
    "    "
   ]
  },
  {
   "cell_type": "code",
   "execution_count": 19,
   "metadata": {},
   "outputs": [
    {
     "name": "stdout",
     "output_type": "stream",
     "text": [
      "(8096, 17)\n",
      "[4.57968672e-05 2.57156999e-03 4.10070468e-04 4.17873434e-06\n",
      " 8.73481767e-05 8.61473236e-05 3.36833145e-05 5.27518161e-04\n",
      " 1.58886295e-02 1.62929704e-04 3.71965513e-07 4.47586353e-06\n",
      " 1.42336788e-03 4.50305088e-05 1.68495153e-05 9.99656677e-01\n",
      " 9.99892950e-01]\n"
     ]
    }
   ],
   "source": [
    "print(y_pred.shape)\n",
    "print(y_pred[0])"
   ]
  },
  {
   "cell_type": "code",
   "execution_count": 20,
   "metadata": {},
   "outputs": [],
   "source": [
    "def calc_acc(y_pred, df_test, labels=labels, threshold=0.2):\n",
    "    \n",
    "    result = np.array(y_pred)\n",
    "    result = pd.DataFrame(result, columns=labels)\n",
    "    preds = []\n",
    "    for i in range(result.shape[0]):\n",
    "        a = result.iloc[[i]]\n",
    "        a = a.apply(lambda x: x > threshold, axis=1)\n",
    "        a = a.transpose()\n",
    "        a = a.loc[a[i] == True]\n",
    "        preds.append(' '.join(list(a.index)))\n",
    "        \n",
    "    df_test['pred_tags'] = preds\n",
    "    test = df_test['tags'].apply(lambda x: x.split(' '))\n",
    "    pred = df_test['pred_tags'].apply(lambda x: x.split(' '))\n",
    "    \n",
    "    mlb = MultiLabelBinarizer()\n",
    "    test = pd.DataFrame(mlb.fit_transform(test), columns=mlb.classes_)\n",
    "    pred = pd.DataFrame(mlb.transform(pred), columns=mlb.classes_)\n",
    "    score = fbeta_score(test, pred, beta=2, average='weighted')\n",
    "    \n",
    "    return score"
   ]
  },
  {
   "cell_type": "code",
   "execution_count": 21,
   "metadata": {},
   "outputs": [
    {
     "name": "stdout",
     "output_type": "stream",
     "text": [
      "0.931687534915448\n"
     ]
    }
   ],
   "source": [
    "train_score = calc_acc(train_pred, df_train)\n",
    "print(train_score)"
   ]
  },
  {
   "cell_type": "code",
   "execution_count": 22,
   "metadata": {},
   "outputs": [
    {
     "name": "stdout",
     "output_type": "stream",
     "text": [
      "0.8721141837284199\n"
     ]
    }
   ],
   "source": [
    "test_score = calc_acc(y_pred, df_test)\n",
    "print(test_score)"
   ]
  },
  {
   "cell_type": "code",
   "execution_count": 23,
   "metadata": {
    "scrolled": true
   },
   "outputs": [
    {
     "ename": "NameError",
     "evalue": "name 'test' is not defined",
     "output_type": "error",
     "traceback": [
      "\u001b[0;31m---------------------------------------------------------------------------\u001b[0m",
      "\u001b[0;31mNameError\u001b[0m                                 Traceback (most recent call last)",
      "\u001b[0;32m<ipython-input-23-f915b25b0057>\u001b[0m in \u001b[0;36m<module>\u001b[0;34m\u001b[0m\n\u001b[0;32m----> 1\u001b[0;31m \u001b[0mprint\u001b[0m\u001b[0;34m(\u001b[0m\u001b[0mclassification_report\u001b[0m\u001b[0;34m(\u001b[0m\u001b[0mtest\u001b[0m\u001b[0;34m,\u001b[0m \u001b[0mpred\u001b[0m\u001b[0;34m,\u001b[0m \u001b[0mtarget_names\u001b[0m\u001b[0;34m=\u001b[0m\u001b[0mlabels\u001b[0m\u001b[0;34m)\u001b[0m\u001b[0;34m)\u001b[0m\u001b[0;34m\u001b[0m\u001b[0;34m\u001b[0m\u001b[0m\n\u001b[0m",
      "\u001b[0;31mNameError\u001b[0m: name 'test' is not defined"
     ]
    }
   ],
   "source": [
    "print(classification_report(test, pred, target_names=labels))"
   ]
  },
  {
   "cell_type": "code",
   "execution_count": null,
   "metadata": {},
   "outputs": [],
   "source": []
  }
 ],
 "metadata": {
  "kernelspec": {
   "display_name": "Python 3",
   "language": "python",
   "name": "python3"
  },
  "language_info": {
   "codemirror_mode": {
    "name": "ipython",
    "version": 3
   },
   "file_extension": ".py",
   "mimetype": "text/x-python",
   "name": "python",
   "nbconvert_exporter": "python",
   "pygments_lexer": "ipython3",
   "version": "3.6.13"
  }
 },
 "nbformat": 4,
 "nbformat_minor": 4
}
